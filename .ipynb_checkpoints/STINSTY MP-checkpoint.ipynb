{
 "cells": [
  {
   "cell_type": "markdown",
   "id": "a03e65f3",
   "metadata": {},
   "source": [
    "### Delete this later\n",
    "NOTE TBD: means notes for us, to be deleted"
   ]
  },
  {
   "cell_type": "markdown",
   "id": "f3730dd6",
   "metadata": {},
   "source": [
    "# STINTSY Machine Project\n",
    "#### S14 Group X\n",
    "- Aldecoa, Renzel Raphael\n",
    "- Bautista, Carlo Gabriel\n",
    "- Canicon, Jan Ambro"
   ]
  },
  {
   "cell_type": "markdown",
   "id": "4b5c9708",
   "metadata": {},
   "source": [
    "# CS:GO Cheating Dataset\n",
    "The [dataset](https://www.kaggle.com/datasets/emstatsl/csgo-cheating-dataset) used features gameplay input from players, segregated into non-cheating (henceforth \"legit\") and cheating players. The main task with the dataset is to categorize players as \"cheating\" based on their game input. There are a total of `12 000` samples in the dataset, divided into two groups of `10 000` legit players and `2 000` cheating players.\n",
    "\n",
    "The dataset has a shape of `[X, 30, 192, 5]`, with the dimensions as follows:\n",
    "- `X` — is the number of players in the subset (`10 000` legit, `2 000` cheater)\n",
    "- `30` — specifies the encounter with other players\n",
    "- `192` — in-game time increment holding player vectors and other game info\n",
    "- `5` — input sent by players such as change in aim yaw and pitch\n",
    "\n",
    "The player input dimension of the dataset can be further explained as follows:\n",
    "- `AttackerDeltaYaw`, `AttackerDeltaPitch`\n",
    "    - Change in the direction of the attacking player’s aim\n",
    "- `CrosshairToVictimYaw`, `CrosshairToVictimPitch`\n",
    "    - Distance remaining between the attacker’s crosshair and target’s hitbox\n",
    "- `Firing`\n",
    "    - Whether the attacker is firing or not\n",
    "    \n",
    "Yaw is "
   ]
  },
  {
   "cell_type": "markdown",
   "id": "480f0cc6",
   "metadata": {},
   "source": [
    "# Dependencies\n",
    "NOTE TBD: The `pip install` stuff"
   ]
  },
  {
   "cell_type": "markdown",
   "id": "3a01ec9b",
   "metadata": {},
   "source": [
    "# Library Imports"
   ]
  },
  {
   "cell_type": "code",
   "execution_count": 6,
   "id": "e459f3f0",
   "metadata": {},
   "outputs": [],
   "source": [
    "import numpy as np\n",
    "import pandas as pd\n",
    "import matplotlib.pyplot as plt"
   ]
  },
  {
   "cell_type": "markdown",
   "id": "0e159108",
   "metadata": {},
   "source": [
    "# Loading the dataset"
   ]
  },
  {
   "cell_type": "code",
   "execution_count": 26,
   "id": "f75ee4d1",
   "metadata": {},
   "outputs": [
    {
     "name": "stdout",
     "output_type": "stream",
     "text": [
      "(2000, 30, 192, 5)\n",
      "(10000, 30, 192, 5)\n"
     ]
    }
   ],
   "source": [
    "legit_data = np.load('legit.npy')\n",
    "cheaters_data = np.load('cheaters.npy')\n",
    "\n",
    "print(legit_data.shape)\n",
    "print(cheaters_data.shape)"
   ]
  },
  {
   "cell_type": "code",
   "execution_count": 51,
   "id": "933e5937",
   "metadata": {},
   "outputs": [
    {
     "data": {
      "text/html": [
       "<div>\n",
       "<style scoped>\n",
       "    .dataframe tbody tr th:only-of-type {\n",
       "        vertical-align: middle;\n",
       "    }\n",
       "\n",
       "    .dataframe tbody tr th {\n",
       "        vertical-align: top;\n",
       "    }\n",
       "\n",
       "    .dataframe thead th {\n",
       "        text-align: right;\n",
       "    }\n",
       "</style>\n",
       "<table border=\"1\" class=\"dataframe\">\n",
       "  <thead>\n",
       "    <tr style=\"text-align: right;\">\n",
       "      <th></th>\n",
       "      <th>AttackerDeltaYaw</th>\n",
       "      <th>AttackerDeltaPitch</th>\n",
       "      <th>CrosshairToVictimYaw</th>\n",
       "      <th>CrosshairToVictimPitch</th>\n",
       "      <th>Firing</th>\n",
       "    </tr>\n",
       "  </thead>\n",
       "  <tbody>\n",
       "    <tr>\n",
       "      <th>count</th>\n",
       "      <td>192.000000</td>\n",
       "      <td>192.000000</td>\n",
       "      <td>192.000000</td>\n",
       "      <td>192.000000</td>\n",
       "      <td>192.000000</td>\n",
       "    </tr>\n",
       "    <tr>\n",
       "      <th>mean</th>\n",
       "      <td>0.033094</td>\n",
       "      <td>-0.004964</td>\n",
       "      <td>-15.272003</td>\n",
       "      <td>-39.620773</td>\n",
       "      <td>0.031250</td>\n",
       "    </tr>\n",
       "    <tr>\n",
       "      <th>std</th>\n",
       "      <td>17.732798</td>\n",
       "      <td>0.549171</td>\n",
       "      <td>21.329433</td>\n",
       "      <td>41.371998</td>\n",
       "      <td>0.174448</td>\n",
       "    </tr>\n",
       "    <tr>\n",
       "      <th>min</th>\n",
       "      <td>-172.485001</td>\n",
       "      <td>-4.125000</td>\n",
       "      <td>-56.188000</td>\n",
       "      <td>-89.529999</td>\n",
       "      <td>0.000000</td>\n",
       "    </tr>\n",
       "    <tr>\n",
       "      <th>25%</th>\n",
       "      <td>-0.111000</td>\n",
       "      <td>-0.027000</td>\n",
       "      <td>-31.188499</td>\n",
       "      <td>-83.544003</td>\n",
       "      <td>0.000000</td>\n",
       "    </tr>\n",
       "    <tr>\n",
       "      <th>50%</th>\n",
       "      <td>0.000000</td>\n",
       "      <td>0.000000</td>\n",
       "      <td>-10.906000</td>\n",
       "      <td>-3.721500</td>\n",
       "      <td>0.000000</td>\n",
       "    </tr>\n",
       "    <tr>\n",
       "      <th>75%</th>\n",
       "      <td>0.057750</td>\n",
       "      <td>0.040750</td>\n",
       "      <td>-0.183000</td>\n",
       "      <td>-0.698000</td>\n",
       "      <td>0.000000</td>\n",
       "    </tr>\n",
       "    <tr>\n",
       "      <th>max</th>\n",
       "      <td>172.578995</td>\n",
       "      <td>4.120000</td>\n",
       "      <td>144.084000</td>\n",
       "      <td>0.220000</td>\n",
       "      <td>1.000000</td>\n",
       "    </tr>\n",
       "  </tbody>\n",
       "</table>\n",
       "</div>"
      ],
      "text/plain": [
       "       AttackerDeltaYaw  AttackerDeltaPitch  CrosshairToVictimYaw  \\\n",
       "count        192.000000          192.000000            192.000000   \n",
       "mean           0.033094           -0.004964            -15.272003   \n",
       "std           17.732798            0.549171             21.329433   \n",
       "min         -172.485001           -4.125000            -56.188000   \n",
       "25%           -0.111000           -0.027000            -31.188499   \n",
       "50%            0.000000            0.000000            -10.906000   \n",
       "75%            0.057750            0.040750             -0.183000   \n",
       "max          172.578995            4.120000            144.084000   \n",
       "\n",
       "       CrosshairToVictimPitch      Firing  \n",
       "count              192.000000  192.000000  \n",
       "mean               -39.620773    0.031250  \n",
       "std                 41.371998    0.174448  \n",
       "min                -89.529999    0.000000  \n",
       "25%                -83.544003    0.000000  \n",
       "50%                 -3.721500    0.000000  \n",
       "75%                 -0.698000    0.000000  \n",
       "max                  0.220000    1.000000  "
      ]
     },
     "execution_count": 51,
     "metadata": {},
     "output_type": "execute_result"
    }
   ],
   "source": [
    "legit_df.describe()"
   ]
  },
  {
   "cell_type": "code",
   "execution_count": 53,
   "id": "79bf78ca",
   "metadata": {},
   "outputs": [
    {
     "data": {
      "text/html": [
       "<div>\n",
       "<style scoped>\n",
       "    .dataframe tbody tr th:only-of-type {\n",
       "        vertical-align: middle;\n",
       "    }\n",
       "\n",
       "    .dataframe tbody tr th {\n",
       "        vertical-align: top;\n",
       "    }\n",
       "\n",
       "    .dataframe thead th {\n",
       "        text-align: right;\n",
       "    }\n",
       "</style>\n",
       "<table border=\"1\" class=\"dataframe\">\n",
       "  <thead>\n",
       "    <tr style=\"text-align: right;\">\n",
       "      <th></th>\n",
       "      <th>AttackerDeltaYaw</th>\n",
       "      <th>AttackerDeltaPitch</th>\n",
       "      <th>CrosshairToVictimYaw</th>\n",
       "      <th>CrosshairToVictimPitch</th>\n",
       "      <th>Firing</th>\n",
       "    </tr>\n",
       "  </thead>\n",
       "  <tbody>\n",
       "    <tr>\n",
       "      <th>count</th>\n",
       "      <td>192.000000</td>\n",
       "      <td>192.000000</td>\n",
       "      <td>192.00000</td>\n",
       "      <td>192.00000</td>\n",
       "      <td>192.000000</td>\n",
       "    </tr>\n",
       "    <tr>\n",
       "      <th>mean</th>\n",
       "      <td>-0.010401</td>\n",
       "      <td>-0.000792</td>\n",
       "      <td>2.47249</td>\n",
       "      <td>-0.79512</td>\n",
       "      <td>0.005208</td>\n",
       "    </tr>\n",
       "    <tr>\n",
       "      <th>std</th>\n",
       "      <td>0.812105</td>\n",
       "      <td>0.151031</td>\n",
       "      <td>7.39899</td>\n",
       "      <td>1.38402</td>\n",
       "      <td>0.072169</td>\n",
       "    </tr>\n",
       "    <tr>\n",
       "      <th>min</th>\n",
       "      <td>-3.851000</td>\n",
       "      <td>-0.758000</td>\n",
       "      <td>-7.60700</td>\n",
       "      <td>-4.17800</td>\n",
       "      <td>0.000000</td>\n",
       "    </tr>\n",
       "    <tr>\n",
       "      <th>25%</th>\n",
       "      <td>-0.099000</td>\n",
       "      <td>0.000000</td>\n",
       "      <td>-3.88325</td>\n",
       "      <td>-1.66750</td>\n",
       "      <td>0.000000</td>\n",
       "    </tr>\n",
       "    <tr>\n",
       "      <th>50%</th>\n",
       "      <td>0.000000</td>\n",
       "      <td>0.000000</td>\n",
       "      <td>-0.52850</td>\n",
       "      <td>-1.01700</td>\n",
       "      <td>0.000000</td>\n",
       "    </tr>\n",
       "    <tr>\n",
       "      <th>75%</th>\n",
       "      <td>0.049000</td>\n",
       "      <td>0.000000</td>\n",
       "      <td>8.83825</td>\n",
       "      <td>-0.20950</td>\n",
       "      <td>0.000000</td>\n",
       "    </tr>\n",
       "    <tr>\n",
       "      <th>max</th>\n",
       "      <td>4.911000</td>\n",
       "      <td>0.494000</td>\n",
       "      <td>15.90300</td>\n",
       "      <td>2.02300</td>\n",
       "      <td>1.000000</td>\n",
       "    </tr>\n",
       "  </tbody>\n",
       "</table>\n",
       "</div>"
      ],
      "text/plain": [
       "       AttackerDeltaYaw  AttackerDeltaPitch  CrosshairToVictimYaw  \\\n",
       "count        192.000000          192.000000             192.00000   \n",
       "mean          -0.010401           -0.000792               2.47249   \n",
       "std            0.812105            0.151031               7.39899   \n",
       "min           -3.851000           -0.758000              -7.60700   \n",
       "25%           -0.099000            0.000000              -3.88325   \n",
       "50%            0.000000            0.000000              -0.52850   \n",
       "75%            0.049000            0.000000               8.83825   \n",
       "max            4.911000            0.494000              15.90300   \n",
       "\n",
       "       CrosshairToVictimPitch      Firing  \n",
       "count               192.00000  192.000000  \n",
       "mean                 -0.79512    0.005208  \n",
       "std                   1.38402    0.072169  \n",
       "min                  -4.17800    0.000000  \n",
       "25%                  -1.66750    0.000000  \n",
       "50%                  -1.01700    0.000000  \n",
       "75%                  -0.20950    0.000000  \n",
       "max                   2.02300    1.000000  "
      ]
     },
     "execution_count": 53,
     "metadata": {},
     "output_type": "execute_result"
    }
   ],
   "source": [
    "cheaters_df.describe()"
   ]
  },
  {
   "cell_type": "code",
   "execution_count": 54,
   "id": "222d648c",
   "metadata": {},
   "outputs": [
    {
     "ename": "ValueError",
     "evalue": "Must pass 2-d input. shape=(30, 192, 5)",
     "output_type": "error",
     "traceback": [
      "\u001b[1;31m---------------------------------------------------------------------------\u001b[0m",
      "\u001b[1;31mValueError\u001b[0m                                Traceback (most recent call last)",
      "\u001b[1;32m<ipython-input-54-4fe031199d46>\u001b[0m in \u001b[0;36m<module>\u001b[1;34m\u001b[0m\n\u001b[1;32m----> 1\u001b[1;33m \u001b[0mtest\u001b[0m \u001b[1;33m=\u001b[0m \u001b[0mpd\u001b[0m\u001b[1;33m.\u001b[0m\u001b[0mDataFrame\u001b[0m\u001b[1;33m(\u001b[0m\u001b[0mcheaters_data\u001b[0m\u001b[1;33m[\u001b[0m\u001b[1;36m0\u001b[0m\u001b[1;33m]\u001b[0m\u001b[1;33m,\u001b[0m \u001b[0mindex\u001b[0m\u001b[1;33m=\u001b[0m\u001b[0mrows\u001b[0m\u001b[1;33m,\u001b[0m \u001b[0mcolumns\u001b[0m\u001b[1;33m=\u001b[0m\u001b[0mcols\u001b[0m\u001b[1;33m)\u001b[0m\u001b[1;33m\u001b[0m\u001b[1;33m\u001b[0m\u001b[0m\n\u001b[0m",
      "\u001b[1;32m~\\anaconda3\\lib\\site-packages\\pandas\\core\\frame.py\u001b[0m in \u001b[0;36m__init__\u001b[1;34m(self, data, index, columns, dtype, copy)\u001b[0m\n\u001b[0;32m    556\u001b[0m                 \u001b[0mmgr\u001b[0m \u001b[1;33m=\u001b[0m \u001b[0minit_dict\u001b[0m\u001b[1;33m(\u001b[0m\u001b[1;33m{\u001b[0m\u001b[0mdata\u001b[0m\u001b[1;33m.\u001b[0m\u001b[0mname\u001b[0m\u001b[1;33m:\u001b[0m \u001b[0mdata\u001b[0m\u001b[1;33m}\u001b[0m\u001b[1;33m,\u001b[0m \u001b[0mindex\u001b[0m\u001b[1;33m,\u001b[0m \u001b[0mcolumns\u001b[0m\u001b[1;33m,\u001b[0m \u001b[0mdtype\u001b[0m\u001b[1;33m=\u001b[0m\u001b[0mdtype\u001b[0m\u001b[1;33m)\u001b[0m\u001b[1;33m\u001b[0m\u001b[1;33m\u001b[0m\u001b[0m\n\u001b[0;32m    557\u001b[0m             \u001b[1;32melse\u001b[0m\u001b[1;33m:\u001b[0m\u001b[1;33m\u001b[0m\u001b[1;33m\u001b[0m\u001b[0m\n\u001b[1;32m--> 558\u001b[1;33m                 \u001b[0mmgr\u001b[0m \u001b[1;33m=\u001b[0m \u001b[0minit_ndarray\u001b[0m\u001b[1;33m(\u001b[0m\u001b[0mdata\u001b[0m\u001b[1;33m,\u001b[0m \u001b[0mindex\u001b[0m\u001b[1;33m,\u001b[0m \u001b[0mcolumns\u001b[0m\u001b[1;33m,\u001b[0m \u001b[0mdtype\u001b[0m\u001b[1;33m=\u001b[0m\u001b[0mdtype\u001b[0m\u001b[1;33m,\u001b[0m \u001b[0mcopy\u001b[0m\u001b[1;33m=\u001b[0m\u001b[0mcopy\u001b[0m\u001b[1;33m)\u001b[0m\u001b[1;33m\u001b[0m\u001b[1;33m\u001b[0m\u001b[0m\n\u001b[0m\u001b[0;32m    559\u001b[0m \u001b[1;33m\u001b[0m\u001b[0m\n\u001b[0;32m    560\u001b[0m         \u001b[1;31m# For data is list-like, or Iterable (will consume into list)\u001b[0m\u001b[1;33m\u001b[0m\u001b[1;33m\u001b[0m\u001b[1;33m\u001b[0m\u001b[0m\n",
      "\u001b[1;32m~\\anaconda3\\lib\\site-packages\\pandas\\core\\internals\\construction.py\u001b[0m in \u001b[0;36minit_ndarray\u001b[1;34m(values, index, columns, dtype, copy)\u001b[0m\n\u001b[0;32m    190\u001b[0m     \u001b[1;31m# by definition an array here\u001b[0m\u001b[1;33m\u001b[0m\u001b[1;33m\u001b[0m\u001b[1;33m\u001b[0m\u001b[0m\n\u001b[0;32m    191\u001b[0m     \u001b[1;31m# the dtypes will be coerced to a single dtype\u001b[0m\u001b[1;33m\u001b[0m\u001b[1;33m\u001b[0m\u001b[1;33m\u001b[0m\u001b[0m\n\u001b[1;32m--> 192\u001b[1;33m     \u001b[0mvalues\u001b[0m \u001b[1;33m=\u001b[0m \u001b[0m_prep_ndarray\u001b[0m\u001b[1;33m(\u001b[0m\u001b[0mvalues\u001b[0m\u001b[1;33m,\u001b[0m \u001b[0mcopy\u001b[0m\u001b[1;33m=\u001b[0m\u001b[0mcopy\u001b[0m\u001b[1;33m)\u001b[0m\u001b[1;33m\u001b[0m\u001b[1;33m\u001b[0m\u001b[0m\n\u001b[0m\u001b[0;32m    193\u001b[0m \u001b[1;33m\u001b[0m\u001b[0m\n\u001b[0;32m    194\u001b[0m     \u001b[1;32mif\u001b[0m \u001b[0mdtype\u001b[0m \u001b[1;32mis\u001b[0m \u001b[1;32mnot\u001b[0m \u001b[1;32mNone\u001b[0m \u001b[1;32mand\u001b[0m \u001b[1;32mnot\u001b[0m \u001b[0mis_dtype_equal\u001b[0m\u001b[1;33m(\u001b[0m\u001b[0mvalues\u001b[0m\u001b[1;33m.\u001b[0m\u001b[0mdtype\u001b[0m\u001b[1;33m,\u001b[0m \u001b[0mdtype\u001b[0m\u001b[1;33m)\u001b[0m\u001b[1;33m:\u001b[0m\u001b[1;33m\u001b[0m\u001b[1;33m\u001b[0m\u001b[0m\n",
      "\u001b[1;32m~\\anaconda3\\lib\\site-packages\\pandas\\core\\internals\\construction.py\u001b[0m in \u001b[0;36m_prep_ndarray\u001b[1;34m(values, copy)\u001b[0m\n\u001b[0;32m    326\u001b[0m         \u001b[0mvalues\u001b[0m \u001b[1;33m=\u001b[0m \u001b[0mvalues\u001b[0m\u001b[1;33m.\u001b[0m\u001b[0mreshape\u001b[0m\u001b[1;33m(\u001b[0m\u001b[1;33m(\u001b[0m\u001b[0mvalues\u001b[0m\u001b[1;33m.\u001b[0m\u001b[0mshape\u001b[0m\u001b[1;33m[\u001b[0m\u001b[1;36m0\u001b[0m\u001b[1;33m]\u001b[0m\u001b[1;33m,\u001b[0m \u001b[1;36m1\u001b[0m\u001b[1;33m)\u001b[0m\u001b[1;33m)\u001b[0m\u001b[1;33m\u001b[0m\u001b[1;33m\u001b[0m\u001b[0m\n\u001b[0;32m    327\u001b[0m     \u001b[1;32melif\u001b[0m \u001b[0mvalues\u001b[0m\u001b[1;33m.\u001b[0m\u001b[0mndim\u001b[0m \u001b[1;33m!=\u001b[0m \u001b[1;36m2\u001b[0m\u001b[1;33m:\u001b[0m\u001b[1;33m\u001b[0m\u001b[1;33m\u001b[0m\u001b[0m\n\u001b[1;32m--> 328\u001b[1;33m         \u001b[1;32mraise\u001b[0m \u001b[0mValueError\u001b[0m\u001b[1;33m(\u001b[0m\u001b[1;34mf\"Must pass 2-d input. shape={values.shape}\"\u001b[0m\u001b[1;33m)\u001b[0m\u001b[1;33m\u001b[0m\u001b[1;33m\u001b[0m\u001b[0m\n\u001b[0m\u001b[0;32m    329\u001b[0m \u001b[1;33m\u001b[0m\u001b[0m\n\u001b[0;32m    330\u001b[0m     \u001b[1;32mreturn\u001b[0m \u001b[0mvalues\u001b[0m\u001b[1;33m\u001b[0m\u001b[1;33m\u001b[0m\u001b[0m\n",
      "\u001b[1;31mValueError\u001b[0m: Must pass 2-d input. shape=(30, 192, 5)"
     ]
    }
   ],
   "source": [
    "test = pd.DataFrame(cheaters_data[0], index=rows, columns=cols)"
   ]
  },
  {
   "cell_type": "code",
   "execution_count": 34,
   "id": "56d1a0db",
   "metadata": {},
   "outputs": [],
   "source": [
    "cols = ['AttackerDeltaYaw', 'AttackerDeltaPitch', 'CrosshairToVictimYaw', 'CrosshairToVictimPitch', 'Firing']\n",
    "rows = ['Tick ' + str(i) for i in range(1, 193)]\n",
    "\n",
    "legit_df = pd.DataFrame(legit_data[0][0], index=rows, columns=cols)\n",
    "cheaters_df = pd.DataFrame(cheaters_data[0][0], index=rows, columns=cols)"
   ]
  },
  {
   "cell_type": "code",
   "execution_count": 49,
   "id": "c9d9dc54",
   "metadata": {},
   "outputs": [
    {
     "data": {
      "text/plain": [
       "[<matplotlib.lines.Line2D at 0x2d41ff8d400>]"
      ]
     },
     "execution_count": 49,
     "metadata": {},
     "output_type": "execute_result"
    },
    {
     "data": {
      "image/png": "[encoded data removed]",
      "text/plain": [
       "<Figure size 432x288 with 1 Axes>"
      ]
     },
     "metadata": {
      "needs_background": "light"
     },
     "output_type": "display_data"
    }
   ],
   "source": [
    "plt.plot(legit_df['CrosshairToVictimYaw'])"
   ]
  },
  {
   "cell_type": "code",
   "execution_count": 46,
   "id": "a22a0820",
   "metadata": {},
   "outputs": [
    {
     "data": {
      "text/plain": [
       "<matplotlib.legend.Legend at 0x2d41e84b220>"
      ]
     },
     "execution_count": 46,
     "metadata": {},
     "output_type": "execute_result"
    },
    {
     "data": {
      "image/png": "[encoded data removed]",
      "text/plain": [
       "<Figure size 720x360 with 2 Axes>"
      ]
     },
     "metadata": {
      "needs_background": "light"
     },
     "output_type": "display_data"
    }
   ],
   "source": [
    "fig = plt.figure(figsize=(10,5))\n",
    "\n",
    "ax1 = fig.add_subplot(121)\n",
    "plt.plot(rows, legit_df['CrosshairToVictimYaw'], label='CrosshairToVictimYaw')\n",
    "plt.plot(rows, legit_df['AttackerDeltaYaw'], label='AttackerDeltaYaw')\n",
    "plt.legend()\n",
    "ax1.set_title('Legit')\n",
    "\n",
    "ax2 = fig.add_subplot(122)\n",
    "plt.plot(rows, cheaters_df['CrosshairToVictimYaw'], label='CrosshairToVictimYaw')\n",
    "plt.plot(rows, cheaters_df['AttackerDeltaYaw'], label='AttackerDeltaYaw')\n",
    "plt.legend()"
   ]
  }
 ],
 "metadata": {
  "kernelspec": {
   "display_name": "Python 3",
   "language": "python",
   "name": "python3"
  },
  "language_info": {
   "codemirror_mode": {
    "name": "ipython",
    "version": 3
   },
   "file_extension": ".py",
   "mimetype": "text/x-python",
   "name": "python",
   "nbconvert_exporter": "python",
   "pygments_lexer": "ipython3",
   "version": "3.8.8"
  }
 },
 "nbformat": 4,
 "nbformat_minor": 5
}
