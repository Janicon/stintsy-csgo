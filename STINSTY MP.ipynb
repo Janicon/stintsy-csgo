{
 "cells": [
  {
   "cell_type": "markdown",
   "id": "f39e0a6d",
   "metadata": {},
   "source": [
    "# CS:GO Cheater Identification\n",
    "#### S14 Group 6\n",
    "- Aldecoa, Renzel Raphael\n",
    "- Bautista, Carlo Gabriel\n",
    "- Canicon, Jan Ambro\n",
    "\n",
    "Footnote: We suggest reading through the notebook first before running as our hyperparameter tunings were very slow, and we made it a point to keep the code cell outputs of the notebook uncleared for submission and viewing."
   ]
  },
  {
   "cell_type": "markdown",
   "id": "35b6eff0",
   "metadata": {},
   "source": [
    "# CS:GO Cheating Dataset\n",
    "Counter-Strike: Global Offensive (CS:GO) is a first-person tactical shooter for PC. It comes with a competitive ranked game mode where people play against players of a similar skill level in order to try and improve their rank. One of the major problems for playing the ranked playlist is the chance of encountering a cheater, of which almost guarantees the loss of the team facing against players using cheats. CS:GO has an anti-cheat system through the Valve Anti-Cheat, however this functions by detecting the interaction of external application with the game files. To detect cheaters, machine learning may be used to detect patterns in their playstyle, such as how they can lock onto targets using cheats. In theory, a cheater will have **more consistent input** or **instantaneous changes in aim direction** in between timestamps.\n",
    "\n",
    "The [dataset from Kaggle](https://www.kaggle.com/datasets/emstatsl/csgo-cheating-dataset) used contains gameplay input from players, segregated into non-cheating (\"**legit**\") and cheating players (\"**cheaters**\"). The main task with the dataset is to categorize players as cheating or not based on their game input. There are a total of `12 000` samples in the dataset, divided into two groups of `10 000` legit players and `2 000` cheaters.\n",
    "\n",
    "***\n",
    "\n",
    "The dataset has a shape of `[X, 30, 192, 5]`, named as `[player, engagement, game_tick, player_input]`.\n",
    "\n",
    "**Player**\n",
    "- This refers to the number of players in the subset\n",
    "- There are `10 000` legit players and `2 000` cheaters\n",
    "\n",
    "**Engagement**\n",
    "- This specifies the encounter with other players\n",
    "\n",
    "**Game Tick**\n",
    "- This is the in-game time increment that holds player vectors and other game information\n",
    "- CS:GO competitive servers commonly have 64 ticks in a second, meaning that this is 3 seconds worth of input\n",
    "\n",
    "**Player Input**\n",
    "- Input sent by players, **which are the main features of the dataset**\n",
    "\n",
    "***\n",
    "\n",
    "The **Player Input** features of the dataset are divided into a list as `[AttackerDeltaYaw, AttackerDeltaPitch, CrosshairToVictimYaw, CrosshairToVictimPitch, Firing]`.\n",
    "\n",
    "**AttackerDeltaYaw** and **AttackerDeltaPitch**\n",
    "- Change in the direction of the attacking player’s aim\n",
    "- The higher this is, the higher the speed of the mouse input\n",
    "\n",
    "**CrosshairToVictimYaw** and **CrosshairToVictimPitch**\n",
    "- Distance remaining between the attacker’s crosshair and target’s hitbox\n",
    "- The lower this is, the closer the attacker's crosshair is to the target\n",
    "\n",
    "**Firing**\n",
    "    - Whether the attacker is firing or not\n",
    "\n",
    "Additionally note that *Yaw* refers to the left-right movement axis, and *Pitch* refers to up-down movement axis. These are measures in 360-degrees, with a range of `[-180, 180]`."
   ]
  },
  {
   "cell_type": "markdown",
   "id": "da7f0a04",
   "metadata": {},
   "source": [
    "# Dependencies\n",
    "- [CS:GO Cheating Dataset](https://www.kaggle.com/datasets/emstatsl/csgo-cheating-dataset) (Both legit.npy and cheaters.npy)\n",
    "    - For use here, each file must be located in the same directory as the notebook\n",
    "- numpy\n",
    "- pandas\n",
    "- matplotlib\n",
    "- sklearn\n",
    "- TensorFlow\n",
    "- Keras\n",
    "- Keras-tuner"
   ]
  },
  {
   "cell_type": "markdown",
   "id": "f5ff5d48",
   "metadata": {},
   "source": [
    "# Library Imports and Notebook Initialization"
   ]
  },
  {
   "cell_type": "code",
   "execution_count": 47,
   "id": "e459f3f0",
   "metadata": {},
   "outputs": [],
   "source": [
    "# Core Libraries\n",
    "import numpy as np\n",
    "import pandas as pd\n",
    "import matplotlib.pyplot as plt\n",
    "\n",
    "# Preprocessing\n",
    "from sklearn.preprocessing import MinMaxScaler\n",
    "from sklearn.model_selection import train_test_split\n",
    "\n",
    "# Interpretation\n",
    "from sklearn.metrics import accuracy_score, precision_score, recall_score\n",
    "\n",
    "# Hyperparameter Tuning\n",
    "from sklearn.model_selection import RandomizedSearchCV\n",
    "from sklearn.model_selection import GridSearchCV\n",
    "\n",
    "# Logistic Regression\n",
    "from sklearn.linear_model import LogisticRegression\n",
    "\n",
    "# Naive Bayes\n",
    "from sklearn.naive_bayes import MultinomialNB\n",
    "\n",
    "# Decision Tree/Ensemble Models\n",
    "from sklearn.tree import DecisionTreeClassifier\n",
    "from sklearn.ensemble import RandomForestClassifier\n",
    "\n",
    "# Neural Network\n",
    "import tensorflow as tf\n",
    "from tensorflow import keras\n",
    "from tensorflow.keras.layers import Dense\n",
    "from tensorflow.keras import layers\n",
    "from keras.models import Sequential\n",
    "from keras.layers import Dense, Flatten, Dropout\n",
    "from tensorflow.python.client import device_lib\n",
    "import keras_tuner\n",
    "\n",
    "# Fix floats to display decimals instead of exponential notation\n",
    "pd.options.display.float_format = '{0:.4f}'.format"
   ]
  },
  {
   "cell_type": "markdown",
   "id": "9ceee149",
   "metadata": {},
   "source": [
    "## Loading the dataset"
   ]
  },
  {
   "cell_type": "code",
   "execution_count": 79,
   "id": "f75ee4d1",
   "metadata": {},
   "outputs": [
    {
     "name": "stdout",
     "output_type": "stream",
     "text": [
      "Legit: (10000, 30, 192, 5)\n",
      "Cheaters: (2000, 30, 192, 5)\n"
     ]
    }
   ],
   "source": [
    "legit_data = np.load('legit.npy')\n",
    "cheaters_data = np.load('cheaters.npy')\n",
    "\n",
    "print('Legit:', legit_data.shape)\n",
    "print('Cheaters:', cheaters_data.shape)"
   ]
  },
  {
   "cell_type": "markdown",
   "id": "259c7f0f",
   "metadata": {},
   "source": [
    "# Exploratory Data Analysis\n",
    "Theories\n",
    "- If yaw/pitch move by X, cheater crosshair should move X closer to target\n",
    "- Cheaters have low CrosshairToVictimPitch (aim is locked on, or always very close)\n",
    "\n",
    "TODO\n",
    "- Cheaters data may not be all instances of cheating\n",
    "- Some suspicious behavior from legit may be because of ingame strategy (i.e. trigger discipline)\n",
    "- Accuracy is likely to be impacted because of these ambiguous characteristics, unspecified by dataset creator\n",
    "- Graph of cheater that does not appear cheating, graph of legit that appears cheating\n",
    "- Cheating = consistently low CrosshairToTarget"
   ]
  },
  {
   "cell_type": "code",
   "execution_count": 3,
   "id": "54a4552b",
   "metadata": {},
   "outputs": [
    {
     "data": {
      "image/png": "[encoded data removed]",
      "text/plain": [
       "<Figure size 1080x504 with 8 Axes>"
      ]
     },
     "metadata": {
      "needs_background": "light"
     },
     "output_type": "display_data"
    }
   ],
   "source": [
    "movements = [\n",
    "    legit_data[:, 0, :, 0],\n",
    "    legit_data[:, 0, :, 1],\n",
    "    legit_data[:, 0, :, 2],\n",
    "    legit_data[:, 0, :, 3],\n",
    "    cheaters_data[:, 0, :, 0],\n",
    "    cheaters_data[:, 0, :, 1],\n",
    "    cheaters_data[:, 0, :, 2],\n",
    "    cheaters_data[:, 0, :, 3]\n",
    "]\n",
    "labels = [\n",
    "    'Legit - AttackerDeltaYaw',\n",
    "    'Legit - AttackerDeltaPitch',\n",
    "    'Legit - CrosshairToVictimYaw',\n",
    "    'Legit - CrosshairToVictimPitch',\n",
    "    'Cheater - AttackerDeltaYaw',\n",
    "    'Cheater - AttackerDeltaPitch',\n",
    "    'Cheater - CrosshairToVictimYaw',\n",
    "    'Cheater - CrosshairToVictimPitch'\n",
    "]\n",
    "\n",
    "fig, axs = plt.subplots(4, 2, figsize=(15, 7), sharex=True)\n",
    "for ax, movement, label in zip(axs.flatten(order='F'), movements, labels):\n",
    "    ax.scatter(movement, np.zeros_like(movement), color='black')\n",
    "    ax.set_title(label)\n",
    "    ax.set_yticklabels([])\n",
    "plt.show()"
   ]
  },
  {
   "cell_type": "markdown",
   "id": "21e5f945",
   "metadata": {},
   "source": [
    "It can be seen that the values are spread across a wide range, which is is understandable because players can aim in a 360-degree area. However, values like these will not be removed as there exists cheats in CS:GO wherein cheaters can instantaneously lock-in on a target behind or below them. The scatter plot of `Cheater - AttackDeltaYaw` is interesting because it does not show a completely solid line unlike the Legit counterpart. What this can mean is that the input of Cheaters have significantly less variation compared to Legit players.\n",
    "\n",
    "Since there is a large disparity between the values of the dataset, preprocessing through normalization must be done."
   ]
  },
  {
   "cell_type": "markdown",
   "id": "0ddf3986",
   "metadata": {},
   "source": [
    "We can also check the changes in the players' aim and the distance of their crosshair to the targets as time goes by. We manually go through the instances in order to look for behaviors that match our assumptions."
   ]
  },
  {
   "cell_type": "code",
   "execution_count": 4,
   "id": "fbc7b407",
   "metadata": {},
   "outputs": [
    {
     "data": {
      "image/png": "[encoded data removed]",
      "text/plain": [
       "<Figure size 864x720 with 4 Axes>"
      ]
     },
     "metadata": {
      "needs_background": "light"
     },
     "output_type": "display_data"
    }
   ],
   "source": [
    "# Gets specific player engagement\n",
    "# Legit range [0:9999][0:29]\n",
    "# Cheater range [0:1999][0:29]\n",
    "legit = legit_data[0, 0, :, :]\n",
    "cheater = cheaters_data[0, 0, :, :]\n",
    "\n",
    "legit_firing = np.where(legit[:, 4] == 1)\n",
    "cheater_firing = np.where(cheater[:, 4] == 1)\n",
    "\n",
    "fig = plt.figure(figsize=(12,10))\n",
    "\n",
    "ax1 = fig.add_subplot(411)\n",
    "ax1.set_title('Legit Yaw over time')\n",
    "plt.plot(legit[:, 0], label='AttackerDeltaYaw')\n",
    "plt.plot(legit[:, 2], label='CrosshairToVictimYaw')\n",
    "[plt.axvline(x, linewidth=1, color='r') for x in legit_firing[0]]\n",
    "ax1.lines[-1].set_label('Weapon fired')\n",
    "ax1.set_ylim([-180, 180])\n",
    "ax1.set_xlabel('Game Tick')\n",
    "ax1.set_ylabel('Yaw')\n",
    "plt.legend(loc='upper left')\n",
    "\n",
    "ax2 = fig.add_subplot(412)\n",
    "ax2.set_title('Legit Pitch over time')\n",
    "plt.plot(legit[:, 1], label='AttackerDeltaPitch')\n",
    "plt.plot(legit[:, 3], label='CrosshairToVictimPitch')\n",
    "[plt.axvline(x, linewidth=1, color='r') for x in legit_firing[0]]\n",
    "ax2.lines[-1].set_label('Weapon fired')\n",
    "ax2.set_ylim([-180, 180])\n",
    "ax2.set_xlabel('Game Tick')\n",
    "ax2.set_ylabel('Pitch')\n",
    "plt.legend(loc='upper left')\n",
    "\n",
    "ax3 = fig.add_subplot(413)\n",
    "ax3.set_title('Cheater Yaw over time')\n",
    "plt.plot(cheater[:, 0], label='AttackerDeltaYaw')\n",
    "plt.plot(cheater[:, 2], label='CrosshairToVictimYaw')\n",
    "[plt.axvline(x, linewidth=1, color='r') for x in cheater_firing[0]]\n",
    "ax3.lines[-1].set_label('Weapon fired')\n",
    "ax3.set_ylim([-180, 180])\n",
    "ax3.set_xlabel('Game Tick')\n",
    "ax3.set_ylabel('Yaw')\n",
    "plt.legend(loc='upper left')\n",
    "\n",
    "ax4 = fig.add_subplot(414)\n",
    "ax4.set_title('Cheater Yaw over time')\n",
    "plt.plot(cheater[:, 1], label='AttackerDeltaPitch')\n",
    "plt.plot(cheater[:, 3], label='CrosshairToVictimPitch')\n",
    "[plt.axvline(x, linewidth=1, color='r') for x in cheater_firing[0]]\n",
    "ax4.lines[-1].set_label('Weapon fired')\n",
    "ax4.set_ylim([-180, 180])\n",
    "ax4.set_xlabel('Game Tick')\n",
    "ax4.set_ylabel('Pitch')\n",
    "plt.legend(loc='upper left')\n",
    "\n",
    "fig.tight_layout()"
   ]
  },
  {
   "cell_type": "markdown",
   "id": "04c774e3",
   "metadata": {},
   "source": [
    "Notice that in the time series graph of a Legit player's Yaw, the direction jumps from the bottom of the negative area to the top of the positive area. Behavior like this is not abnormal; yaw vectors wrap around the `-180` and `+180` limits since they signify the start and end points of the 360-degree aiming area.\n",
    "\n",
    "What is notable about these two graphs displaying Legit and Cheater aim vectors over time is that the Cheater's pitch and yaw is completely consistent across the 192 ticks of time, which is 3 seconds. Additionally, the `AttackerDelta` and `CrosshairToVictim` of the Cheater mirror each other for both pitch and yaw—this means that each change in the Cheater's aim moves the crosshair towards the target. This is an important note as to how the aiming direction of a Cheater is likely to behave. Notice as well that the Legit player fires several times during the time that the `CrosshairToVictim` is closest to zero, whereas the `Cheater` only fires once, signifying a likelihood that the Cheater hit their shot on the first try. With these, we can assume that a Cheater's behavior is noticeably different from that of a Legit player."
   ]
  },
  {
   "cell_type": "markdown",
   "id": "0e94fb44",
   "metadata": {},
   "source": [
    "One limitation is that while the author of the dataset identified the cheaters, they did not specify if all engagements of the cheaters are instances of cheating. If that is not the case, it will impact the training and the accuracy of the model later on if, for example, a cheater cheats in only 1 engagement out of 30. Using the following code, we manually sifted through the Cheater dataset to verify if it is completely comprised of instances of cheating. From what we analyzed, it seems that the entire Cheater dataset is completely composed of instances of cheating; thus all work on the models is under this assumption."
   ]
  },
  {
   "cell_type": "code",
   "execution_count": 80,
   "id": "5c5131b3",
   "metadata": {},
   "outputs": [
    {
     "data": {
      "image/png": "[encoded data removed]",
      "text/plain": [
       "<Figure size 864x360 with 2 Axes>"
      ]
     },
     "metadata": {
      "needs_background": "light"
     },
     "output_type": "display_data"
    }
   ],
   "source": [
    "# CHANGE THESE\n",
    "# 0 -1999\n",
    "player = 0\n",
    "# 0 - 29\n",
    "engagement = 0\n",
    "\n",
    "# Gets specific player engagement\n",
    "cheater = cheaters_data[player, engagement, :, :]\n",
    "cheater_firing = np.where(cheater[:, 4] == 1)\n",
    "\n",
    "fig = plt.figure(figsize=(12,5))\n",
    "\n",
    "ax3 = fig.add_subplot(211)\n",
    "ax3.set_title('Player Yaw')\n",
    "plt.plot(cheater[:, 0], label='AttackerDeltaYaw')\n",
    "plt.plot(cheater[:, 2], label='CrosshairToVictimYaw')\n",
    "[plt.axvline(x, linewidth=1, color='r') for x in cheater_firing[0]]\n",
    "ax3.lines[-1].set_label('Weapon fired')\n",
    "ax3.set_ylim([-180, 180])\n",
    "ax3.set_xlabel('Game Tick')\n",
    "ax3.set_ylabel('Yaw')\n",
    "plt.legend(loc='upper left')\n",
    "\n",
    "ax4 = fig.add_subplot(212)\n",
    "ax4.set_title('Player Pitch')\n",
    "plt.plot(cheater[:, 1], label='AttackerDeltaPitch')\n",
    "plt.plot(cheater[:, 3], label='CrosshairToVictimPitch')\n",
    "[plt.axvline(x, linewidth=1, color='r') for x in cheater_firing[0]]\n",
    "ax4.lines[-1].set_label('Weapon fired')\n",
    "ax4.set_ylim([-180, 180])\n",
    "ax4.set_xlabel('Game Tick')\n",
    "ax4.set_ylabel('Pitch')\n",
    "plt.legend(loc='upper left')\n",
    "\n",
    "fig.tight_layout()"
   ]
  },
  {
   "cell_type": "markdown",
   "id": "d31498e9",
   "metadata": {},
   "source": [
    "Here are the working assumptions for the interpretation of the preceding graph, that signifies cheating behavior:\n",
    "- Consistent `CrosshairToVictim` vector across the entire time period\n",
    "- Overly-jerky movement of `AttackerDelta`\n",
    "- Low amount of `Weapon fired`\n",
    "- Consistent spacing between timestamps of `Weapon fired`"
   ]
  },
  {
   "cell_type": "markdown",
   "id": "7f7ab367",
   "metadata": {},
   "source": [
    "Additionally, because CS:GO can be played in different ways, there can be an instance where a Legit player can be recognized as Cheating, if we simply look at graphs like these without context. An example situation of this would be a Legit player aiming at a stationary target. This would be visualized as a graph with low CrosshairToVictim aim vectors, as the Legit player could have been centering their aim on the target for the whole duration. A possible example of this is shown below."
   ]
  },
  {
   "cell_type": "code",
   "execution_count": 82,
   "id": "4a5909ad",
   "metadata": {},
   "outputs": [
    {
     "data": {
      "image/png": "[encoded data removed]",
      "text/plain": [
       "<Figure size 864x360 with 2 Axes>"
      ]
     },
     "metadata": {
      "needs_background": "light"
     },
     "output_type": "display_data"
    }
   ],
   "source": [
    "# Gets specific player engagement\n",
    "legit = legit_data[0, 4, :, :]\n",
    "\n",
    "legit_firing = np.where(legit[:, 4] == 1)\n",
    "\n",
    "fig = plt.figure(figsize=(12,5))\n",
    "\n",
    "ax3 = fig.add_subplot(211)\n",
    "ax3.set_title('Player Yaw')\n",
    "plt.plot(legit[:, 0], label='AttackerDeltaYaw')\n",
    "plt.plot(legit[:, 2], label='CrosshairToVictimYaw')\n",
    "[plt.axvline(x, linewidth=1, color='r') for x in legit_firing[0]]\n",
    "ax3.lines[-1].set_label('Weapon fired')\n",
    "ax3.set_ylim([-180, 180])\n",
    "ax3.set_xlabel('Game Tick')\n",
    "ax3.set_ylabel('Yaw')\n",
    "plt.legend(loc='upper left')\n",
    "\n",
    "ax4 = fig.add_subplot(212)\n",
    "ax4.set_title('Player Pitch')\n",
    "plt.plot(legit[:, 1], label='AttackerDeltaPitch')\n",
    "plt.plot(legit[:, 3], label='CrosshairToVictimPitch')\n",
    "[plt.axvline(x, linewidth=1, color='r') for x in legit_firing[0]]\n",
    "ax4.lines[-1].set_label('Weapon fired')\n",
    "ax4.set_ylim([-180, 180])\n",
    "ax4.set_xlabel('Game Tick')\n",
    "ax4.set_ylabel('Pitch')\n",
    "plt.legend(loc='upper left')\n",
    "\n",
    "fig.tight_layout()"
   ]
  },
  {
   "cell_type": "markdown",
   "id": "a8a9693f",
   "metadata": {},
   "source": [
    "# Data Preprocessing"
   ]
  },
  {
   "cell_type": "markdown",
   "id": "ab2c3832",
   "metadata": {},
   "source": [
    "The dataset is stored in a format of `[player, engagement, game_tick, player_input]`. To give the models interpretable data, we further flatten it by combining `engagement`, `game_tick`, and `player_input`, as these all represent the input of a player, just that it is spread over dimensions as different periods of time (`engagement`), for a specific duration (`game_tick`).\n",
    "\n",
    "After flattening the dimensions, we can also combine the two datasets."
   ]
  },
  {
   "cell_type": "code",
   "execution_count": 4,
   "id": "b80b6a87",
   "metadata": {},
   "outputs": [
    {
     "name": "stdout",
     "output_type": "stream",
     "text": [
      "Training data shape: (12000, 28800)\n"
     ]
    }
   ],
   "source": [
    "# Flatten features\n",
    "legit_data = legit_data.reshape(10000, 28800)\n",
    "cheaters_data = cheaters_data.reshape(2000, 28800)\n",
    "\n",
    "# Combine legit and cheater datasets\n",
    "X_players = np.vstack([legit_data, cheaters_data])\n",
    "print('Training data shape:', X_players.shape)"
   ]
  },
  {
   "cell_type": "markdown",
   "id": "fb00c57b",
   "metadata": {},
   "source": [
    "The dataset does not include a list of ground truth values, but the two classes are separated in two files and we simply append the cheaters to the end of the list of legit players. Because of this, we can easily create a list that contains their classes by using the length of each list. The classes will be:\n",
    "- `0` — `Legit` player\n",
    "- `1` — `Cheating` player"
   ]
  },
  {
   "cell_type": "code",
   "execution_count": 5,
   "id": "e4a0afe9",
   "metadata": {},
   "outputs": [
    {
     "name": "stdout",
     "output_type": "stream",
     "text": [
      "Ground truth values shape: (12000,)\n"
     ]
    }
   ],
   "source": [
    "# Create truth values for combined list\n",
    "y_players = np.append(\n",
    "        np.zeros(legit_data.shape[0], dtype=int),\n",
    "        np.full(cheaters_data.shape[0], 1, dtype=int)\n",
    ")\n",
    "print('Ground truth values shape:', y_players.shape)"
   ]
  },
  {
   "cell_type": "markdown",
   "id": "fd18e484",
   "metadata": {},
   "source": [
    "We also normalize the data using `MinMaxScaler` from `scikit-learn`, since the values can range from `-180` which would be interpreted as an undesirable record to learn from because of its low value compared to the upper limits of the values at `+180`."
   ]
  },
  {
   "cell_type": "code",
   "execution_count": 6,
   "id": "1ee207df",
   "metadata": {},
   "outputs": [],
   "source": [
    "scaler = MinMaxScaler()\n",
    "X_normalized = scaler.fit_transform(X_players.reshape(-1,1))\n",
    "X_normalized = X_normalized.reshape(12000, 28800)"
   ]
  },
  {
   "cell_type": "markdown",
   "id": "481d54e8",
   "metadata": {},
   "source": [
    "With the normalized data, we split into two subsets of train and test sets at a ratio of 70:30. We will not be splitting the train set further as the `RandomSearchCV` and `GridSearchCV` methods, as well as the built-in methods of `Keras`, automatically takes a subset of the train set to use as a validation set during the process of hyperparameter tuning."
   ]
  },
  {
   "cell_type": "code",
   "execution_count": 7,
   "id": "7d9fc30d",
   "metadata": {},
   "outputs": [
    {
     "name": "stdout",
     "output_type": "stream",
     "text": [
      "Split results:\n",
      "X_train: (8400, 28800)\n",
      "y_train: (8400,)\n",
      "X_test: (3600, 28800)\n",
      "y_test: (3600,)\n",
      "Training data label counts:\n",
      "[[   0    1]\n",
      " [7000 1400]]\n",
      "Test data label counts:\n",
      "[[   0    1]\n",
      " [3000  600]]\n"
     ]
    }
   ],
   "source": [
    "# Dataset splitting\n",
    "X_train, X_test, y_train, y_test = train_test_split(X_normalized, y_players, test_size=0.3, random_state=0, stratify=y_players)\n",
    "\n",
    "# Print results\n",
    "print('Split results:')\n",
    "print('X_train:', X_train.shape)\n",
    "print('y_train:', y_train.shape)\n",
    "print('X_test:', X_test.shape)\n",
    "print('y_test:', y_test.shape)\n",
    "\n",
    "# Print class counts\n",
    "unique, counts = np.unique(y_train, return_counts=True)\n",
    "print(\"Training data label counts:\")\n",
    "print(np.array([unique, counts]))\n",
    "unique, counts = np.unique(y_test, return_counts=True)\n",
    "print(\"Test data label counts:\")\n",
    "print(np.array([unique, counts]))"
   ]
  },
  {
   "cell_type": "markdown",
   "id": "7785b64d",
   "metadata": {},
   "source": [
    "An additional step of preprocessing, although not data, is to prepare the functions `compute_accuracy`."
   ]
  },
  {
   "cell_type": "code",
   "execution_count": 8,
   "id": "0b68dd7f",
   "metadata": {},
   "outputs": [],
   "source": [
    "def compute_accuracy(predictions, actual):\n",
    "    return np.sum(predictions == actual) / len(actual)"
   ]
  },
  {
   "cell_type": "markdown",
   "id": "285d2485",
   "metadata": {},
   "source": [
    "# Model Training\n",
    "Our original plan of action was to use the **Logistic Regression** model as a method of classification. However, after the proposal presentation and the neural networks lecture, we decided to move to the higher level of **Neural Networks** for our planned model. After some research, we found that the most popular neural network library for Python is **Keras**, so we looked for models that utilize it so that we could reference how they built their model. From this, we found **Convolutional Neural Networks (CNNs)**; however, we noticed that the most common application of CNNs is for images. Because of this, we decided instead to do the standard implementation of neural networks similar to those in the lectures. This was done using the combination of the **Keras** and **TensorFlow** libraries."
   ]
  },
  {
   "cell_type": "markdown",
   "id": "7b1b6471",
   "metadata": {},
   "source": [
    "- Thought of using logreg as the final model, but decided to look for neural networks\n",
    "    - Because neural networks use logistic regression in the layers\n",
    "- Conduct research which libraries best for neural networks\n",
    "    - Found keras\n",
    "- Find models basing on keras\n",
    "    - Found that most of these are for images\n",
    "- Conduct research which algorithms best for classification\n",
    "    - found the models used in the previous notebooks\n",
    "- Look for better libraries of logreg, etc. for python, still found scikit-learn\n",
    "- Decided \"lower level\" models to \"higher level\" ones, comparing their accuracy\n",
    "\n",
    "\n",
    "1. logreg\n",
    "2. naive bayes\n",
    "3. ensemble models\n",
    "4. Neural networks"
   ]
  },
  {
   "cell_type": "markdown",
   "id": "71364e54",
   "metadata": {},
   "source": [
    "## Logistic Regression\n",
    "We first set a baseline for accuracy using the logistic regression model from scikit-learn."
   ]
  },
  {
   "cell_type": "code",
   "execution_count": 13,
   "id": "73dc15de",
   "metadata": {},
   "outputs": [
    {
     "data": {
      "text/plain": [
       "LogisticRegression(max_iter=200, random_state=5, solver='liblinear')"
      ]
     },
     "execution_count": 13,
     "metadata": {},
     "output_type": "execute_result"
    }
   ],
   "source": [
    "lr = LogisticRegression(solver='liblinear', max_iter=200, random_state=5)\n",
    "lr.fit(X_train, y_train)"
   ]
  },
  {
   "cell_type": "code",
   "execution_count": 14,
   "id": "665a5979",
   "metadata": {},
   "outputs": [
    {
     "name": "stdout",
     "output_type": "stream",
     "text": [
      "Train Accuracy: 0.8885714285714286\n",
      "Validation Accuracy: 0.8005555555555556\n"
     ]
    }
   ],
   "source": [
    "predictions = lr.predict(X_train)\n",
    "print('Train Accuracy:', compute_accuracy(predictions, y_train))\n",
    "predictions = lr.predict(X_test)\n",
    "print('Validation Accuracy:', compute_accuracy(predictions, y_test))"
   ]
  },
  {
   "cell_type": "markdown",
   "id": "6d7a9c17",
   "metadata": {},
   "source": [
    "Initial training on the default logistic regression model yielded a train accuracy of 86.42% and a test accuracy of 80.05%"
   ]
  },
  {
   "cell_type": "markdown",
   "id": "4efbad39",
   "metadata": {},
   "source": [
    "### LogReg Hyperparameter Tuning\n",
    "The hyperparameters that we tune for logistic regression are only `solver` and `C`. There is also the `penalty` hyperparameter according to scikit-learn's documentation of the `LogisticRegression` class, however we chose not to use it as the other options for `penalty` (i.e. `l1`, `elasticnet`) are only compatible with the `saga` solver; the `none` penalty meanwhile warns about the `C` parameter being ignored. For the solver, we choose `liblinear` in addition to the default `lbfgs` since it is suited for smaller datasets. However according to tests from Hale (2019), there is usually minimal difference between solver options."
   ]
  },
  {
   "cell_type": "code",
   "execution_count": 15,
   "id": "87692d96",
   "metadata": {},
   "outputs": [],
   "source": [
    "# L1 and elasticnet are excluded from the hyperparameters because they are incompatible with sag\n",
    "# Penalty is removed because left is none and l2, and none does not use C\n",
    "hyperparameters = {\n",
    "    'solver': ['liblinear', 'lbfgs'],\n",
    "    'C': [20, 5, 1.0, 0.01, 0.01]\n",
    "}\n",
    "lrhp = LogisticRegression(max_iter=200, random_state=5)\n",
    "rsr = GridSearchCV(estimator=lrhp, param_grid=hyperparameters, cv=5)"
   ]
  },
  {
   "cell_type": "code",
   "execution_count": 16,
   "id": "bfaf8b0f",
   "metadata": {},
   "outputs": [
    {
     "name": "stderr",
     "output_type": "stream",
     "text": [
      "c:\\Users\\Jan\\anaconda3\\lib\\site-packages\\sklearn\\linear_model\\_logistic.py:763: ConvergenceWarning: lbfgs failed to converge (status=1):\n",
      "STOP: TOTAL NO. of ITERATIONS REACHED LIMIT.\n",
      "\n",
      "Increase the number of iterations (max_iter) or scale the data as shown in:\n",
      "    https://scikit-learn.org/stable/modules/preprocessing.html\n",
      "Please also refer to the documentation for alternative solver options:\n",
      "    https://scikit-learn.org/stable/modules/linear_model.html#logistic-regression\n",
      "  n_iter_i = _check_optimize_result(\n",
      "c:\\Users\\Jan\\anaconda3\\lib\\site-packages\\sklearn\\linear_model\\_logistic.py:763: ConvergenceWarning: lbfgs failed to converge (status=1):\n",
      "STOP: TOTAL NO. of ITERATIONS REACHED LIMIT.\n",
      "\n",
      "Increase the number of iterations (max_iter) or scale the data as shown in:\n",
      "    https://scikit-learn.org/stable/modules/preprocessing.html\n",
      "Please also refer to the documentation for alternative solver options:\n",
      "    https://scikit-learn.org/stable/modules/linear_model.html#logistic-regression\n",
      "  n_iter_i = _check_optimize_result(\n",
      "c:\\Users\\Jan\\anaconda3\\lib\\site-packages\\sklearn\\linear_model\\_logistic.py:763: ConvergenceWarning: lbfgs failed to converge (status=1):\n",
      "STOP: TOTAL NO. of ITERATIONS REACHED LIMIT.\n",
      "\n",
      "Increase the number of iterations (max_iter) or scale the data as shown in:\n",
      "    https://scikit-learn.org/stable/modules/preprocessing.html\n",
      "Please also refer to the documentation for alternative solver options:\n",
      "    https://scikit-learn.org/stable/modules/linear_model.html#logistic-regression\n",
      "  n_iter_i = _check_optimize_result(\n",
      "c:\\Users\\Jan\\anaconda3\\lib\\site-packages\\sklearn\\linear_model\\_logistic.py:763: ConvergenceWarning: lbfgs failed to converge (status=1):\n",
      "STOP: TOTAL NO. of ITERATIONS REACHED LIMIT.\n",
      "\n",
      "Increase the number of iterations (max_iter) or scale the data as shown in:\n",
      "    https://scikit-learn.org/stable/modules/preprocessing.html\n",
      "Please also refer to the documentation for alternative solver options:\n",
      "    https://scikit-learn.org/stable/modules/linear_model.html#logistic-regression\n",
      "  n_iter_i = _check_optimize_result(\n",
      "c:\\Users\\Jan\\anaconda3\\lib\\site-packages\\sklearn\\linear_model\\_logistic.py:763: ConvergenceWarning: lbfgs failed to converge (status=1):\n",
      "STOP: TOTAL NO. of ITERATIONS REACHED LIMIT.\n",
      "\n",
      "Increase the number of iterations (max_iter) or scale the data as shown in:\n",
      "    https://scikit-learn.org/stable/modules/preprocessing.html\n",
      "Please also refer to the documentation for alternative solver options:\n",
      "    https://scikit-learn.org/stable/modules/linear_model.html#logistic-regression\n",
      "  n_iter_i = _check_optimize_result(\n",
      "c:\\Users\\Jan\\anaconda3\\lib\\site-packages\\sklearn\\linear_model\\_logistic.py:763: ConvergenceWarning: lbfgs failed to converge (status=1):\n",
      "STOP: TOTAL NO. of ITERATIONS REACHED LIMIT.\n",
      "\n",
      "Increase the number of iterations (max_iter) or scale the data as shown in:\n",
      "    https://scikit-learn.org/stable/modules/preprocessing.html\n",
      "Please also refer to the documentation for alternative solver options:\n",
      "    https://scikit-learn.org/stable/modules/linear_model.html#logistic-regression\n",
      "  n_iter_i = _check_optimize_result(\n",
      "c:\\Users\\Jan\\anaconda3\\lib\\site-packages\\sklearn\\linear_model\\_logistic.py:763: ConvergenceWarning: lbfgs failed to converge (status=1):\n",
      "STOP: TOTAL NO. of ITERATIONS REACHED LIMIT.\n",
      "\n",
      "Increase the number of iterations (max_iter) or scale the data as shown in:\n",
      "    https://scikit-learn.org/stable/modules/preprocessing.html\n",
      "Please also refer to the documentation for alternative solver options:\n",
      "    https://scikit-learn.org/stable/modules/linear_model.html#logistic-regression\n",
      "  n_iter_i = _check_optimize_result(\n",
      "c:\\Users\\Jan\\anaconda3\\lib\\site-packages\\sklearn\\linear_model\\_logistic.py:763: ConvergenceWarning: lbfgs failed to converge (status=1):\n",
      "STOP: TOTAL NO. of ITERATIONS REACHED LIMIT.\n",
      "\n",
      "Increase the number of iterations (max_iter) or scale the data as shown in:\n",
      "    https://scikit-learn.org/stable/modules/preprocessing.html\n",
      "Please also refer to the documentation for alternative solver options:\n",
      "    https://scikit-learn.org/stable/modules/linear_model.html#logistic-regression\n",
      "  n_iter_i = _check_optimize_result(\n",
      "c:\\Users\\Jan\\anaconda3\\lib\\site-packages\\sklearn\\linear_model\\_logistic.py:763: ConvergenceWarning: lbfgs failed to converge (status=1):\n",
      "STOP: TOTAL NO. of ITERATIONS REACHED LIMIT.\n",
      "\n",
      "Increase the number of iterations (max_iter) or scale the data as shown in:\n",
      "    https://scikit-learn.org/stable/modules/preprocessing.html\n",
      "Please also refer to the documentation for alternative solver options:\n",
      "    https://scikit-learn.org/stable/modules/linear_model.html#logistic-regression\n",
      "  n_iter_i = _check_optimize_result(\n",
      "c:\\Users\\Jan\\anaconda3\\lib\\site-packages\\sklearn\\linear_model\\_logistic.py:763: ConvergenceWarning: lbfgs failed to converge (status=1):\n",
      "STOP: TOTAL NO. of ITERATIONS REACHED LIMIT.\n",
      "\n",
      "Increase the number of iterations (max_iter) or scale the data as shown in:\n",
      "    https://scikit-learn.org/stable/modules/preprocessing.html\n",
      "Please also refer to the documentation for alternative solver options:\n",
      "    https://scikit-learn.org/stable/modules/linear_model.html#logistic-regression\n",
      "  n_iter_i = _check_optimize_result(\n",
      "c:\\Users\\Jan\\anaconda3\\lib\\site-packages\\sklearn\\linear_model\\_logistic.py:763: ConvergenceWarning: lbfgs failed to converge (status=1):\n",
      "STOP: TOTAL NO. of ITERATIONS REACHED LIMIT.\n",
      "\n",
      "Increase the number of iterations (max_iter) or scale the data as shown in:\n",
      "    https://scikit-learn.org/stable/modules/preprocessing.html\n",
      "Please also refer to the documentation for alternative solver options:\n",
      "    https://scikit-learn.org/stable/modules/linear_model.html#logistic-regression\n",
      "  n_iter_i = _check_optimize_result(\n",
      "c:\\Users\\Jan\\anaconda3\\lib\\site-packages\\sklearn\\linear_model\\_logistic.py:763: ConvergenceWarning: lbfgs failed to converge (status=1):\n",
      "STOP: TOTAL NO. of ITERATIONS REACHED LIMIT.\n",
      "\n",
      "Increase the number of iterations (max_iter) or scale the data as shown in:\n",
      "    https://scikit-learn.org/stable/modules/preprocessing.html\n",
      "Please also refer to the documentation for alternative solver options:\n",
      "    https://scikit-learn.org/stable/modules/linear_model.html#logistic-regression\n",
      "  n_iter_i = _check_optimize_result(\n",
      "c:\\Users\\Jan\\anaconda3\\lib\\site-packages\\sklearn\\linear_model\\_logistic.py:763: ConvergenceWarning: lbfgs failed to converge (status=1):\n",
      "STOP: TOTAL NO. of ITERATIONS REACHED LIMIT.\n",
      "\n",
      "Increase the number of iterations (max_iter) or scale the data as shown in:\n",
      "    https://scikit-learn.org/stable/modules/preprocessing.html\n",
      "Please also refer to the documentation for alternative solver options:\n",
      "    https://scikit-learn.org/stable/modules/linear_model.html#logistic-regression\n",
      "  n_iter_i = _check_optimize_result(\n",
      "c:\\Users\\Jan\\anaconda3\\lib\\site-packages\\sklearn\\linear_model\\_logistic.py:763: ConvergenceWarning: lbfgs failed to converge (status=1):\n",
      "STOP: TOTAL NO. of ITERATIONS REACHED LIMIT.\n",
      "\n",
      "Increase the number of iterations (max_iter) or scale the data as shown in:\n",
      "    https://scikit-learn.org/stable/modules/preprocessing.html\n",
      "Please also refer to the documentation for alternative solver options:\n",
      "    https://scikit-learn.org/stable/modules/linear_model.html#logistic-regression\n",
      "  n_iter_i = _check_optimize_result(\n",
      "c:\\Users\\Jan\\anaconda3\\lib\\site-packages\\sklearn\\linear_model\\_logistic.py:763: ConvergenceWarning: lbfgs failed to converge (status=1):\n",
      "STOP: TOTAL NO. of ITERATIONS REACHED LIMIT.\n",
      "\n",
      "Increase the number of iterations (max_iter) or scale the data as shown in:\n",
      "    https://scikit-learn.org/stable/modules/preprocessing.html\n",
      "Please also refer to the documentation for alternative solver options:\n",
      "    https://scikit-learn.org/stable/modules/linear_model.html#logistic-regression\n",
      "  n_iter_i = _check_optimize_result(\n",
      "c:\\Users\\Jan\\anaconda3\\lib\\site-packages\\sklearn\\linear_model\\_logistic.py:763: ConvergenceWarning: lbfgs failed to converge (status=1):\n",
      "STOP: TOTAL NO. of ITERATIONS REACHED LIMIT.\n",
      "\n",
      "Increase the number of iterations (max_iter) or scale the data as shown in:\n",
      "    https://scikit-learn.org/stable/modules/preprocessing.html\n",
      "Please also refer to the documentation for alternative solver options:\n",
      "    https://scikit-learn.org/stable/modules/linear_model.html#logistic-regression\n",
      "  n_iter_i = _check_optimize_result(\n",
      "c:\\Users\\Jan\\anaconda3\\lib\\site-packages\\sklearn\\linear_model\\_logistic.py:763: ConvergenceWarning: lbfgs failed to converge (status=1):\n",
      "STOP: TOTAL NO. of ITERATIONS REACHED LIMIT.\n",
      "\n",
      "Increase the number of iterations (max_iter) or scale the data as shown in:\n",
      "    https://scikit-learn.org/stable/modules/preprocessing.html\n",
      "Please also refer to the documentation for alternative solver options:\n",
      "    https://scikit-learn.org/stable/modules/linear_model.html#logistic-regression\n",
      "  n_iter_i = _check_optimize_result(\n",
      "c:\\Users\\Jan\\anaconda3\\lib\\site-packages\\sklearn\\linear_model\\_logistic.py:763: ConvergenceWarning: lbfgs failed to converge (status=1):\n",
      "STOP: TOTAL NO. of ITERATIONS REACHED LIMIT.\n",
      "\n",
      "Increase the number of iterations (max_iter) or scale the data as shown in:\n",
      "    https://scikit-learn.org/stable/modules/preprocessing.html\n",
      "Please also refer to the documentation for alternative solver options:\n",
      "    https://scikit-learn.org/stable/modules/linear_model.html#logistic-regression\n",
      "  n_iter_i = _check_optimize_result(\n",
      "c:\\Users\\Jan\\anaconda3\\lib\\site-packages\\sklearn\\linear_model\\_logistic.py:763: ConvergenceWarning: lbfgs failed to converge (status=1):\n",
      "STOP: TOTAL NO. of ITERATIONS REACHED LIMIT.\n",
      "\n",
      "Increase the number of iterations (max_iter) or scale the data as shown in:\n",
      "    https://scikit-learn.org/stable/modules/preprocessing.html\n",
      "Please also refer to the documentation for alternative solver options:\n",
      "    https://scikit-learn.org/stable/modules/linear_model.html#logistic-regression\n",
      "  n_iter_i = _check_optimize_result(\n",
      "c:\\Users\\Jan\\anaconda3\\lib\\site-packages\\sklearn\\linear_model\\_logistic.py:763: ConvergenceWarning: lbfgs failed to converge (status=1):\n",
      "STOP: TOTAL NO. of ITERATIONS REACHED LIMIT.\n",
      "\n",
      "Increase the number of iterations (max_iter) or scale the data as shown in:\n",
      "    https://scikit-learn.org/stable/modules/preprocessing.html\n",
      "Please also refer to the documentation for alternative solver options:\n",
      "    https://scikit-learn.org/stable/modules/linear_model.html#logistic-regression\n",
      "  n_iter_i = _check_optimize_result(\n",
      "c:\\Users\\Jan\\anaconda3\\lib\\site-packages\\sklearn\\linear_model\\_logistic.py:763: ConvergenceWarning: lbfgs failed to converge (status=1):\n",
      "STOP: TOTAL NO. of ITERATIONS REACHED LIMIT.\n",
      "\n",
      "Increase the number of iterations (max_iter) or scale the data as shown in:\n",
      "    https://scikit-learn.org/stable/modules/preprocessing.html\n",
      "Please also refer to the documentation for alternative solver options:\n",
      "    https://scikit-learn.org/stable/modules/linear_model.html#logistic-regression\n",
      "  n_iter_i = _check_optimize_result(\n"
     ]
    },
    {
     "data": {
      "text/plain": [
       "GridSearchCV(cv=5, estimator=LogisticRegression(max_iter=200, random_state=5),\n",
       "             param_grid={'C': [20, 5, 1.0, 0.01, 0.01],\n",
       "                         'solver': ['liblinear', 'lbfgs']})"
      ]
     },
     "execution_count": 16,
     "metadata": {},
     "output_type": "execute_result"
    }
   ],
   "source": [
    "rsr.fit(X_train, y_train)"
   ]
  },
  {
   "cell_type": "code",
   "execution_count": 17,
   "id": "cd076eea",
   "metadata": {},
   "outputs": [
    {
     "data": {
      "text/plain": [
       "{'C': 0.01, 'solver': 'liblinear'}"
      ]
     },
     "execution_count": 17,
     "metadata": {},
     "output_type": "execute_result"
    }
   ],
   "source": [
    "rsr.best_params_"
   ]
  },
  {
   "cell_type": "markdown",
   "id": "870dc1c5",
   "metadata": {},
   "source": [
    "### Retraining on best hyperparameters"
   ]
  },
  {
   "cell_type": "code",
   "execution_count": 54,
   "id": "d1d45682",
   "metadata": {},
   "outputs": [
    {
     "name": "stdout",
     "output_type": "stream",
     "text": [
      "Train Accuracy: 0.833452380952381\n",
      "Validation Accuracy: 0.8333333333333334\n"
     ]
    }
   ],
   "source": [
    "best_lr = LogisticRegression(solver='liblinear', C=0.01, random_state=5)\n",
    "best_lr.fit(X_train, y_train)\n",
    "\n",
    "predictions = best_lr.predict(X_train)\n",
    "print('Train Accuracy:', compute_accuracy(predictions, y_train))\n",
    "predictions = best_lr.predict(X_test)\n",
    "print('Validation Accuracy:', compute_accuracy(predictions, y_test))"
   ]
  },
  {
   "cell_type": "markdown",
   "id": "8916e0b3",
   "metadata": {},
   "source": [
    "After finding the best hyperparameters from our given set, the model yielded a train accuracy of **83.34%** and a test accuracy of **83.33%**."
   ]
  },
  {
   "cell_type": "markdown",
   "id": "466e4312",
   "metadata": {},
   "source": [
    "## Neural Network\n",
    "Using the results of the logistic regression model, we want to see if the higher level of the neural network model could give us a higher accuracy for the tests."
   ]
  },
  {
   "cell_type": "code",
   "execution_count": null,
   "id": "85ec06ff",
   "metadata": {},
   "outputs": [
    {
     "name": "stdout",
     "output_type": "stream",
     "text": [
      "[name: \"/device:CPU:0\"\n",
      "device_type: \"CPU\"\n",
      "memory_limit: 268435456\n",
      "locality {\n",
      "}\n",
      "incarnation: 15759789766368933751\n",
      "xla_global_id: -1\n",
      ", name: \"/device:GPU:0\"\n",
      "device_type: \"GPU\"\n",
      "memory_limit: 5738397696\n",
      "locality {\n",
      "  bus_id: 1\n",
      "  links {\n",
      "  }\n",
      "}\n",
      "incarnation: 5115267982015382926\n",
      "physical_device_desc: \"device: 0, name: NVIDIA GeForce RTX 3070, pci bus id: 0000:06:00.0, compute capability: 8.6\"\n",
      "xla_global_id: 416903419\n",
      "]\n",
      "Device mapping:\n",
      "/job:localhost/replica:0/task:0/device:GPU:0 -> device: 0, name: NVIDIA GeForce RTX 3070, pci bus id: 0000:06:00.0, compute capability: 8.6\n",
      "\n"
     ]
    }
   ],
   "source": [
    "print(device_lib.list_local_devices())\n",
    "#Creates a session to use the GPU for the neural network\n",
    "sess = tf.compat.v1.Session(config=tf.compat.v1.ConfigProto(log_device_placement=True))"
   ]
  },
  {
   "cell_type": "markdown",
   "id": "da759a6e",
   "metadata": {},
   "source": [
    "Since we don't use the scikit-learn libary for the neural network, we split the data set into a train, validation, and test set in order to use the methods from the Keras library. The dataset is split in an 80:20 ratio for the train and test set, and the train set is further split in an 80:20 ratio to divide it into the actual train set and the validation set. "
   ]
  },
  {
   "cell_type": "code",
   "execution_count": null,
   "id": "124ada40",
   "metadata": {},
   "outputs": [],
   "source": [
    "# Split Train,Test, and Val set\n",
    "X_train,X_test,y_train,y_test = train_test_split(X_players,y_players,random_state= 0,test_size=0.2)\n",
    "X_train,X_val,y_train,y_val = train_test_split(X_train,y_train,random_state= 0,test_size=0.2)"
   ]
  },
  {
   "cell_type": "markdown",
   "id": "da759a6e",
   "metadata": {},
   "source": [
    "We created a Keras pipeline with arbitrary layers in order to initially process the data and see its accuracy."
   ]
  },
  {
   "cell_type": "code",
   "execution_count": null,
   "id": "e502635e",
   "metadata": {},
   "outputs": [
    {
     "name": "stdout",
     "output_type": "stream",
     "text": [
      "Epoch 1/40\n",
      "192/192 [==============================] - 3s 7ms/step - loss: 0.6845 - accuracy: 0.8016 - val_loss: 0.7103 - val_accuracy: 0.8392\n",
      "Epoch 2/40\n",
      "192/192 [==============================] - 1s 6ms/step - loss: 0.5161 - accuracy: 0.8257 - val_loss: 0.4877 - val_accuracy: 0.8320\n",
      "Epoch 3/40\n",
      "192/192 [==============================] - 1s 5ms/step - loss: 0.5158 - accuracy: 0.8223 - val_loss: 0.5222 - val_accuracy: 0.8418\n",
      "Epoch 4/40\n",
      "192/192 [==============================] - 1s 5ms/step - loss: 0.4999 - accuracy: 0.8270 - val_loss: 0.4632 - val_accuracy: 0.8418\n",
      "Epoch 5/40\n",
      "192/192 [==============================] - 1s 6ms/step - loss: 0.5073 - accuracy: 0.8276 - val_loss: 0.4868 - val_accuracy: 0.8307\n",
      "Epoch 6/40\n",
      "192/192 [==============================] - 1s 5ms/step - loss: 0.4831 - accuracy: 0.8270 - val_loss: 0.5298 - val_accuracy: 0.8411\n",
      "Epoch 7/40\n",
      "192/192 [==============================] - 1s 5ms/step - loss: 0.4734 - accuracy: 0.8289 - val_loss: 0.4982 - val_accuracy: 0.8320\n",
      "Epoch 8/40\n",
      "192/192 [==============================] - 1s 5ms/step - loss: 0.4778 - accuracy: 0.8294 - val_loss: 0.5641 - val_accuracy: 0.8418\n",
      "Epoch 9/40\n",
      "192/192 [==============================] - 1s 6ms/step - loss: 0.4702 - accuracy: 0.8309 - val_loss: 0.5537 - val_accuracy: 0.8405\n",
      "Epoch 10/40\n",
      "192/192 [==============================] - 1s 5ms/step - loss: 0.4695 - accuracy: 0.8328 - val_loss: 0.5073 - val_accuracy: 0.8405\n",
      "Epoch 11/40\n",
      "192/192 [==============================] - 1s 6ms/step - loss: 0.4603 - accuracy: 0.8315 - val_loss: 0.6304 - val_accuracy: 0.8418\n",
      "Epoch 12/40\n",
      "192/192 [==============================] - 1s 5ms/step - loss: 0.4609 - accuracy: 0.8327 - val_loss: 0.4403 - val_accuracy: 0.8405\n",
      "Epoch 13/40\n",
      "192/192 [==============================] - 1s 5ms/step - loss: 0.4585 - accuracy: 0.8320 - val_loss: 0.4938 - val_accuracy: 0.8418\n",
      "Epoch 14/40\n",
      "192/192 [==============================] - 1s 5ms/step - loss: 0.4502 - accuracy: 0.8343 - val_loss: 0.4546 - val_accuracy: 0.8431\n",
      "Epoch 15/40\n",
      "192/192 [==============================] - 1s 6ms/step - loss: 0.4685 - accuracy: 0.8332 - val_loss: 0.4381 - val_accuracy: 0.8424\n",
      "Epoch 16/40\n",
      "192/192 [==============================] - 1s 5ms/step - loss: 0.4591 - accuracy: 0.8330 - val_loss: 0.4957 - val_accuracy: 0.8424\n",
      "Epoch 17/40\n",
      "192/192 [==============================] - 1s 5ms/step - loss: 0.4521 - accuracy: 0.8350 - val_loss: 0.4467 - val_accuracy: 0.8346\n",
      "Epoch 18/40\n",
      "192/192 [==============================] - 1s 5ms/step - loss: 0.4554 - accuracy: 0.8333 - val_loss: 0.5414 - val_accuracy: 0.8424\n",
      "Epoch 19/40\n",
      "192/192 [==============================] - 1s 5ms/step - loss: 0.4512 - accuracy: 0.8341 - val_loss: 0.5880 - val_accuracy: 0.8418\n",
      "Epoch 20/40\n",
      "192/192 [==============================] - 1s 6ms/step - loss: 0.4715 - accuracy: 0.8337 - val_loss: 0.4359 - val_accuracy: 0.8424\n",
      "Epoch 21/40\n",
      "192/192 [==============================] - 1s 5ms/step - loss: 0.4648 - accuracy: 0.8327 - val_loss: 0.5424 - val_accuracy: 0.8398\n",
      "Epoch 22/40\n",
      "192/192 [==============================] - 1s 5ms/step - loss: 0.4779 - accuracy: 0.8320 - val_loss: 0.4665 - val_accuracy: 0.8411\n",
      "Epoch 23/40\n",
      "192/192 [==============================] - 1s 5ms/step - loss: 0.4627 - accuracy: 0.8315 - val_loss: 0.7219 - val_accuracy: 0.8411\n",
      "Epoch 24/40\n",
      "192/192 [==============================] - 1s 5ms/step - loss: 0.4679 - accuracy: 0.8322 - val_loss: 0.6603 - val_accuracy: 0.8418\n",
      "Epoch 25/40\n",
      "192/192 [==============================] - 1s 5ms/step - loss: 0.4735 - accuracy: 0.8317 - val_loss: 0.7297 - val_accuracy: 0.8405\n",
      "Epoch 26/40\n",
      "192/192 [==============================] - 1s 5ms/step - loss: 0.4486 - accuracy: 0.8328 - val_loss: 0.5847 - val_accuracy: 0.8405\n",
      "Epoch 27/40\n",
      "192/192 [==============================] - 1s 5ms/step - loss: 0.4433 - accuracy: 0.8332 - val_loss: 0.6338 - val_accuracy: 0.8359\n",
      "Epoch 28/40\n",
      "192/192 [==============================] - 1s 5ms/step - loss: 0.4402 - accuracy: 0.8345 - val_loss: 0.6176 - val_accuracy: 0.8379\n",
      "Epoch 29/40\n",
      "192/192 [==============================] - 1s 5ms/step - loss: 0.4347 - accuracy: 0.8356 - val_loss: 0.6263 - val_accuracy: 0.8372\n",
      "Epoch 30/40\n",
      "192/192 [==============================] - 1s 5ms/step - loss: 0.4439 - accuracy: 0.8341 - val_loss: 0.7858 - val_accuracy: 0.8392\n",
      "Epoch 31/40\n",
      "192/192 [==============================] - 1s 5ms/step - loss: 0.4450 - accuracy: 0.8348 - val_loss: 0.8435 - val_accuracy: 0.8398\n",
      "Epoch 32/40\n",
      "192/192 [==============================] - 1s 6ms/step - loss: 0.4438 - accuracy: 0.8345 - val_loss: 0.8143 - val_accuracy: 0.8418\n",
      "Epoch 33/40\n",
      "192/192 [==============================] - 1s 5ms/step - loss: 0.4388 - accuracy: 0.8348 - val_loss: 0.8313 - val_accuracy: 0.8418\n",
      "Epoch 34/40\n",
      "192/192 [==============================] - 1s 5ms/step - loss: 0.4329 - accuracy: 0.8351 - val_loss: 0.9093 - val_accuracy: 0.8418\n",
      "Epoch 35/40\n",
      "192/192 [==============================] - 1s 5ms/step - loss: 0.4310 - accuracy: 0.8346 - val_loss: 1.0476 - val_accuracy: 0.8418\n",
      "Epoch 36/40\n",
      "192/192 [==============================] - 1s 5ms/step - loss: 0.4311 - accuracy: 0.8359 - val_loss: 0.8216 - val_accuracy: 0.8431\n",
      "Epoch 37/40\n",
      "192/192 [==============================] - 1s 5ms/step - loss: 0.4531 - accuracy: 0.8353 - val_loss: 0.8863 - val_accuracy: 0.8418\n",
      "Epoch 38/40\n",
      "192/192 [==============================] - 1s 5ms/step - loss: 0.4347 - accuracy: 0.8361 - val_loss: 0.8745 - val_accuracy: 0.8424\n",
      "Epoch 39/40\n",
      "192/192 [==============================] - 1s 6ms/step - loss: 0.4586 - accuracy: 0.8338 - val_loss: 1.0621 - val_accuracy: 0.8385\n",
      "Epoch 40/40\n",
      "192/192 [==============================] - 1s 6ms/step - loss: 0.4267 - accuracy: 0.8371 - val_loss: 1.1500 - val_accuracy: 0.8405\n"
     ]
    },
    {
     "data": {
      "text/plain": [
       "<keras.callbacks.History at 0x24eeb432f10>"
      ]
     },
     "metadata": {},
     "output_type": "display_data"
    }
   ],
   "source": [
    "batch=32\n",
    "\n",
    "model = tf.keras.Sequential([\n",
    "    tf.keras.layers.Dense(5, activation='relu'),\n",
    "    tf.keras.layers.Dense(32, activation='relu'),\n",
    "    tf.keras.layers.Dense(32, activation='relu'),\n",
    "    tf.keras.layers.Dense(1, activation='sigmoid')\n",
    "])\n",
    "model.compile(loss='binary_crossentropy',optimizer='adam',metrics=['accuracy'])\n",
    "X_train.shape    \n",
    "num_epochs = 40\n",
    "model.fit(X_train, y_train, epochs=num_epochs,batch_size=batch,validation_split=0.2)"
   ]
  },
  {
   "cell_type": "markdown",
   "id": "d180f5de",
   "metadata": {},
   "source": [
    "Using the summary() and evaluate function, the model details (output shape,layers, layer types, and params) and model accuracy can be checked."
   ]
  },
  {
   "cell_type": "code",
   "execution_count": null,
   "id": "d7d75039",
   "metadata": {},
   "outputs": [
    {
     "name": "stdout",
     "output_type": "stream",
     "text": [
      "Model: \"sequential\"\n",
      "_________________________________________________________________\n",
      " Layer (type)                Output Shape              Param #   \n",
      "=================================================================\n",
      " dense (Dense)               (32, 5)                   144005    \n",
      "                                                                 \n",
      " dense_1 (Dense)             (32, 32)                  192       \n",
      "                                                                 \n",
      " dense_2 (Dense)             (32, 32)                  1056      \n",
      "                                                                 \n",
      " dense_3 (Dense)             (32, 1)                   33        \n",
      "                                                                 \n",
      "=================================================================\n",
      "Total params: 145,286\n",
      "Trainable params: 145,286\n",
      "Non-trainable params: 0\n",
      "_________________________________________________________________\n"
     ]
    }
   ],
   "source": [
    "model.summary()"
   ]
  },
  {
   "cell_type": "code",
   "execution_count": null,
   "id": "e7cbd96a",
   "metadata": {},
   "outputs": [
    {
     "name": "stdout",
     "output_type": "stream",
     "text": [
      "75/75 [==============================] - 0s 3ms/step - loss: 0.7467 - accuracy: 0.8229\n"
     ]
    }
   ],
   "source": [
    "# Evaluate model performance\n",
    "results = model.evaluate(X_test, y_test, batch_size=batch)"
   ]
  },
  {
   "cell_type": "markdown",
   "id": "5a4bcef7",
   "metadata": {},
   "source": [
    "### Neural Network Hyperparameter Tuning\n",
    "In order to find the best parameters, we create a function that can create a variable model based on a set of hyperparameters given by Keras_tuner. These will modify base models of the Keras neural network in order to find the optimal configuration. The Hyperparameters that the tuner needs to work on are the number of hidden layers, the activation functions of the layers, the dropout layers, and the learning rate."
   ]
  },
  {
   "cell_type": "code",
   "execution_count": null,
   "id": "347cc6be",
   "metadata": {},
   "outputs": [],
   "source": [
    "#Base model for hyperparameters\n",
    "def build_model(hp):\n",
    "    #Instantiate a Keras Sequential model\n",
    "    model = keras.Sequential()\n",
    "    model.add(layers.Flatten())\n",
    "    # Tune the number of layers.\n",
    "    for i in range(hp.Int(\"num_layers\", 1, 5)):\n",
    "        model.add(\n",
    "            layers.Dense(\n",
    "                # Tune number of units separately.\n",
    "                units=hp.Int(f\"units_{i}\", min_value=32, max_value=960, step=32),\n",
    "                activation=hp.Choice(\"activation\", [\"relu\", \"tanh\",\"elu\",\"selu\"]),\n",
    "            )\n",
    "        )\n",
    "    if hp.Boolean(\"dropout\"):\n",
    "        model.add(layers.Dropout(rate=0.25))\n",
    "    model.add(layers.Dense(1, activation=\"sigmoid\"))\n",
    "    learning_rate = hp.Float(\"lr\", min_value=1e-4, max_value=1e-2, sampling=\"log\")\n",
    "    model.compile(\n",
    "        optimizer=keras.optimizers.Adam(learning_rate=learning_rate),\n",
    "        loss=\"categorical_crossentropy\",\n",
    "        metrics=[\"accuracy\"],\n",
    "    )\n",
    "    return model"
   ]
  },
  {
   "cell_type": "code",
   "execution_count": null,
   "id": "cac71176",
   "metadata": {},
   "outputs": [
    {
     "data": {
      "text/plain": [
       "<keras.engine.sequential.Sequential at 0x24ee4c3d6a0>"
      ]
     },
     "metadata": {},
     "output_type": "display_data"
    }
   ],
   "source": [
    "# build model using hyper parameters\n",
    "build_model(keras_tuner.HyperParameters())"
   ]
  },
  {
   "cell_type": "code",
   "execution_count": null,
   "id": "3362c822",
   "metadata": {},
   "outputs": [
    {
     "name": "stdout",
     "output_type": "stream",
     "text": [
      "Search space summary\n",
      "Default search space size: 5\n",
      "num_layers (Int)\n",
      "{'default': None, 'conditions': [], 'min_value': 1, 'max_value': 5, 'step': 1, 'sampling': None}\n",
      "units_0 (Int)\n",
      "{'default': None, 'conditions': [], 'min_value': 32, 'max_value': 960, 'step': 32, 'sampling': None}\n",
      "activation (Choice)\n",
      "{'default': 'relu', 'conditions': [], 'values': ['relu', 'tanh', 'elu', 'selu'], 'ordered': False}\n",
      "dropout (Boolean)\n",
      "{'default': False, 'conditions': []}\n",
      "lr (Float)\n",
      "{'default': 0.0001, 'conditions': [], 'min_value': 0.0001, 'max_value': 0.01, 'step': None, 'sampling': 'log'}\n"
     ]
    }
   ],
   "source": [
    "#Set objectives and parameters for searching for the best model based on accuracy\n",
    "tuner = keras_tuner.Hyperband(\n",
    "    hypermodel=build_model,\n",
    "    objective=\"val_accuracy\",\n",
    "    max_epochs=10,\n",
    "    factor=3,\n",
    "    overwrite=True,\n",
    "    directory=\"res\"\n",
    ")\n",
    "tuner.search_space_summary()"
   ]
  },
  {
   "cell_type": "code",
   "execution_count": null,
   "id": "814429d1",
   "metadata": {},
   "outputs": [
    {
     "name": "stdout",
     "output_type": "stream",
     "text": [
      "Trial 30 Complete [00h 00m 11s]\n",
      "val_accuracy: 0.8424479365348816\n",
      "\n",
      "Best val_accuracy So Far: 0.8430989384651184\n",
      "Total elapsed time: 00h 03m 14s\n",
      "INFO:tensorflow:Oracle triggered exit\n"
     ]
    }
   ],
   "source": [
    "stop_early = tf.keras.callbacks.EarlyStopping(monitor='val_loss', patience=5)\n",
    "tuner.search(X_train, y_train, epochs=50, validation_split=0.2, callbacks=[stop_early])"
   ]
  },
  {
   "cell_type": "code",
   "execution_count": null,
   "id": "f28a7df6",
   "metadata": {},
   "outputs": [
    {
     "name": "stdout",
     "output_type": "stream",
     "text": [
      "Model: \"sequential\"\n",
      "_________________________________________________________________\n",
      " Layer (type)                Output Shape              Param #   \n",
      "=================================================================\n",
      " flatten (Flatten)           (7680, 28800)             0         \n",
      "                                                                 \n",
      " dense (Dense)               (7680, 384)               11059584  \n",
      "                                                                 \n",
      " dense_1 (Dense)             (7680, 160)               61600     \n",
      "                                                                 \n",
      " dense_2 (Dense)             (7680, 896)               144256    \n",
      "                                                                 \n",
      " dense_3 (Dense)             (7680, 1)                 897       \n",
      "                                                                 \n",
      "=================================================================\n",
      "Total params: 11,266,337\n",
      "Trainable params: 11,266,337\n",
      "Non-trainable params: 0\n",
      "_________________________________________________________________\n"
     ]
    }
   ],
   "source": [
    "# Get the top 2 models.\n",
    "models = tuner.get_best_models(num_models=2)\n",
    "best_model = models[0]\n",
    "# Build the model.\n",
    "# Needed for `Sequential` without specified `input_shape`.\n",
    "best_model.build(input_shape=(X_train.shape))\n",
    "best_model.summary()"
   ]
  },
  {
   "cell_type": "code",
   "execution_count": null,
   "id": "b11f4a5b",
   "metadata": {},
   "outputs": [
    {
     "name": "stdout",
     "output_type": "stream",
     "text": [
      "Results summary\n",
      "Results in res\\untitled_project\n",
      "Showing 10 best trials\n",
      "<keras_tuner.engine.objective.Objective object at 0x0000024EFA763250>\n",
      "Trial summary\n",
      "Hyperparameters:\n",
      "num_layers: 3\n",
      "units_0: 384\n",
      "activation: tanh\n",
      "dropout: False\n",
      "lr: 0.0001261677614273853\n",
      "units_1: 160\n",
      "units_2: 896\n",
      "units_3: 64\n",
      "units_4: 320\n",
      "tuner/epochs: 2\n",
      "tuner/initial_epoch: 0\n",
      "tuner/bracket: 2\n",
      "tuner/round: 0\n",
      "Score: 0.8430989384651184\n",
      "Trial summary\n",
      "Hyperparameters:\n",
      "num_layers: 3\n",
      "units_0: 800\n",
      "activation: tanh\n",
      "dropout: True\n",
      "lr: 0.00012219683223014508\n",
      "units_1: 416\n",
      "units_2: 640\n",
      "units_3: 768\n",
      "units_4: 800\n",
      "tuner/epochs: 4\n",
      "tuner/initial_epoch: 0\n",
      "tuner/bracket: 1\n",
      "tuner/round: 0\n",
      "Score: 0.8430989384651184\n",
      "Trial summary\n",
      "Hyperparameters:\n",
      "num_layers: 3\n",
      "units_0: 800\n",
      "activation: tanh\n",
      "dropout: True\n",
      "lr: 0.00012219683223014508\n",
      "units_1: 416\n",
      "units_2: 640\n",
      "units_3: 768\n",
      "units_4: 800\n",
      "tuner/epochs: 10\n",
      "tuner/initial_epoch: 4\n",
      "tuner/bracket: 1\n",
      "tuner/round: 1\n",
      "tuner/trial_id: 0018\n",
      "Score: 0.8430989384651184\n",
      "Trial summary\n",
      "Hyperparameters:\n",
      "num_layers: 5\n",
      "units_0: 736\n",
      "activation: tanh\n",
      "dropout: True\n",
      "lr: 0.00829014608439077\n",
      "units_1: 320\n",
      "units_2: 704\n",
      "units_3: 576\n",
      "units_4: 224\n",
      "tuner/epochs: 10\n",
      "tuner/initial_epoch: 0\n",
      "tuner/bracket: 0\n",
      "tuner/round: 0\n",
      "Score: 0.8430989384651184\n",
      "Trial summary\n",
      "Hyperparameters:\n",
      "num_layers: 2\n",
      "units_0: 416\n",
      "activation: elu\n",
      "dropout: True\n",
      "lr: 0.00013393548989867082\n",
      "tuner/epochs: 2\n",
      "tuner/initial_epoch: 0\n",
      "tuner/bracket: 2\n",
      "tuner/round: 0\n",
      "units_1: 32\n",
      "Score: 0.8424479365348816\n",
      "Trial summary\n",
      "Hyperparameters:\n",
      "num_layers: 3\n",
      "units_0: 800\n",
      "activation: tanh\n",
      "dropout: True\n",
      "lr: 0.0002470941993523134\n",
      "units_1: 416\n",
      "tuner/epochs: 2\n",
      "tuner/initial_epoch: 0\n",
      "tuner/bracket: 2\n",
      "tuner/round: 0\n",
      "units_2: 32\n",
      "Score: 0.8424479365348816\n",
      "Trial summary\n",
      "Hyperparameters:\n",
      "num_layers: 1\n",
      "units_0: 448\n",
      "activation: relu\n",
      "dropout: True\n",
      "lr: 0.0007781436518320102\n",
      "units_1: 288\n",
      "units_2: 832\n",
      "tuner/epochs: 2\n",
      "tuner/initial_epoch: 0\n",
      "tuner/bracket: 2\n",
      "tuner/round: 0\n",
      "Score: 0.8424479365348816\n",
      "Trial summary\n",
      "Hyperparameters:\n",
      "num_layers: 2\n",
      "units_0: 256\n",
      "activation: selu\n",
      "dropout: True\n",
      "lr: 0.00011103593434762787\n",
      "units_1: 64\n",
      "units_2: 896\n",
      "units_3: 480\n",
      "units_4: 96\n",
      "tuner/epochs: 2\n",
      "tuner/initial_epoch: 0\n",
      "tuner/bracket: 2\n",
      "tuner/round: 0\n",
      "Score: 0.8424479365348816\n",
      "Trial summary\n",
      "Hyperparameters:\n",
      "num_layers: 3\n",
      "units_0: 384\n",
      "activation: tanh\n",
      "dropout: False\n",
      "lr: 0.0001261677614273853\n",
      "units_1: 160\n",
      "units_2: 896\n",
      "units_3: 64\n",
      "units_4: 320\n",
      "tuner/epochs: 4\n",
      "tuner/initial_epoch: 2\n",
      "tuner/bracket: 2\n",
      "tuner/round: 1\n",
      "tuner/trial_id: 0011\n",
      "Score: 0.8424479365348816\n",
      "Trial summary\n",
      "Hyperparameters:\n",
      "num_layers: 2\n",
      "units_0: 416\n",
      "activation: elu\n",
      "dropout: True\n",
      "lr: 0.00013393548989867082\n",
      "tuner/epochs: 4\n",
      "tuner/initial_epoch: 2\n",
      "tuner/bracket: 2\n",
      "tuner/round: 1\n",
      "units_1: 32\n",
      "tuner/trial_id: 0000\n",
      "Score: 0.8424479365348816\n"
     ]
    }
   ],
   "source": [
    "tuner.results_summary()"
   ]
  },
  {
   "cell_type": "code",
   "execution_count": null,
   "id": "0097b221",
   "metadata": {},
   "outputs": [
    {
     "name": "stdout",
     "output_type": "stream",
     "text": [
      "Epoch 1/50\n",
      "240/240 [==============================] - 2s 7ms/step - loss: 0.0000e+00 - accuracy: 0.8273 - val_loss: 0.0000e+00 - val_accuracy: 0.8375\n",
      "Epoch 2/50\n",
      "240/240 [==============================] - 2s 6ms/step - loss: 0.0000e+00 - accuracy: 0.8350 - val_loss: 0.0000e+00 - val_accuracy: 0.8380\n",
      "Epoch 3/50\n",
      "240/240 [==============================] - 2s 6ms/step - loss: 0.0000e+00 - accuracy: 0.8350 - val_loss: 0.0000e+00 - val_accuracy: 0.8380\n",
      "Epoch 4/50\n",
      "240/240 [==============================] - 2s 7ms/step - loss: 0.0000e+00 - accuracy: 0.8350 - val_loss: 0.0000e+00 - val_accuracy: 0.8380\n",
      "Epoch 5/50\n",
      "240/240 [==============================] - 2s 6ms/step - loss: 0.0000e+00 - accuracy: 0.8350 - val_loss: 0.0000e+00 - val_accuracy: 0.8380\n",
      "Epoch 6/50\n",
      "240/240 [==============================] - 2s 6ms/step - loss: 0.0000e+00 - accuracy: 0.8350 - val_loss: 0.0000e+00 - val_accuracy: 0.8380\n",
      "Epoch 7/50\n",
      "240/240 [==============================] - 2s 6ms/step - loss: 0.0000e+00 - accuracy: 0.8350 - val_loss: 0.0000e+00 - val_accuracy: 0.8380\n",
      "Epoch 8/50\n",
      "240/240 [==============================] - 2s 6ms/step - loss: 0.0000e+00 - accuracy: 0.8350 - val_loss: 0.0000e+00 - val_accuracy: 0.8380\n",
      "Epoch 9/50\n",
      "240/240 [==============================] - 2s 6ms/step - loss: 0.0000e+00 - accuracy: 0.8350 - val_loss: 0.0000e+00 - val_accuracy: 0.8380\n",
      "Epoch 10/50\n",
      "240/240 [==============================] - 2s 6ms/step - loss: 0.0000e+00 - accuracy: 0.8350 - val_loss: 0.0000e+00 - val_accuracy: 0.8380\n",
      "Epoch 11/50\n",
      "240/240 [==============================] - 2s 6ms/step - loss: 0.0000e+00 - accuracy: 0.8350 - val_loss: 0.0000e+00 - val_accuracy: 0.8380\n",
      "Epoch 12/50\n",
      "240/240 [==============================] - 2s 6ms/step - loss: 0.0000e+00 - accuracy: 0.8350 - val_loss: 0.0000e+00 - val_accuracy: 0.8380\n",
      "Epoch 13/50\n",
      "240/240 [==============================] - 2s 7ms/step - loss: 0.0000e+00 - accuracy: 0.8350 - val_loss: 0.0000e+00 - val_accuracy: 0.8380\n",
      "Epoch 14/50\n",
      "240/240 [==============================] - 2s 6ms/step - loss: 0.0000e+00 - accuracy: 0.8350 - val_loss: 0.0000e+00 - val_accuracy: 0.8380\n",
      "Epoch 15/50\n",
      "240/240 [==============================] - 2s 6ms/step - loss: 0.0000e+00 - accuracy: 0.8350 - val_loss: 0.0000e+00 - val_accuracy: 0.8380\n",
      "Epoch 16/50\n",
      "240/240 [==============================] - 1s 6ms/step - loss: 0.0000e+00 - accuracy: 0.8350 - val_loss: 0.0000e+00 - val_accuracy: 0.8380\n",
      "Epoch 17/50\n",
      "240/240 [==============================] - 2s 7ms/step - loss: 0.0000e+00 - accuracy: 0.8350 - val_loss: 0.0000e+00 - val_accuracy: 0.8380\n",
      "Epoch 18/50\n",
      "240/240 [==============================] - 2s 6ms/step - loss: 0.0000e+00 - accuracy: 0.8350 - val_loss: 0.0000e+00 - val_accuracy: 0.8380\n",
      "Epoch 19/50\n",
      "240/240 [==============================] - 2s 7ms/step - loss: 0.0000e+00 - accuracy: 0.8350 - val_loss: 0.0000e+00 - val_accuracy: 0.8380\n",
      "Epoch 20/50\n",
      "240/240 [==============================] - 2s 6ms/step - loss: 0.0000e+00 - accuracy: 0.8350 - val_loss: 0.0000e+00 - val_accuracy: 0.8380\n",
      "Epoch 21/50\n",
      "240/240 [==============================] - 2s 6ms/step - loss: 0.0000e+00 - accuracy: 0.8350 - val_loss: 0.0000e+00 - val_accuracy: 0.8380\n",
      "Epoch 22/50\n",
      "240/240 [==============================] - 2s 6ms/step - loss: 0.0000e+00 - accuracy: 0.8350 - val_loss: 0.0000e+00 - val_accuracy: 0.8380\n",
      "Epoch 23/50\n",
      "240/240 [==============================] - 2s 6ms/step - loss: 0.0000e+00 - accuracy: 0.8350 - val_loss: 0.0000e+00 - val_accuracy: 0.8380\n",
      "Epoch 24/50\n",
      "240/240 [==============================] - 2s 6ms/step - loss: 0.0000e+00 - accuracy: 0.8350 - val_loss: 0.0000e+00 - val_accuracy: 0.8380\n",
      "Epoch 25/50\n",
      "240/240 [==============================] - 2s 6ms/step - loss: 0.0000e+00 - accuracy: 0.8350 - val_loss: 0.0000e+00 - val_accuracy: 0.8380\n",
      "Epoch 26/50\n",
      "240/240 [==============================] - 2s 7ms/step - loss: 0.0000e+00 - accuracy: 0.8350 - val_loss: 0.0000e+00 - val_accuracy: 0.8380\n",
      "Epoch 27/50\n",
      "240/240 [==============================] - 2s 6ms/step - loss: 0.0000e+00 - accuracy: 0.8350 - val_loss: 0.0000e+00 - val_accuracy: 0.8380\n",
      "Epoch 28/50\n",
      "240/240 [==============================] - 2s 6ms/step - loss: 0.0000e+00 - accuracy: 0.8350 - val_loss: 0.0000e+00 - val_accuracy: 0.8380\n",
      "Epoch 29/50\n",
      "240/240 [==============================] - 1s 6ms/step - loss: 0.0000e+00 - accuracy: 0.8350 - val_loss: 0.0000e+00 - val_accuracy: 0.8380\n",
      "Epoch 30/50\n",
      "240/240 [==============================] - 2s 7ms/step - loss: 0.0000e+00 - accuracy: 0.8350 - val_loss: 0.0000e+00 - val_accuracy: 0.8380\n",
      "Epoch 31/50\n",
      "240/240 [==============================] - 2s 6ms/step - loss: 0.0000e+00 - accuracy: 0.8350 - val_loss: 0.0000e+00 - val_accuracy: 0.8380\n",
      "Epoch 32/50\n",
      "240/240 [==============================] - 2s 7ms/step - loss: 0.0000e+00 - accuracy: 0.8350 - val_loss: 0.0000e+00 - val_accuracy: 0.8380\n",
      "Epoch 33/50\n",
      "240/240 [==============================] - 2s 6ms/step - loss: 0.0000e+00 - accuracy: 0.8350 - val_loss: 0.0000e+00 - val_accuracy: 0.8380\n",
      "Epoch 34/50\n",
      "240/240 [==============================] - 2s 6ms/step - loss: 0.0000e+00 - accuracy: 0.8350 - val_loss: 0.0000e+00 - val_accuracy: 0.8380\n",
      "Epoch 35/50\n",
      "240/240 [==============================] - 2s 6ms/step - loss: 0.0000e+00 - accuracy: 0.8350 - val_loss: 0.0000e+00 - val_accuracy: 0.8380\n",
      "Epoch 36/50\n",
      "240/240 [==============================] - 2s 6ms/step - loss: 0.0000e+00 - accuracy: 0.8350 - val_loss: 0.0000e+00 - val_accuracy: 0.8380\n",
      "Epoch 37/50\n",
      "240/240 [==============================] - 2s 7ms/step - loss: 0.0000e+00 - accuracy: 0.8350 - val_loss: 0.0000e+00 - val_accuracy: 0.8380\n",
      "Epoch 38/50\n",
      "240/240 [==============================] - 2s 6ms/step - loss: 0.0000e+00 - accuracy: 0.8350 - val_loss: 0.0000e+00 - val_accuracy: 0.8380\n",
      "Epoch 39/50\n",
      "240/240 [==============================] - 2s 7ms/step - loss: 0.0000e+00 - accuracy: 0.8350 - val_loss: 0.0000e+00 - val_accuracy: 0.8380\n",
      "Epoch 40/50\n",
      "240/240 [==============================] - 2s 6ms/step - loss: 0.0000e+00 - accuracy: 0.8350 - val_loss: 0.0000e+00 - val_accuracy: 0.8380\n",
      "Epoch 41/50\n",
      "240/240 [==============================] - 2s 6ms/step - loss: 0.0000e+00 - accuracy: 0.8350 - val_loss: 0.0000e+00 - val_accuracy: 0.8380\n",
      "Epoch 42/50\n",
      "240/240 [==============================] - 2s 6ms/step - loss: 0.0000e+00 - accuracy: 0.8350 - val_loss: 0.0000e+00 - val_accuracy: 0.8380\n",
      "Epoch 43/50\n",
      "240/240 [==============================] - 2s 7ms/step - loss: 0.0000e+00 - accuracy: 0.8350 - val_loss: 0.0000e+00 - val_accuracy: 0.8380\n",
      "Epoch 44/50\n",
      "240/240 [==============================] - 2s 6ms/step - loss: 0.0000e+00 - accuracy: 0.8350 - val_loss: 0.0000e+00 - val_accuracy: 0.8380\n",
      "Epoch 45/50\n",
      "240/240 [==============================] - 2s 6ms/step - loss: 0.0000e+00 - accuracy: 0.8350 - val_loss: 0.0000e+00 - val_accuracy: 0.8380\n",
      "Epoch 46/50\n",
      "240/240 [==============================] - 2s 6ms/step - loss: 0.0000e+00 - accuracy: 0.8350 - val_loss: 0.0000e+00 - val_accuracy: 0.8380\n",
      "Epoch 47/50\n",
      "240/240 [==============================] - 1s 6ms/step - loss: 0.0000e+00 - accuracy: 0.8350 - val_loss: 0.0000e+00 - val_accuracy: 0.8380\n",
      "Epoch 48/50\n",
      "240/240 [==============================] - 2s 6ms/step - loss: 0.0000e+00 - accuracy: 0.8350 - val_loss: 0.0000e+00 - val_accuracy: 0.8380\n",
      "Epoch 49/50\n",
      "240/240 [==============================] - 2s 6ms/step - loss: 0.0000e+00 - accuracy: 0.8350 - val_loss: 0.0000e+00 - val_accuracy: 0.8380\n",
      "Epoch 50/50\n",
      "240/240 [==============================] - 2s 7ms/step - loss: 0.0000e+00 - accuracy: 0.8350 - val_loss: 0.0000e+00 - val_accuracy: 0.8380\n"
     ]
    },
    {
     "data": {
      "text/plain": [
       "<keras.callbacks.History at 0x24f0e6f60d0>"
      ]
     },
     "metadata": {},
     "output_type": "display_data"
    }
   ],
   "source": [
    "best_hps = tuner.get_best_hyperparameters(5)\n",
    "# Build the model with the best hp.\n",
    "model = tuner.hypermodel.build(best_hps[0])\n",
    "# Fit with the entire dataset.\n",
    "x_all = np.concatenate((X_train, X_val))\n",
    "y_all = np.concatenate((y_train, y_val))\n",
    "model.fit(x_all, y_all, epochs=50, validation_split=0.2)"
   ]
  },
  {
   "cell_type": "code",
   "execution_count": null,
   "id": "408ae928",
   "metadata": {},
   "outputs": [
    {
     "name": "stdout",
     "output_type": "stream",
     "text": [
      "75/75 [==============================] - 0s 3ms/step - loss: 0.0000e+00 - accuracy: 0.8254\n"
     ]
    }
   ],
   "source": [
    "results = model.evaluate(X_test, y_test, batch_size=batch)"
   ]
  },
  {
   "cell_type": "markdown",
   "id": "640eb6c8",
   "metadata": {},
   "source": [
    "We found that the accuracy of the neural network model did not improve much on the accuracy we took received the logistic regression model. The neural network model yielded a train accuracy of 83.50% and a test accuracy of 82.54%. Before assuming that this was possibly caused by the data, we decided to also check the accuracy of other lower level models."
   ]
  },
  {
   "cell_type": "markdown",
   "id": "a4e47179",
   "metadata": {},
   "source": [
    "## Additional Models\n",
    "Since we performed classification that only involved two classes, we were still open to a variety of models. After doing some research, we found that the best models for classification were already the ones discussed during the course. Specifically, we decided on **Naive Bayes** and **Decision Trees/Ensemble Models**. After looking for additional libraries for classification, we found that the most commonly used ones are found under **scikit-learn**. As such, we used **scikit-learn**'s **MultinomialNB**, **DecisionTreeClassifier**, and **RandomForestClassifier** as additional comparisons of accuracy. "
   ]
  },
  {
   "cell_type": "markdown",
   "id": "1544546e",
   "metadata": {},
   "source": [
    "## Naive Bayes\n",
    "The first additional model for comparison is a *Multinomial Naive Bayes* model."
   ]
  },
  {
   "cell_type": "code",
   "execution_count": null,
   "id": "a8e38170",
   "metadata": {
    "id": "a8e38170",
    "outputId": "47101195-2175-4db9-d13e-001edecaf4bb"
   },
   "outputs": [
    {
     "data": {
      "text/plain": [
       "MultinomialNB()"
      ]
     },
     "metadata": {},
     "output_type": "display_data"
    }
   ],
   "source": [
    "# Initialize and train Naive Bayes model with default parameters\n",
    "mNB = MultinomialNB()\n",
    "mNB.fit(X_train, y_train)"
   ]
  },
  {
   "cell_type": "code",
   "execution_count": null,
   "id": "43e7b875",
   "metadata": {
    "id": "43e7b875",
    "outputId": "03b74767-5ea8-49d6-85a4-eb91c7aea74d"
   },
   "outputs": [
    {
     "name": "stdout",
     "output_type": "stream",
     "text": [
      "Train Accuracy: 0.8303571428571429\n"
     ]
    }
   ],
   "source": [
    "# Predict using training data and get accuracy\n",
    "predictions = mNB.predict(X_train)\n",
    "print('Train Accuracy:', compute_accuracy(predictions, y_train))"
   ]
  },
  {
   "cell_type": "code",
   "execution_count": null,
   "id": "eaf78f4b",
   "metadata": {
    "id": "eaf78f4b",
    "outputId": "b9e8fbca-0ed5-4cf9-93ff-ed06417d70d4"
   },
   "outputs": [
    {
     "name": "stdout",
     "output_type": "stream",
     "text": [
      "Train Accuracy: 0.8291666666666667\n"
     ]
    }
   ],
   "source": [
    "# Predict using testing data and get accuracy\n",
    "predictions = mNB.predict(X_test)\n",
    "print('Train Accuracy:', compute_accuracy(predictions, y_test))"
   ]
  },
  {
   "cell_type": "markdown",
   "id": "73dcf3c4",
   "metadata": {},
   "source": [
    "The initial *MultinomialNB* model yielded a training accuracy of **83.04%** and a testing accuracy of **82.92%**."
   ]
  },
  {
   "cell_type": "markdown",
   "id": "f2a23581",
   "metadata": {
    "id": "f2a23581"
   },
   "source": [
    "### Hyperparameter Tuning\n",
    "The parameters for a *MultinomialNB* model are as follows:\n",
    "- *alpha* - Determines additive/laplace smoothing\n",
    "- *fit_prior* - Determines whether to learn class prior probabilities or not"
   ]
  },
  {
   "cell_type": "code",
   "execution_count": null,
   "id": "c4d40bff",
   "metadata": {
    "id": "c4d40bff"
   },
   "outputs": [],
   "source": [
    "# Initialize MultinomialNB model using default parameters\n",
    "mNB = MultinomialNB()"
   ]
  },
  {
   "cell_type": "code",
   "execution_count": null,
   "id": "acaac2a5",
   "metadata": {
    "id": "acaac2a5"
   },
   "outputs": [],
   "source": [
    "# List down possible parameters for a MultinomialNB model\n",
    "hyperparameters = [{\n",
    "    'alpha': [1, 3, 5, 10, 15, 20, 50],\n",
    "    'fit_prior': [True, False]\n",
    "}]"
   ]
  },
  {
   "cell_type": "code",
   "execution_count": null,
   "id": "2a36504e",
   "metadata": {},
   "outputs": [
    {
     "name": "stdout",
     "output_type": "stream",
     "text": [
      "Fitting 5 folds for each of 14 candidates, totalling 70 fits\n",
      "[CV 1/5] END ...........alpha=1, fit_prior=True;, score=0.829 total time=   1.1s\n",
      "[CV 2/5] END ...........alpha=1, fit_prior=True;, score=0.827 total time=   1.1s\n",
      "[CV 3/5] END ...........alpha=1, fit_prior=True;, score=0.826 total time=   1.1s\n",
      "[CV 4/5] END ...........alpha=1, fit_prior=True;, score=0.829 total time=   1.2s\n",
      "[CV 5/5] END ...........alpha=1, fit_prior=True;, score=0.827 total time=   1.1s\n",
      "[CV 1/5] END ..........alpha=1, fit_prior=False;, score=0.537 total time=   1.1s\n",
      "[CV 2/5] END ..........alpha=1, fit_prior=False;, score=0.531 total time=   1.3s\n",
      "[CV 3/5] END ..........alpha=1, fit_prior=False;, score=0.529 total time=   1.2s\n",
      "[CV 4/5] END ..........alpha=1, fit_prior=False;, score=0.543 total time=   1.2s\n",
      "[CV 5/5] END ..........alpha=1, fit_prior=False;, score=0.527 total time=   1.2s\n",
      "[CV 1/5] END ...........alpha=3, fit_prior=True;, score=0.829 total time=   1.2s\n",
      "[CV 2/5] END ...........alpha=3, fit_prior=True;, score=0.827 total time=   1.2s\n",
      "[CV 3/5] END ...........alpha=3, fit_prior=True;, score=0.826 total time=   1.2s\n",
      "[CV 4/5] END ...........alpha=3, fit_prior=True;, score=0.829 total time=   1.1s\n",
      "[CV 5/5] END ...........alpha=3, fit_prior=True;, score=0.828 total time=   1.3s\n",
      "[CV 1/5] END ..........alpha=3, fit_prior=False;, score=0.537 total time=   1.4s\n",
      "[CV 2/5] END ..........alpha=3, fit_prior=False;, score=0.530 total time=   1.3s\n",
      "[CV 3/5] END ..........alpha=3, fit_prior=False;, score=0.529 total time=   1.2s\n",
      "[CV 4/5] END ..........alpha=3, fit_prior=False;, score=0.542 total time=   1.2s\n",
      "[CV 5/5] END ..........alpha=3, fit_prior=False;, score=0.526 total time=   1.1s\n",
      "[CV 1/5] END ...........alpha=5, fit_prior=True;, score=0.829 total time=   1.1s\n",
      "[CV 2/5] END ...........alpha=5, fit_prior=True;, score=0.827 total time=   1.1s\n",
      "[CV 3/5] END ...........alpha=5, fit_prior=True;, score=0.826 total time=   1.1s\n",
      "[CV 4/5] END ...........alpha=5, fit_prior=True;, score=0.830 total time=   1.1s\n",
      "[CV 5/5] END ...........alpha=5, fit_prior=True;, score=0.828 total time=   1.1s\n",
      "[CV 1/5] END ..........alpha=5, fit_prior=False;, score=0.539 total time=   1.1s\n",
      "[CV 2/5] END ..........alpha=5, fit_prior=False;, score=0.531 total time=   1.1s\n",
      "[CV 3/5] END ..........alpha=5, fit_prior=False;, score=0.529 total time=   1.2s\n",
      "[CV 4/5] END ..........alpha=5, fit_prior=False;, score=0.543 total time=   1.1s\n",
      "[CV 5/5] END ..........alpha=5, fit_prior=False;, score=0.527 total time=   1.1s\n",
      "[CV 1/5] END ..........alpha=10, fit_prior=True;, score=0.829 total time=   1.1s\n",
      "[CV 2/5] END ..........alpha=10, fit_prior=True;, score=0.827 total time=   1.1s\n",
      "[CV 3/5] END ..........alpha=10, fit_prior=True;, score=0.827 total time=   1.1s\n",
      "[CV 4/5] END ..........alpha=10, fit_prior=True;, score=0.830 total time=   1.1s\n",
      "[CV 5/5] END ..........alpha=10, fit_prior=True;, score=0.829 total time=   1.1s\n",
      "[CV 1/5] END .........alpha=10, fit_prior=False;, score=0.537 total time=   1.1s\n",
      "[CV 2/5] END .........alpha=10, fit_prior=False;, score=0.532 total time=   1.1s\n",
      "[CV 3/5] END .........alpha=10, fit_prior=False;, score=0.529 total time=   1.1s\n",
      "[CV 4/5] END .........alpha=10, fit_prior=False;, score=0.542 total time=   1.2s\n",
      "[CV 5/5] END .........alpha=10, fit_prior=False;, score=0.528 total time=   1.2s\n",
      "[CV 1/5] END ..........alpha=15, fit_prior=True;, score=0.829 total time=   1.1s\n",
      "[CV 2/5] END ..........alpha=15, fit_prior=True;, score=0.828 total time=   1.1s\n",
      "[CV 3/5] END ..........alpha=15, fit_prior=True;, score=0.827 total time=   1.1s\n",
      "[CV 4/5] END ..........alpha=15, fit_prior=True;, score=0.830 total time=   1.1s\n",
      "[CV 5/5] END ..........alpha=15, fit_prior=True;, score=0.829 total time=   1.1s\n",
      "[CV 1/5] END .........alpha=15, fit_prior=False;, score=0.537 total time=   1.1s\n",
      "[CV 2/5] END .........alpha=15, fit_prior=False;, score=0.534 total time=   1.1s\n",
      "[CV 3/5] END .........alpha=15, fit_prior=False;, score=0.530 total time=   1.1s\n",
      "[CV 4/5] END .........alpha=15, fit_prior=False;, score=0.543 total time=   1.1s\n",
      "[CV 5/5] END .........alpha=15, fit_prior=False;, score=0.527 total time=   1.1s\n",
      "[CV 1/5] END ..........alpha=20, fit_prior=True;, score=0.829 total time=   1.1s\n",
      "[CV 2/5] END ..........alpha=20, fit_prior=True;, score=0.830 total time=   1.2s\n",
      "[CV 3/5] END ..........alpha=20, fit_prior=True;, score=0.827 total time=   1.1s\n",
      "[CV 4/5] END ..........alpha=20, fit_prior=True;, score=0.829 total time=   1.2s\n",
      "[CV 5/5] END ..........alpha=20, fit_prior=True;, score=0.828 total time=   1.2s\n",
      "[CV 1/5] END .........alpha=20, fit_prior=False;, score=0.535 total time=   1.1s\n",
      "[CV 2/5] END .........alpha=20, fit_prior=False;, score=0.535 total time=   1.1s\n",
      "[CV 3/5] END .........alpha=20, fit_prior=False;, score=0.527 total time=   1.1s\n",
      "[CV 4/5] END .........alpha=20, fit_prior=False;, score=0.542 total time=   1.1s\n",
      "[CV 5/5] END .........alpha=20, fit_prior=False;, score=0.527 total time=   1.1s\n",
      "[CV 1/5] END ..........alpha=50, fit_prior=True;, score=0.830 total time=   1.1s\n",
      "[CV 2/5] END ..........alpha=50, fit_prior=True;, score=0.832 total time=   1.1s\n",
      "[CV 3/5] END ..........alpha=50, fit_prior=True;, score=0.827 total time=   1.3s\n",
      "[CV 4/5] END ..........alpha=50, fit_prior=True;, score=0.830 total time=   1.3s\n",
      "[CV 5/5] END ..........alpha=50, fit_prior=True;, score=0.829 total time=   1.2s\n",
      "[CV 1/5] END .........alpha=50, fit_prior=False;, score=0.533 total time=   1.1s\n",
      "[CV 2/5] END .........alpha=50, fit_prior=False;, score=0.535 total time=   1.1s\n",
      "[CV 3/5] END .........alpha=50, fit_prior=False;, score=0.529 total time=   1.2s\n",
      "[CV 4/5] END .........alpha=50, fit_prior=False;, score=0.537 total time=   1.2s\n",
      "[CV 5/5] END .........alpha=50, fit_prior=False;, score=0.527 total time=   1.1s\n"
     ]
    },
    {
     "data": {
      "text/plain": [
       "GridSearchCV(cv=5, estimator=MultinomialNB(),\n",
       "             param_grid=[{'alpha': [1, 3, 5, 10, 15, 20, 50],\n",
       "                          'fit_prior': [True, False]}],\n",
       "             verbose=5)"
      ]
     },
     "metadata": {},
     "output_type": "display_data"
    }
   ],
   "source": [
    "# Use GridSearchCV to find the best parameters\n",
    "gsnb = GridSearchCV(estimator=mNB, param_grid=hyperparameters, cv=5, verbose=5)\n",
    "gsnb.fit(X_train, y_train)"
   ]
  },
  {
   "cell_type": "code",
   "execution_count": null,
   "id": "847a70a5",
   "metadata": {},
   "outputs": [
    {
     "data": {
      "text/plain": [
       "{'alpha': 50, 'fit_prior': True}"
      ]
     },
     "metadata": {},
     "output_type": "display_data"
    }
   ],
   "source": [
    "# Get best parameters through GridSearchCV\n",
    "gsnb.best_params_"
   ]
  },
  {
   "cell_type": "markdown",
   "id": "ba783707",
   "metadata": {
    "id": "ba783707"
   },
   "source": [
    "### Retrainining model with best parameters"
   ]
  },
  {
   "cell_type": "code",
   "execution_count": 52,
   "id": "fdb95715",
   "metadata": {
    "id": "fdb95715",
    "outputId": "a40befd2-4b2f-475e-89d4-9be619e72c5d"
   },
   "outputs": [
    {
     "data": {
      "text/plain": [
       "MultinomialNB(alpha=50)"
      ]
     },
     "execution_count": 52,
     "metadata": {},
     "output_type": "execute_result"
    }
   ],
   "source": [
    "# Initialize and train new MultinomialNB model using the best parameters according to GridSearchCV\n",
    "mNB = MultinomialNB(alpha=50, fit_prior=True)\n",
    "mNB.fit(X_train, y_train)"
   ]
  },
  {
   "cell_type": "code",
   "execution_count": null,
   "id": "1e6654eb",
   "metadata": {
    "id": "1e6654eb",
    "outputId": "c1f67edd-54be-4f2d-91cc-6a7fd028f5b0"
   },
   "outputs": [
    {
     "name": "stdout",
     "output_type": "stream",
     "text": [
      "Train Accuracy: 0.8308333333333333\n"
     ]
    }
   ],
   "source": [
    "# Predict using training data and get accuracy\n",
    "predictions = mNB.predict(X_train)\n",
    "print('Train Accuracy:', compute_accuracy(predictions, y_train))"
   ]
  },
  {
   "cell_type": "code",
   "execution_count": null,
   "id": "124648bb",
   "metadata": {
    "id": "124648bb",
    "outputId": "9d945016-d13b-4a80-a91d-3bff5bb92624"
   },
   "outputs": [
    {
     "name": "stdout",
     "output_type": "stream",
     "text": [
      "Train Accuracy: 0.8316666666666667\n"
     ]
    }
   ],
   "source": [
    "# Predict using testing data and get accuracy\n",
    "predictions = mNB.predict(X_test)\n",
    "print('Train Accuracy:', compute_accuracy(predictions, y_test))"
   ]
  },
  {
   "cell_type": "markdown",
   "id": "768cfa85",
   "metadata": {},
   "source": [
    "With the best parameters, the *MultinomialNB* model yielded a training accuracy of **83.08%** and a testing accuracy of **83.17%**."
   ]
  },
  {
   "cell_type": "markdown",
   "id": "65253f19",
   "metadata": {},
   "source": [
    "## Decision Tree\n",
    "The next type of model is a *DecisionTreeClassifier*."
   ]
  },
  {
   "cell_type": "markdown",
   "id": "5cd99706",
   "metadata": {},
   "source": [
    "Let us train a Decision Tree Classifier with a set of arbitrary parameters. We decided to give the model arbitrary parameters since the default model would take longer to train, given the processing power of our machines and the size of the CSGO dataset."
   ]
  },
  {
   "cell_type": "code",
   "execution_count": null,
   "id": "47524a6b",
   "metadata": {
    "colab": {
     "base_uri": "https://localhost:8080/"
    },
    "executionInfo": {
     "elapsed": 159812,
     "status": "ok",
     "timestamp": 1656852064036,
     "user": {
      "displayName": "Renzel Raphael Aldecoa",
      "userId": "03889840017299238253"
     },
     "user_tz": -480
    },
    "id": "47524a6b",
    "outputId": "feea1f50-117f-4186-cd26-8b7fa7e39dd0"
   },
   "outputs": [
    {
     "data": {
      "text/plain": [
       "DecisionTreeClassifier(max_depth=10, max_leaf_nodes=20, min_samples_split=6)"
      ]
     },
     "metadata": {},
     "output_type": "display_data"
    }
   ],
   "source": [
    "# Initialize and train DecisionTreeClassifier with arbitrary parameters\n",
    "dtc = DecisionTreeClassifier(criterion='gini', max_depth=10, min_samples_split=6, max_leaf_nodes=20)\n",
    "dtc.fit(X_train, y_train)"
   ]
  },
  {
   "cell_type": "code",
   "execution_count": null,
   "id": "fd477557",
   "metadata": {
    "colab": {
     "base_uri": "https://localhost:8080/"
    },
    "executionInfo": {
     "elapsed": 419,
     "status": "ok",
     "timestamp": 1656852351107,
     "user": {
      "displayName": "Renzel Raphael Aldecoa",
      "userId": "03889840017299238253"
     },
     "user_tz": -480
    },
    "id": "fd477557",
    "outputId": "2c4c4e7d-18bd-4d9b-f38e-fde7f73aabed"
   },
   "outputs": [
    {
     "name": "stdout",
     "output_type": "stream",
     "text": [
      "Training Accuracy:  0.8517857142857143\n"
     ]
    }
   ],
   "source": [
    "# Predict using training data and get accuracy\n",
    "predictions = dtc.predict(X_train)\n",
    "print(\"Training Accuracy: \", compute_accuracy(predictions, y_train))"
   ]
  },
  {
   "cell_type": "code",
   "execution_count": null,
   "id": "78fe2380",
   "metadata": {
    "colab": {
     "base_uri": "https://localhost:8080/"
    },
    "executionInfo": {
     "elapsed": 2,
     "status": "ok",
     "timestamp": 1656852351544,
     "user": {
      "displayName": "Renzel Raphael Aldecoa",
      "userId": "03889840017299238253"
     },
     "user_tz": -480
    },
    "id": "78fe2380",
    "outputId": "fd3fe5b5-7dde-427d-b887-379f5234eed3"
   },
   "outputs": [
    {
     "name": "stdout",
     "output_type": "stream",
     "text": [
      "Testing Accuracy:  0.8161111111111111\n"
     ]
    }
   ],
   "source": [
    "# Predict using testing data and get accuracy\n",
    "predictions = dtc.predict(X_test)\n",
    "print(\"Testing Accuracy: \", compute_accuracy(predictions, y_test))"
   ]
  },
  {
   "cell_type": "markdown",
   "id": "117c422c",
   "metadata": {},
   "source": [
    "The initial model trained had a training accuracy of **85.18%** and a testing accuracy of **81.61%**. To get a better balance between train and test accuracy, let us now tune the model's hyperparameters."
   ]
  },
  {
   "cell_type": "markdown",
   "id": "b24e808e",
   "metadata": {
    "id": "b24e808e"
   },
   "source": [
    "### Hyperparameter Tuning\n",
    "The parameters for a *DecisionTreeClassifier* are as follows:\n",
    "- *criterion*: How the Decision Tree splits its nodes, either by checking impurity gain (gini) or information gain (entropy); an article mentions that their is no significant difference between the two in terms of their contribution to the model's accuracy, but *entropy* is slower to compute because of a logarithmic function in its formula (Mithrakumar, M., 2019).\n",
    "- *max_depth*: How 'deep' does the Decision Tree go when splitting nodes; the 'deeper' the tree goes, the more complex the model becomes, but risks overfitting.\n",
    "- *min_samples_split*: Determines minimum number of samples to split an *internal* node\n",
    "- *max_leaf_nodes*: Determines the limit of leaef nodes the Decision Tree can have"
   ]
  },
  {
   "cell_type": "code",
   "execution_count": null,
   "id": "8e03bb4c",
   "metadata": {
    "executionInfo": {
     "elapsed": 492,
     "status": "ok",
     "timestamp": 1656852360174,
     "user": {
      "displayName": "Renzel Raphael Aldecoa",
      "userId": "03889840017299238253"
     },
     "user_tz": -480
    },
    "id": "8e03bb4c"
   },
   "outputs": [],
   "source": [
    "# Initialize DecisionTreeClassifier with default parameters\n",
    "dtc = DecisionTreeClassifier()"
   ]
  },
  {
   "cell_type": "code",
   "execution_count": null,
   "id": "d56e6846",
   "metadata": {
    "executionInfo": {
     "elapsed": 4,
     "status": "ok",
     "timestamp": 1656852361887,
     "user": {
      "displayName": "Renzel Raphael Aldecoa",
      "userId": "03889840017299238253"
     },
     "user_tz": -480
    },
    "id": "d56e6846"
   },
   "outputs": [],
   "source": [
    "# List down possible parameters for a DecisionTreeClassifier model\n",
    "hyperparameters = [\n",
    "    {\n",
    "        'criterion': ['gini', 'entropy'],\n",
    "        'max_depth': [5, 10, 20],\n",
    "        'min_samples_split': [2, 4, 6],\n",
    "        'max_leaf_nodes': [5, 10, 20]\n",
    "    }\n",
    "]"
   ]
  },
  {
   "cell_type": "code",
   "execution_count": null,
   "id": "tvdOmS4JDtja",
   "metadata": {
    "colab": {
     "base_uri": "https://localhost:8080/"
    },
    "executionInfo": {
     "elapsed": 5179179,
     "status": "ok",
     "timestamp": 1656857543043,
     "user": {
      "displayName": "Renzel Raphael Aldecoa",
      "userId": "03889840017299238253"
     },
     "user_tz": -480
    },
    "id": "tvdOmS4JDtja",
    "outputId": "160f05c0-f7ce-49af-8cb4-ffc30b1e7383"
   },
   "outputs": [
    {
     "name": "stdout",
     "output_type": "stream",
     "text": [
      "Fitting 5 folds for each of 10 candidates, totalling 50 fits\n",
      "[CV 1/5] END criterion=gini, max_depth=20, max_leaf_nodes=5, min_samples_split=6;, score=0.840 total time= 1.2min\n",
      "[CV 2/5] END criterion=gini, max_depth=20, max_leaf_nodes=5, min_samples_split=6;, score=0.825 total time= 1.2min\n",
      "[CV 3/5] END criterion=gini, max_depth=20, max_leaf_nodes=5, min_samples_split=6;, score=0.839 total time= 1.2min\n",
      "[CV 4/5] END criterion=gini, max_depth=20, max_leaf_nodes=5, min_samples_split=6;, score=0.829 total time= 1.2min\n",
      "[CV 5/5] END criterion=gini, max_depth=20, max_leaf_nodes=5, min_samples_split=6;, score=0.827 total time= 1.2min\n",
      "[CV 1/5] END criterion=gini, max_depth=5, max_leaf_nodes=10, min_samples_split=2;, score=0.838 total time= 1.2min\n",
      "[CV 2/5] END criterion=gini, max_depth=5, max_leaf_nodes=10, min_samples_split=2;, score=0.828 total time= 1.2min\n",
      "[CV 3/5] END criterion=gini, max_depth=5, max_leaf_nodes=10, min_samples_split=2;, score=0.839 total time= 1.2min\n",
      "[CV 4/5] END criterion=gini, max_depth=5, max_leaf_nodes=10, min_samples_split=2;, score=0.833 total time= 1.2min\n",
      "[CV 5/5] END criterion=gini, max_depth=5, max_leaf_nodes=10, min_samples_split=2;, score=0.827 total time= 1.2min\n",
      "[CV 1/5] END criterion=entropy, max_depth=20, max_leaf_nodes=5, min_samples_split=2;, score=0.840 total time= 1.6min\n",
      "[CV 2/5] END criterion=entropy, max_depth=20, max_leaf_nodes=5, min_samples_split=2;, score=0.825 total time= 1.8min\n",
      "[CV 3/5] END criterion=entropy, max_depth=20, max_leaf_nodes=5, min_samples_split=2;, score=0.833 total time= 1.6min\n",
      "[CV 4/5] END criterion=entropy, max_depth=20, max_leaf_nodes=5, min_samples_split=2;, score=0.837 total time= 1.6min\n",
      "[CV 5/5] END criterion=entropy, max_depth=20, max_leaf_nodes=5, min_samples_split=2;, score=0.827 total time= 1.7min\n",
      "[CV 1/5] END criterion=gini, max_depth=10, max_leaf_nodes=20, min_samples_split=6;, score=0.839 total time= 1.9min\n",
      "[CV 2/5] END criterion=gini, max_depth=10, max_leaf_nodes=20, min_samples_split=6;, score=0.821 total time= 2.0min\n",
      "[CV 3/5] END criterion=gini, max_depth=10, max_leaf_nodes=20, min_samples_split=6;, score=0.836 total time= 1.8min\n",
      "[CV 4/5] END criterion=gini, max_depth=10, max_leaf_nodes=20, min_samples_split=6;, score=0.828 total time= 1.8min\n",
      "[CV 5/5] END criterion=gini, max_depth=10, max_leaf_nodes=20, min_samples_split=6;, score=0.824 total time= 1.7min\n",
      "[CV 1/5] END criterion=entropy, max_depth=5, max_leaf_nodes=10, min_samples_split=4;, score=0.839 total time= 1.8min\n",
      "[CV 2/5] END criterion=entropy, max_depth=5, max_leaf_nodes=10, min_samples_split=4;, score=0.825 total time= 1.8min\n",
      "[CV 3/5] END criterion=entropy, max_depth=5, max_leaf_nodes=10, min_samples_split=4;, score=0.838 total time= 1.8min\n",
      "[CV 4/5] END criterion=entropy, max_depth=5, max_leaf_nodes=10, min_samples_split=4;, score=0.837 total time= 1.8min\n",
      "[CV 5/5] END criterion=entropy, max_depth=5, max_leaf_nodes=10, min_samples_split=4;, score=0.827 total time= 1.8min\n",
      "[CV 1/5] END criterion=entropy, max_depth=5, max_leaf_nodes=20, min_samples_split=6;, score=0.837 total time= 1.8min\n",
      "[CV 2/5] END criterion=entropy, max_depth=5, max_leaf_nodes=20, min_samples_split=6;, score=0.836 total time= 1.8min\n",
      "[CV 3/5] END criterion=entropy, max_depth=5, max_leaf_nodes=20, min_samples_split=6;, score=0.836 total time= 1.8min\n",
      "[CV 4/5] END criterion=entropy, max_depth=5, max_leaf_nodes=20, min_samples_split=6;, score=0.832 total time= 1.8min\n",
      "[CV 5/5] END criterion=entropy, max_depth=5, max_leaf_nodes=20, min_samples_split=6;, score=0.831 total time= 1.8min\n",
      "[CV 1/5] END criterion=entropy, max_depth=10, max_leaf_nodes=10, min_samples_split=2;, score=0.840 total time= 2.5min\n",
      "[CV 2/5] END criterion=entropy, max_depth=10, max_leaf_nodes=10, min_samples_split=2;, score=0.818 total time= 2.4min\n",
      "[CV 3/5] END criterion=entropy, max_depth=10, max_leaf_nodes=10, min_samples_split=2;, score=0.830 total time= 2.2min\n",
      "[CV 4/5] END criterion=entropy, max_depth=10, max_leaf_nodes=10, min_samples_split=2;, score=0.837 total time= 2.5min\n",
      "[CV 5/5] END criterion=entropy, max_depth=10, max_leaf_nodes=10, min_samples_split=2;, score=0.823 total time= 2.3min\n",
      "[CV 1/5] END criterion=gini, max_depth=20, max_leaf_nodes=20, min_samples_split=6;, score=0.838 total time= 1.9min\n",
      "[CV 2/5] END criterion=gini, max_depth=20, max_leaf_nodes=20, min_samples_split=6;, score=0.819 total time= 1.9min\n",
      "[CV 3/5] END criterion=gini, max_depth=20, max_leaf_nodes=20, min_samples_split=6;, score=0.836 total time= 1.7min\n",
      "[CV 4/5] END criterion=gini, max_depth=20, max_leaf_nodes=20, min_samples_split=6;, score=0.828 total time= 1.8min\n",
      "[CV 5/5] END criterion=gini, max_depth=20, max_leaf_nodes=20, min_samples_split=6;, score=0.824 total time= 1.7min\n",
      "[CV 1/5] END criterion=gini, max_depth=20, max_leaf_nodes=10, min_samples_split=2;, score=0.840 total time= 1.3min\n",
      "[CV 2/5] END criterion=gini, max_depth=20, max_leaf_nodes=10, min_samples_split=2;, score=0.818 total time= 1.7min\n",
      "[CV 3/5] END criterion=gini, max_depth=20, max_leaf_nodes=10, min_samples_split=2;, score=0.836 total time= 1.5min\n",
      "[CV 4/5] END criterion=gini, max_depth=20, max_leaf_nodes=10, min_samples_split=2;, score=0.830 total time= 1.6min\n",
      "[CV 5/5] END criterion=gini, max_depth=20, max_leaf_nodes=10, min_samples_split=2;, score=0.824 total time= 1.6min\n",
      "[CV 1/5] END criterion=entropy, max_depth=10, max_leaf_nodes=5, min_samples_split=6;, score=0.840 total time= 1.5min\n",
      "[CV 2/5] END criterion=entropy, max_depth=10, max_leaf_nodes=5, min_samples_split=6;, score=0.825 total time= 1.8min\n",
      "[CV 3/5] END criterion=entropy, max_depth=10, max_leaf_nodes=5, min_samples_split=6;, score=0.833 total time= 1.6min\n",
      "[CV 4/5] END criterion=entropy, max_depth=10, max_leaf_nodes=5, min_samples_split=6;, score=0.837 total time= 1.6min\n",
      "[CV 5/5] END criterion=entropy, max_depth=10, max_leaf_nodes=5, min_samples_split=6;, score=0.827 total time= 1.7min\n"
     ]
    },
    {
     "data": {
      "text/plain": [
       "RandomizedSearchCV(cv=5, estimator=DecisionTreeClassifier(),\n",
       "                   param_distributions=[{'criterion': ['gini', 'entropy'],\n",
       "                                         'max_depth': [5, 10, 20],\n",
       "                                         'max_leaf_nodes': [5, 10, 20],\n",
       "                                         'min_samples_split': [2, 4, 6]}],\n",
       "                   random_state=10, verbose=5)"
      ]
     },
     "metadata": {},
     "output_type": "display_data"
    }
   ],
   "source": [
    "# Use RandomizedSearchCV to find the best parameters\n",
    "rsdtc = RandomizedSearchCV(estimator=dtc, param_distributions=hyperparameters, cv=5, random_state=10, verbose=5)\n",
    "rsdtc.fit(X_train, y_train)"
   ]
  },
  {
   "cell_type": "markdown",
   "id": "3076c70b",
   "metadata": {},
   "source": [
    "After fitting, we now have the list of the best parameters for the *DecisionTreeClassifier*"
   ]
  },
  {
   "cell_type": "code",
   "execution_count": null,
   "id": "zTmW-oO_DteA",
   "metadata": {
    "colab": {
     "base_uri": "https://localhost:8080/"
    },
    "executionInfo": {
     "elapsed": 266,
     "status": "ok",
     "timestamp": 1656858245574,
     "user": {
      "displayName": "Renzel Raphael Aldecoa",
      "userId": "03889840017299238253"
     },
     "user_tz": -480
    },
    "id": "zTmW-oO_DteA",
    "outputId": "6773b31f-e730-4615-e9aa-b2762a847cae"
   },
   "outputs": [
    {
     "data": {
      "text/plain": [
       "{'criterion': 'entropy',\n",
       " 'max_depth': 5,\n",
       " 'max_leaf_nodes': 20,\n",
       " 'min_samples_split': 6}"
      ]
     },
     "metadata": {},
     "output_type": "display_data"
    }
   ],
   "source": [
    "# Get best parameters through RandomizedSearchCV\n",
    "rsdtc.best_params_"
   ]
  },
  {
   "cell_type": "markdown",
   "id": "Vok1PAHjcrvh",
   "metadata": {
    "id": "Vok1PAHjcrvh"
   },
   "source": [
    "### Retraining model using best parameters"
   ]
  },
  {
   "cell_type": "code",
   "execution_count": 44,
   "id": "sgWprLrNcv3z",
   "metadata": {
    "colab": {
     "base_uri": "https://localhost:8080/"
    },
    "executionInfo": {
     "elapsed": 133019,
     "status": "ok",
     "timestamp": 1656858571270,
     "user": {
      "displayName": "Renzel Raphael Aldecoa",
      "userId": "03889840017299238253"
     },
     "user_tz": -480
    },
    "id": "sgWprLrNcv3z",
    "outputId": "cd06c022-ecec-43d6-c0b9-0f604cf7084a"
   },
   "outputs": [
    {
     "name": "stdout",
     "output_type": "stream",
     "text": [
      "Training Accuracy:  0.8495238095238096\n",
      "Testing Accuracy:  0.8338888888888889\n"
     ]
    }
   ],
   "source": [
    "# Initialize DecisionTreeClassifier using the best parameters according to RandomizedSearchCV, and train\n",
    "best_dtc = DecisionTreeClassifier(criterion='entropy', max_depth=5, max_leaf_nodes=20, min_samples_split=6)\n",
    "best_dtc.fit(X_train, y_train)\n",
    "\n",
    "# Predict using train and test data, and get accuracy\n",
    "predictions = best_dtc.predict(X_train)\n",
    "print(\"Training Accuracy: \", compute_accuracy(predictions, y_train))\n",
    "\n",
    "predictions = best_dtc.predict(X_test)\n",
    "print(\"Testing Accuracy: \", compute_accuracy(predictions, y_test))"
   ]
  },
  {
   "cell_type": "markdown",
   "id": "6584427c",
   "metadata": {},
   "source": [
    "Finally, the best *DecisionTreeClassifier* model had a training accuracy of **84.95%** and a testing accuracy of **83.38%**."
   ]
  },
  {
   "cell_type": "markdown",
   "id": "b13229de",
   "metadata": {},
   "source": [
    "## Random Forest\n",
    "The next type of model is an *Ensemble Model*, specifically a *RandomForestClassifier*."
   ]
  },
  {
   "cell_type": "markdown",
   "id": "6d4e482b",
   "metadata": {},
   "source": [
    "Like the previous, we train a *RandomForestClassifier* using an arbitrary set of parameters."
   ]
  },
  {
   "cell_type": "code",
   "execution_count": null,
   "id": "848ee6f8",
   "metadata": {
    "colab": {
     "base_uri": "https://localhost:8080/"
    },
    "executionInfo": {
     "elapsed": 104347,
     "status": "ok",
     "timestamp": 1656858715881,
     "user": {
      "displayName": "Renzel Raphael Aldecoa",
      "userId": "03889840017299238253"
     },
     "user_tz": -480
    },
    "id": "848ee6f8",
    "outputId": "3290ed0b-a0a5-4a76-b1bc-cee4a53d228f"
   },
   "outputs": [
    {
     "data": {
      "text/plain": [
       "RandomForestClassifier(max_depth=10, max_leaf_nodes=20, min_samples_split=6,\n",
       "                       n_estimators=300)"
      ]
     },
     "metadata": {},
     "output_type": "display_data"
    }
   ],
   "source": [
    "# Initialize and train RandomForestClassifier using arbitrary parameters\n",
    "rfc = RandomForestClassifier(n_estimators=300, criterion='gini', max_depth=10, min_samples_split=6, max_leaf_nodes=20)\n",
    "rfc.fit(X_train, y_train)"
   ]
  },
  {
   "cell_type": "code",
   "execution_count": null,
   "id": "d34bbde5",
   "metadata": {
    "colab": {
     "base_uri": "https://localhost:8080/"
    },
    "executionInfo": {
     "elapsed": 465,
     "status": "ok",
     "timestamp": 1656858716341,
     "user": {
      "displayName": "Renzel Raphael Aldecoa",
      "userId": "03889840017299238253"
     },
     "user_tz": -480
    },
    "id": "d34bbde5",
    "outputId": "59b0c83c-952a-41d4-dff5-aec1c8d3cb70"
   },
   "outputs": [
    {
     "name": "stdout",
     "output_type": "stream",
     "text": [
      "Training Accuracy:  0.8333333333333334\n"
     ]
    }
   ],
   "source": [
    "# Predict using training data and get accuracy\n",
    "predictions = rfc.predict(X_train)\n",
    "print(\"Training Accuracy: \", compute_accuracy(predictions, y_train))"
   ]
  },
  {
   "cell_type": "code",
   "execution_count": null,
   "id": "7038c92b",
   "metadata": {
    "colab": {
     "base_uri": "https://localhost:8080/"
    },
    "executionInfo": {
     "elapsed": 290,
     "status": "ok",
     "timestamp": 1656858716628,
     "user": {
      "displayName": "Renzel Raphael Aldecoa",
      "userId": "03889840017299238253"
     },
     "user_tz": -480
    },
    "id": "7038c92b",
    "outputId": "c5eb3cc8-0cee-4a46-ba4b-bb77c3f118bd"
   },
   "outputs": [
    {
     "name": "stdout",
     "output_type": "stream",
     "text": [
      "Testing Accuracy 0.8333333333333334\n"
     ]
    }
   ],
   "source": [
    "# Predict using testing data and get accuracy\n",
    "predictions = rfc.predict(X_test)\n",
    "print(\"Testing Accuracy\", compute_accuracy(predictions, y_test))"
   ]
  },
  {
   "cell_type": "markdown",
   "id": "972868a7",
   "metadata": {},
   "source": [
    "The initial *RandomForestClassifier* model had a training and testing accuracy of **83.33%**."
   ]
  },
  {
   "cell_type": "markdown",
   "id": "3d6cbfbb",
   "metadata": {
    "id": "3d6cbfbb"
   },
   "source": [
    "### Hyperparameter Tuning\n",
    "The parameters for a *RandomForestClassifier* are the following:\n",
    "- *n_estimators* - Determines the number of trees the model makes. The more trees the model makes, the wider range of values used to determine the resulting average model.\n",
    "- *criterion*: How the Decision Tree splits its nodes, either by checking impurity gain (gini) or information gain (entropy); an article mentions that their is no significant difference between the two in terms of their contribution to the model's accuracy, but *entropy* is slower to compute because of a logarithmic function in its formula (Mithrakumar, M., 2019).\n",
    "- *max_depth*: How 'deep' does the Decision Tree go when splitting nodes; the 'deeper' the tree goes, the more complex the model becomes, but risks overfitting.\n",
    "- *min_samples_split*: Determines minimum number of samples to split an *internal* node\n",
    "- *max_leaf_nodes*: Determines the limit of leaef nodes the Decision Tree can have"
   ]
  },
  {
   "cell_type": "code",
   "execution_count": null,
   "id": "d0e38744",
   "metadata": {
    "executionInfo": {
     "elapsed": 281,
     "status": "ok",
     "timestamp": 1656858807540,
     "user": {
      "displayName": "Renzel Raphael Aldecoa",
      "userId": "03889840017299238253"
     },
     "user_tz": -480
    },
    "id": "d0e38744"
   },
   "outputs": [],
   "source": [
    "# Initialize RandomForestClassifier using default parameters\n",
    "clf = RandomForestClassifier()"
   ]
  },
  {
   "cell_type": "code",
   "execution_count": null,
   "id": "7b2306c9",
   "metadata": {
    "executionInfo": {
     "elapsed": 2,
     "status": "ok",
     "timestamp": 1656858807956,
     "user": {
      "displayName": "Renzel Raphael Aldecoa",
      "userId": "03889840017299238253"
     },
     "user_tz": -480
    },
    "id": "7b2306c9"
   },
   "outputs": [],
   "source": [
    "# List down possible parameters for a RandomForestClassifier model\n",
    "hyperparameters = [{\n",
    "    'n_estimators': [100, 200, 300],\n",
    "    'criterion': ['gini', 'entropy'],\n",
    "    'max_depth': [5, 10, 20],\n",
    "    'min_samples_split': [2, 4, 6],\n",
    "    'max_leaf_nodes': [5, 10, 20]\n",
    "}]"
   ]
  },
  {
   "cell_type": "code",
   "execution_count": null,
   "id": "1b3fe3d0",
   "metadata": {
    "colab": {
     "base_uri": "https://localhost:8080/"
    },
    "executionInfo": {
     "elapsed": 3835085,
     "status": "ok",
     "timestamp": 1656862644557,
     "user": {
      "displayName": "Renzel Raphael Aldecoa",
      "userId": "03889840017299238253"
     },
     "user_tz": -480
    },
    "id": "1b3fe3d0",
    "outputId": "7d516621-8dba-46bc-bbac-56eb29a3615b"
   },
   "outputs": [
    {
     "name": "stdout",
     "output_type": "stream",
     "text": [
      "Fitting 5 folds for each of 10 candidates, totalling 50 fits\n",
      "[CV 1/5] END criterion=gini, max_depth=10, max_leaf_nodes=5, min_samples_split=6, n_estimators=300;, score=0.833 total time=  54.1s\n",
      "[CV 2/5] END criterion=gini, max_depth=10, max_leaf_nodes=5, min_samples_split=6, n_estimators=300;, score=0.833 total time=  51.6s\n",
      "[CV 3/5] END criterion=gini, max_depth=10, max_leaf_nodes=5, min_samples_split=6, n_estimators=300;, score=0.833 total time=  52.1s\n",
      "[CV 4/5] END criterion=gini, max_depth=10, max_leaf_nodes=5, min_samples_split=6, n_estimators=300;, score=0.833 total time=  51.9s\n",
      "[CV 5/5] END criterion=gini, max_depth=10, max_leaf_nodes=5, min_samples_split=6, n_estimators=300;, score=0.833 total time=  52.7s\n",
      "[CV 1/5] END criterion=entropy, max_depth=10, max_leaf_nodes=20, min_samples_split=6, n_estimators=300;, score=0.833 total time= 2.4min\n",
      "[CV 2/5] END criterion=entropy, max_depth=10, max_leaf_nodes=20, min_samples_split=6, n_estimators=300;, score=0.833 total time= 2.4min\n",
      "[CV 3/5] END criterion=entropy, max_depth=10, max_leaf_nodes=20, min_samples_split=6, n_estimators=300;, score=0.833 total time= 2.4min\n",
      "[CV 4/5] END criterion=entropy, max_depth=10, max_leaf_nodes=20, min_samples_split=6, n_estimators=300;, score=0.833 total time= 2.4min\n",
      "[CV 5/5] END criterion=entropy, max_depth=10, max_leaf_nodes=20, min_samples_split=6, n_estimators=300;, score=0.833 total time= 2.4min\n",
      "[CV 1/5] END criterion=gini, max_depth=10, max_leaf_nodes=20, min_samples_split=2, n_estimators=300;, score=0.833 total time= 1.4min\n",
      "[CV 2/5] END criterion=gini, max_depth=10, max_leaf_nodes=20, min_samples_split=2, n_estimators=300;, score=0.833 total time= 1.4min\n",
      "[CV 3/5] END criterion=gini, max_depth=10, max_leaf_nodes=20, min_samples_split=2, n_estimators=300;, score=0.833 total time= 1.4min\n",
      "[CV 4/5] END criterion=gini, max_depth=10, max_leaf_nodes=20, min_samples_split=2, n_estimators=300;, score=0.833 total time= 1.3min\n",
      "[CV 5/5] END criterion=gini, max_depth=10, max_leaf_nodes=20, min_samples_split=2, n_estimators=300;, score=0.833 total time= 1.4min\n",
      "[CV 1/5] END criterion=gini, max_depth=5, max_leaf_nodes=20, min_samples_split=6, n_estimators=100;, score=0.833 total time=  26.7s\n",
      "[CV 2/5] END criterion=gini, max_depth=5, max_leaf_nodes=20, min_samples_split=6, n_estimators=100;, score=0.833 total time=  27.0s\n",
      "[CV 3/5] END criterion=gini, max_depth=5, max_leaf_nodes=20, min_samples_split=6, n_estimators=100;, score=0.833 total time=  26.7s\n",
      "[CV 4/5] END criterion=gini, max_depth=5, max_leaf_nodes=20, min_samples_split=6, n_estimators=100;, score=0.833 total time=  26.8s\n",
      "[CV 5/5] END criterion=gini, max_depth=5, max_leaf_nodes=20, min_samples_split=6, n_estimators=100;, score=0.833 total time=  26.9s\n",
      "[CV 1/5] END criterion=entropy, max_depth=5, max_leaf_nodes=10, min_samples_split=2, n_estimators=200;, score=0.833 total time= 1.2min\n",
      "[CV 2/5] END criterion=entropy, max_depth=5, max_leaf_nodes=10, min_samples_split=2, n_estimators=200;, score=0.833 total time= 1.2min\n",
      "[CV 3/5] END criterion=entropy, max_depth=5, max_leaf_nodes=10, min_samples_split=2, n_estimators=200;, score=0.833 total time= 1.2min\n",
      "[CV 4/5] END criterion=entropy, max_depth=5, max_leaf_nodes=10, min_samples_split=2, n_estimators=200;, score=0.833 total time= 1.2min\n",
      "[CV 5/5] END criterion=entropy, max_depth=5, max_leaf_nodes=10, min_samples_split=2, n_estimators=200;, score=0.833 total time= 1.2min\n",
      "[CV 1/5] END criterion=entropy, max_depth=5, max_leaf_nodes=10, min_samples_split=6, n_estimators=200;, score=0.833 total time= 1.2min\n",
      "[CV 2/5] END criterion=entropy, max_depth=5, max_leaf_nodes=10, min_samples_split=6, n_estimators=200;, score=0.833 total time= 1.2min\n",
      "[CV 3/5] END criterion=entropy, max_depth=5, max_leaf_nodes=10, min_samples_split=6, n_estimators=200;, score=0.833 total time= 1.2min\n",
      "[CV 4/5] END criterion=entropy, max_depth=5, max_leaf_nodes=10, min_samples_split=6, n_estimators=200;, score=0.833 total time= 1.2min\n",
      "[CV 5/5] END criterion=entropy, max_depth=5, max_leaf_nodes=10, min_samples_split=6, n_estimators=200;, score=0.833 total time= 1.2min\n",
      "[CV 1/5] END criterion=entropy, max_depth=10, max_leaf_nodes=20, min_samples_split=4, n_estimators=300;, score=0.833 total time= 2.4min\n",
      "[CV 2/5] END criterion=entropy, max_depth=10, max_leaf_nodes=20, min_samples_split=4, n_estimators=300;, score=0.833 total time= 2.4min\n",
      "[CV 3/5] END criterion=entropy, max_depth=10, max_leaf_nodes=20, min_samples_split=4, n_estimators=300;, score=0.833 total time= 2.4min\n",
      "[CV 4/5] END criterion=entropy, max_depth=10, max_leaf_nodes=20, min_samples_split=4, n_estimators=300;, score=0.833 total time= 2.4min\n",
      "[CV 5/5] END criterion=entropy, max_depth=10, max_leaf_nodes=20, min_samples_split=4, n_estimators=300;, score=0.833 total time= 2.4min\n",
      "[CV 1/5] END criterion=gini, max_depth=5, max_leaf_nodes=10, min_samples_split=2, n_estimators=200;, score=0.833 total time=  43.2s\n",
      "[CV 2/5] END criterion=gini, max_depth=5, max_leaf_nodes=10, min_samples_split=2, n_estimators=200;, score=0.833 total time=  43.1s\n",
      "[CV 3/5] END criterion=gini, max_depth=5, max_leaf_nodes=10, min_samples_split=2, n_estimators=200;, score=0.833 total time=  42.7s\n",
      "[CV 4/5] END criterion=gini, max_depth=5, max_leaf_nodes=10, min_samples_split=2, n_estimators=200;, score=0.833 total time=  41.6s\n",
      "[CV 5/5] END criterion=gini, max_depth=5, max_leaf_nodes=10, min_samples_split=2, n_estimators=200;, score=0.833 total time=  43.1s\n",
      "[CV 1/5] END criterion=gini, max_depth=20, max_leaf_nodes=5, min_samples_split=4, n_estimators=200;, score=0.833 total time=  34.2s\n",
      "[CV 2/5] END criterion=gini, max_depth=20, max_leaf_nodes=5, min_samples_split=4, n_estimators=200;, score=0.833 total time=  34.6s\n",
      "[CV 3/5] END criterion=gini, max_depth=20, max_leaf_nodes=5, min_samples_split=4, n_estimators=200;, score=0.833 total time=  34.9s\n",
      "[CV 4/5] END criterion=gini, max_depth=20, max_leaf_nodes=5, min_samples_split=4, n_estimators=200;, score=0.833 total time=  33.7s\n",
      "[CV 5/5] END criterion=gini, max_depth=20, max_leaf_nodes=5, min_samples_split=4, n_estimators=200;, score=0.833 total time=  35.1s\n",
      "[CV 1/5] END criterion=entropy, max_depth=5, max_leaf_nodes=20, min_samples_split=6, n_estimators=200;, score=0.833 total time= 1.4min\n",
      "[CV 2/5] END criterion=entropy, max_depth=5, max_leaf_nodes=20, min_samples_split=6, n_estimators=200;, score=0.833 total time= 1.4min\n",
      "[CV 3/5] END criterion=entropy, max_depth=5, max_leaf_nodes=20, min_samples_split=6, n_estimators=200;, score=0.833 total time= 1.4min\n",
      "[CV 4/5] END criterion=entropy, max_depth=5, max_leaf_nodes=20, min_samples_split=6, n_estimators=200;, score=0.833 total time= 1.4min\n",
      "[CV 5/5] END criterion=entropy, max_depth=5, max_leaf_nodes=20, min_samples_split=6, n_estimators=200;, score=0.833 total time= 1.4min\n"
     ]
    },
    {
     "data": {
      "text/plain": [
       "RandomizedSearchCV(cv=5, estimator=RandomForestClassifier(),\n",
       "                   param_distributions=[{'criterion': ['gini', 'entropy'],\n",
       "                                         'max_depth': [5, 10, 20],\n",
       "                                         'max_leaf_nodes': [5, 10, 20],\n",
       "                                         'min_samples_split': [2, 4, 6],\n",
       "                                         'n_estimators': [100, 200, 300]}],\n",
       "                   random_state=10, verbose=5)"
      ]
     },
     "metadata": {},
     "output_type": "display_data"
    }
   ],
   "source": [
    "# Use RandomizedSearchCV to find the best parameters\n",
    "rsrfc = RandomizedSearchCV(estimator=clf, param_distributions=hyperparameters, cv=5, random_state=10, verbose=5)\n",
    "rsrfc.fit(X_train, y_train)"
   ]
  },
  {
   "cell_type": "code",
   "execution_count": null,
   "id": "ynJnn2uuexLH",
   "metadata": {
    "colab": {
     "base_uri": "https://localhost:8080/"
    },
    "executionInfo": {
     "elapsed": 304,
     "status": "ok",
     "timestamp": 1656863122110,
     "user": {
      "displayName": "Renzel Raphael Aldecoa",
      "userId": "03889840017299238253"
     },
     "user_tz": -480
    },
    "id": "ynJnn2uuexLH",
    "outputId": "1d6f6446-4f07-4aab-eaa2-45f2882a599d"
   },
   "outputs": [
    {
     "data": {
      "text/plain": [
       "{'criterion': 'gini',\n",
       " 'max_depth': 10,\n",
       " 'max_leaf_nodes': 5,\n",
       " 'min_samples_split': 6,\n",
       " 'n_estimators': 300}"
      ]
     },
     "metadata": {},
     "output_type": "display_data"
    }
   ],
   "source": [
    "# Get best parameters through RandomizedSearchCV\n",
    "rsrfc.best_params_"
   ]
  },
  {
   "cell_type": "code",
   "execution_count": 46,
   "id": "6yroQ9VUvN6a",
   "metadata": {
    "colab": {
     "base_uri": "https://localhost:8080/"
    },
    "executionInfo": {
     "elapsed": 68879,
     "status": "ok",
     "timestamp": 1656863501571,
     "user": {
      "displayName": "Renzel Raphael Aldecoa",
      "userId": "03889840017299238253"
     },
     "user_tz": -480
    },
    "id": "6yroQ9VUvN6a",
    "outputId": "5b2bcac5-21aa-4998-ee51-adee05557a33"
   },
   "outputs": [
    {
     "name": "stdout",
     "output_type": "stream",
     "text": [
      "Training Accuracy:  0.8333333333333334\n",
      "Testing Accuracy:  0.8333333333333334\n"
     ]
    }
   ],
   "source": [
    "# Initialize RandomForestClassifier using the best parameters according to RandomizedSearchCV, and train\n",
    "clf = RandomForestClassifier(criterion='gini', max_depth=10, max_leaf_nodes=5, min_samples_split=6, n_estimators=300)\n",
    "clf.fit(X_train, y_train)\n",
    "\n",
    "# Predict using train and test data, and get accuracy\n",
    "predictions = clf.predict(X_train)\n",
    "print(\"Training Accuracy: \", compute_accuracy(predictions, y_train))\n",
    "\n",
    "predictions = clf.predict(X_test)\n",
    "print(\"Testing Accuracy: \", compute_accuracy(predictions, y_test))"
   ]
  },
  {
   "cell_type": "markdown",
   "id": "d1642374",
   "metadata": {},
   "source": [
    "After finding the best parameters, the best *RandomForestClassifier* model had a training and testing accuracy of **83.33%**."
   ]
  },
  {
   "cell_type": "markdown",
   "id": "0bdf0b85",
   "metadata": {},
   "source": [
    "# Model Selection"
   ]
  },
  {
   "cell_type": "markdown",
   "id": "142f840f",
   "metadata": {},
   "source": [
    "The hyperparameter-tuned models yielded the following accuracies:\n",
    "\n",
    "|            | Logistic Regression | Neural Network | Naive Bayes | Decision Tree | Random Forest |\n",
    "|------------|---------------------|----------------|-------------|---------------|---------------|\n",
    "| Train Acc% | 83.34%              | 83.50%         | 83.24%      | 84.95%        | 83.33%        |\n",
    "| Test Acc%  | 83.33%              | 82.54%         | 82.16%      | 83.38%        | 83.33%        |"
   ]
  },
  {
   "cell_type": "markdown",
   "id": "a67bc5ec",
   "metadata": {},
   "source": [
    "The test accuracy yielded by the models lied around the same range, at around 82% or 83%. The **Logistic Regression**, **Decision Tree** and **Random Forest** models yielded the highest test accuracy among these, at 83.33%. Seeing as they have very identical accuracies, there is no \"best model\", so we take a look at all of their precision and recall scores."
   ]
  },
  {
   "cell_type": "code",
   "execution_count": null,
   "id": "260eca33",
   "metadata": {},
   "outputs": [
    {
     "name": "stdout",
     "output_type": "stream",
     "text": [
      "75/75 [==============================] - 0s 2ms/step\n",
      "Precision and Recall for all models:\n",
      "Logistic Regression\n",
      "\t 0.2389455782312925 0.669047619047619\n",
      "Neural Network\n",
      "\t 0.5 0.002380952380952381\n",
      "Naive Bayes\n",
      "\t 0.18941273779983459 0.5452380952380952\n",
      "Decision Tree\n",
      "\t 0.6179775280898876 0.13095238095238096\n",
      "Random Forest\n",
      "\t 0.0 0.0\n"
     ]
    },
    {
     "name": "stderr",
     "output_type": "stream",
     "text": [
      "C:\\Users\\carlo\\anaconda3\\lib\\site-packages\\sklearn\\metrics\\_classification.py:1318: UndefinedMetricWarning: Precision is ill-defined and being set to 0.0 due to no predicted samples. Use `zero_division` parameter to control this behavior.\n",
      "  _warn_prf(average, modifier, msg_start, len(result))\n"
     ]
    }
   ],
   "source": [
    "lr_predicted = best_lr.predict(X_test)\n",
    "nn_predicted = model.predict(X_test)\n",
    "nb_predicted = mNB.predict(X_test)\n",
    "dt_predicted = best_dtc.predict(X_test)\n",
    "rf_predicted = clf.predict(X_test)\n",
    "print('Precision and Recall for all models:')\n",
    "\n",
    "print('Logistic Regression')\n",
    "print('\\t', precision_score(y_test, lr_predicted), recall_score(y_test, lr_predicted))\n",
    "\n",
    "print('Neural Network')\n",
    "print('\\t', precision_score(y_test, nn_predicted), recall_score(y_test, nn_predicted))\n",
    "\n",
    "print('Naive Bayes')\n",
    "print('\\t', precision_score(y_test, nb_predicted), recall_score(y_test, nb_predicted))\n",
    "\n",
    "print('Decision Tree')\n",
    "print('\\t', precision_score(y_test, dt_predicted), recall_score(y_test, dt_predicted))\n",
    "\n",
    "print('Random Forest')\n",
    "print('\\t', precision_score(y_test, rf_predicted), recall_score(y_test, rf_predicted))"
   ]
  },
  {
   "cell_type": "markdown",
   "id": "d442dd39",
   "metadata": {},
   "source": [
    "The precision and recall values were as follows:\n",
    "|           | Logistic Regression | Neural Network | Naive Bayes | Decision Tree | Random Forest |\n",
    "|-----------|---------------------|----------------|-------------|---------------|---------------|\n",
    "| Precision | 0.2389              | 0.5            | 0.1894      | 0.6179        | 0             |\n",
    "| Recall    | 0.6690              | 0.0023         | 0.5452      | 0.1309        | 0             |"
   ]
  },
  {
   "cell_type": "markdown",
   "id": "3f36587b",
   "metadata": {},
   "source": [
    "By looking at the precision and recall, we can now see that the models were not correctly predicting the results, as evidenced by the low precision and recall scores. However from this, we can now infer the best model, which is **Logistic Regression**. Of all the models, logistic regression had the highest recall score of `0.66`. This will be explained later. Also notice that in Random Forest, precision flagged an error; however this was because the predictions had incomplete labels which were required by scikit-learn's `precision_score` method."
   ]
  },
  {
   "cell_type": "markdown",
   "id": "b8f659d2",
   "metadata": {},
   "source": [
    "To visualize how the model predicted on the test set, we plot the count of the predictions in a bar graph."
   ]
  },
  {
   "cell_type": "code",
   "execution_count": 77,
   "id": "e21e98b6",
   "metadata": {},
   "outputs": [
    {
     "data": {
      "text/plain": [
       "Text(0.5, 1.0, 'Logistic Regression Predictions')"
      ]
     },
     "execution_count": 77,
     "metadata": {},
     "output_type": "execute_result"
    },
    {
     "data": {
      "image/png": "[encoded data removed]",
      "text/plain": [
       "<Figure size 360x504 with 1 Axes>"
      ]
     },
     "metadata": {
      "needs_background": "light"
     },
     "output_type": "display_data"
    }
   ],
   "source": [
    "# Print bar graphs of predictions\n",
    "fig = plt.figure(figsize=(5, 7))\n",
    "\n",
    "labels = ['Cheating', 'Legit']\n",
    "counts = [\n",
    "    np.sum(lr_predicted == 1),\n",
    "    np.sum(lr_predicted == 0)\n",
    "]\n",
    "ax = fig.add_subplot()\n",
    "ax.bar(labels, counts)\n",
    "ax.set_title('Logistic Regression Predictions')"
   ]
  },
  {
   "cell_type": "markdown",
   "id": "582c9ec1",
   "metadata": {},
   "source": [
    "It is notable that the model predicted all instances in the test set to be Legit players."
   ]
  },
  {
   "cell_type": "markdown",
   "id": "09dc3813",
   "metadata": {},
   "source": [
    "# Insights and Conclusion\n",
    "**Logistic Regression** took a decent amount of time to train. Even then, it gave the best predictions given the circumstances of our dataset. Additionally, hyperparameter training also consumed a significant amount of time to execute with negligible improvements. Although it has similar accuracy percentages with our other models, It had a higher recall than the rest. This is more desirable as getting rid of cheaters is the priority; it may better to take the risk of banning innocents than to let cheaters ruin a server/game. This is the philosophy of many modern anti-cheats as false bans, which are usually repealed through manual appeals.\n",
    "\n",
    "**Neural Network** gave one of the fastest learning times given the specifications of our machines as keras allowed us to utilize our GPUs (Nvidia RTX 3070) making it a contender in our model selection. However, the amount of false negatives makes it an undesirable choice for detecting cheaters. With regards to hyperparameter tuning, it took a short time to learn (considering the specifications of the PC used to train) with the caveat that it didn’t show significant improvements in accuracy.\n",
    "\n",
    "**Naive Bayes**, similar to our neural network model, learned quickly and gave results similar to logistic regression as it had low precision and high recall. Although the accuracy, precision, and recall were lower than those in logistic regression—so we came to the conclusion that it is less effective than logistic regression but more desirable if time needed to be saved.\n",
    "\n",
    "**Decision Tree** performed similar to the neural network’s metrics but without the benefit of its fast learning. This is because of the large amount of features that caused the decision tree to split a large amount of times. Despite having 5 main features for the dataset, the decision tree was tasked to split a feature set sized at 28,800 because the dimensions of the raw data needed to be flattened.\n",
    "\n",
    "**Random Forest** performed like the rest in terms of accuracy but also performed slowly during learning. Random forest returned a precision of 1.0 (Flagged as a warning by `precision_score` and displayed as 0) and a recall of 0, but this is because it marked everything as legitimate players and did not detect any cheaters.\n",
    "\n",
    "After looking at the precision and recall scores, we could say that the problem causing the accuracy to be the same with each other is the dataset. Looking back at the EDA section, we found that the scatter plots of the features of the datasets were very similar with each other, and some samples of Legit players matched the behavior of cheating players. The accuracy of the model came from the fact that it was predicting the majority class, which is the Legit players. Legit players comprised 10,000 out of 12,000 of the samples in the dataset—amounting to *83.33%*. In addition to a cheater and legit player's behavior being similar in some instances, the dataset was very skewed, leading to poor results in model training. With a better distributed proportion among the data, accuracy may have been higher. But as said earlier, there are behaviors in the Legit player dataset that appear the same as an instance from the Cheaters dataset, which also could have been a cause of error.\n"
   ]
  },
  {
   "cell_type": "markdown",
   "id": "d1642374",
   "metadata": {},
   "source": [
    "# User Input\n",
    "To ask for user input would require a multidimensional array that is 30 by 192 by 5. 30 would be for the number of encounters to be examined, 192 would be for each game tick and 5 would be for the features (AttackerDeltaYaw, AttackerDeltaPitch, CrosshairToVictimYaw, CrosshairToVictimPitch, Firing).\n",
    "\n",
    "Rather than having the user input all of these values, we will instead read the input from a file that will contain data of a player."
   ]
  },
  {
   "cell_type": "code",
   "execution_count": 83,
   "id": "945daf70",
   "metadata": {},
   "outputs": [
    {
     "data": {
      "text/plain": [
       "array([[[ 1.1000e-02,  0.0000e+00, -2.1562e+01, -8.0020e+01,\n",
       "          0.0000e+00],\n",
       "        [ 1.6000e-02, -1.6000e-02, -2.1647e+01, -8.0148e+01,\n",
       "          0.0000e+00],\n",
       "        [ 0.0000e+00,  0.0000e+00, -2.1759e+01, -8.0290e+01,\n",
       "          0.0000e+00],\n",
       "        ...,\n",
       "        [ 9.3000e-02, -2.6400e-01, -1.2019e+01, -1.2520e+00,\n",
       "          0.0000e+00],\n",
       "        [ 0.0000e+00,  0.0000e+00, -1.2029e+01, -1.2520e+00,\n",
       "          0.0000e+00],\n",
       "        [-3.8000e-02, -5.2700e-01, -1.1996e+01, -7.2500e-01,\n",
       "          0.0000e+00]],\n",
       "\n",
       "       [[ 4.3900e-01,  1.1500e-01, -3.9596e+01,  8.2232e+01,\n",
       "          0.0000e+00],\n",
       "        [ 3.0200e-01, -2.2500e-01, -4.0040e+01,  8.2470e+01,\n",
       "          0.0000e+00],\n",
       "        [ 2.5300e-01, -2.4700e-01, -4.0580e+01,  8.2742e+01,\n",
       "          0.0000e+00],\n",
       "        ...,\n",
       "        [-1.9170e+00, -9.2300e-01, -7.6700e-01, -7.3390e+00,\n",
       "          0.0000e+00],\n",
       "        [-1.7910e+00, -1.3900e+00,  1.1720e+00, -5.9490e+00,\n",
       "          0.0000e+00],\n",
       "        [-4.3900e-01, -1.2520e+00,  1.8110e+00, -4.6970e+00,\n",
       "          0.0000e+00]],\n",
       "\n",
       "       [[ 4.5000e-01,  1.8700e-01, -3.2230e+01,  8.3831e+01,\n",
       "          0.0000e+00],\n",
       "        [ 2.2410e+00,  4.4500e-01, -3.4829e+01,  8.3516e+01,\n",
       "          0.0000e+00],\n",
       "        [ 2.6530e+00,  7.3100e-01, -3.7611e+01,  8.2930e+01,\n",
       "          0.0000e+00],\n",
       "        ...,\n",
       "        [ 8.8400e-01, -2.2000e-01, -8.1720e+00, -2.0980e+00,\n",
       "          0.0000e+00],\n",
       "        [ 8.0200e-01, -1.3200e-01, -8.5870e+00, -1.9670e+00,\n",
       "          0.0000e+00],\n",
       "        [ 1.1210e+00, -1.3200e-01, -9.3260e+00, -1.8350e+00,\n",
       "          0.0000e+00]],\n",
       "\n",
       "       ...,\n",
       "\n",
       "       [[-1.6000e-02,  0.0000e+00,  1.9667e+01,  4.0600e-01,\n",
       "          0.0000e+00],\n",
       "        [ 0.0000e+00,  0.0000e+00,  1.9571e+01,  4.0600e-01,\n",
       "          0.0000e+00],\n",
       "        [-1.1000e-02,  0.0000e+00,  1.9390e+01,  4.0600e-01,\n",
       "          0.0000e+00],\n",
       "        ...,\n",
       "        [ 1.9800e-01, -1.2100e-01, -4.4360e+00, -1.2630e+00,\n",
       "          0.0000e+00],\n",
       "        [ 4.6100e-01, -1.7000e-01, -4.7350e+00, -1.0930e+00,\n",
       "          0.0000e+00],\n",
       "        [ 1.3200e-01, -1.1000e-02, -4.8830e+00, -1.0820e+00,\n",
       "          0.0000e+00]],\n",
       "\n",
       "       [[-1.3200e-01,  7.7000e-02,  1.9205e+01,  3.3000e-01,\n",
       "          0.0000e+00],\n",
       "        [-6.6000e-02,  1.6000e-02,  1.9135e+01,  3.1300e-01,\n",
       "          0.0000e+00],\n",
       "        [-2.7000e-02, -1.6000e-02,  1.9001e+01,  3.3000e-01,\n",
       "          0.0000e+00],\n",
       "        ...,\n",
       "        [ 2.7000e-02, -2.7000e-02, -5.1310e+00, -1.0380e+00,\n",
       "          0.0000e+00],\n",
       "        [ 0.0000e+00,  0.0000e+00, -5.2590e+00, -1.0380e+00,\n",
       "          0.0000e+00],\n",
       "        [ 2.7500e-01, -1.0400e-01, -5.5460e+00, -9.3400e-01,\n",
       "          0.0000e+00]],\n",
       "\n",
       "       [[-8.2000e-02, -2.7000e-02,  1.9037e+01,  3.4100e-01,\n",
       "          0.0000e+00],\n",
       "        [-1.8100e-01, -1.1000e-02,  1.9020e+01,  3.5200e-01,\n",
       "          0.0000e+00],\n",
       "        [-1.0400e-01, -4.4000e-02,  1.9104e+01,  3.9600e-01,\n",
       "          0.0000e+00],\n",
       "        ...,\n",
       "        [ 3.5700e-01, -1.0400e-01, -5.6870e+00, -8.9500e-01,\n",
       "          0.0000e+00],\n",
       "        [ 3.9600e-01, -1.0400e-01, -5.9140e+00, -7.9100e-01,\n",
       "          0.0000e+00],\n",
       "        [ 5.4400e-01, -1.1000e-01, -6.2290e+00, -6.8100e-01,\n",
       "          0.0000e+00]]], dtype=float32)"
      ]
     },
     "execution_count": 83,
     "metadata": {},
     "output_type": "execute_result"
    }
   ],
   "source": [
    "# Loading and viewing the input file\n",
    "user_input = np.load('input.npy')\n",
    "user_input"
   ]
  },
  {
   "cell_type": "code",
   "execution_count": 84,
   "id": "f09bc850",
   "metadata": {},
   "outputs": [],
   "source": [
    "# Defining the classifier method\n",
    "def cheaterOrNot(playerInput):\n",
    "    playerInput = playerInput.reshape(1, 28800)\n",
    "    prediction = best_lr.predict(playerInput)\n",
    "    if prediction == 0:\n",
    "        print('The player is a LEGIT PLAYER.')\n",
    "    elif prediction == 1:\n",
    "        print('The player is a CHEATER.')"
   ]
  },
  {
   "cell_type": "code",
   "execution_count": 85,
   "id": "37117f7c",
   "metadata": {},
   "outputs": [
    {
     "name": "stdout",
     "output_type": "stream",
     "text": [
      "The player is a LEGIT PLAYER.\n"
     ]
    }
   ],
   "source": [
    "# Calling the classifier\n",
    "cheaterOrNot(user_input)"
   ]
  },
  {
   "cell_type": "markdown",
   "id": "7f87a12b",
   "metadata": {},
   "source": [
    "# References\n",
    "\n",
    "Bhandari, A. (2020). Feature Scaling for Machine Learning: Understanding the Difference Between Normalization vs. Standardization. *Analytics Vidhya*. https://www.analyticsvidhya.com/blog/2020/04/feature-scaling-machine-learning-normalization-standardization/\n",
    "\n",
    "Brownlee, J. (2020). Tune Hyperparameters for Classification Machine Learning Algorithms. *Machine Learning Mastery*. https://machinelearningmastery.com/hyperparameters-for-classification-machine-learning-algorithms/\n",
    "\n",
    "EMSTATSL (n.d.). CSGO cheating dataset. *Kaggle*. https://www.kaggle.com/datasets/emstatsl/csgo-cheating-dataset\n",
    "\n",
    "Gong, D. (2022). Top 6 Machine Learning Algorithms for Classification. *Towards Data Science*. https://towardsdatascience.com/top-machine-learning-algorithms-for-classification-2197870ff501\n",
    "\n",
    "Hale, J. (2019). Don't Sweat the Solver Stuff. *Towards Data Science*. https://towardsdatascience.com/dont-sweat-the-solver-stuff-aea7cddc3451\n",
    "\n",
    "Keras (n.d.). Hyperparameter Tuning. *Keras*. https://keras.io/guides/keras_tuner/\n",
    "\n",
    "Keras (n.d.). The Sequential Model. *Keras*. https://keras.io/guides/sequential_model/\n",
    "\n",
    "TensorFlow (n.d.). tf.Keras.Sequential. *TensorFlow*. https://www.tensorflow.org/api_docs/python/tf/keras/Sequential\n",
    "\n",
    "TensorFlow (n.d.). Module: tf. *TensorFlow*. https://www.tensorflow.org/api_docs/python/tf"
   ]
  }
 ],
 "metadata": {
  "kernelspec": {
   "display_name": "Python 3 (ipykernel)",
   "language": "python",
   "name": "python3"
  },
  "language_info": {
   "codemirror_mode": {
    "name": "ipython",
    "version": 3
   },
   "file_extension": ".py",
   "mimetype": "text/x-python",
   "name": "python",
   "nbconvert_exporter": "python",
   "pygments_lexer": "ipython3",
   "version": "3.8.8"
  },
  "vscode": {
   "interpreter": {
    "hash": "26eab8343ce5ed02de4098c10e314ebb45ce0ac5e34fea85423d6f141bc9ca67"
   }
  }
 },
 "nbformat": 4,
 "nbformat_minor": 5
}
