{
 "cells": [
  {
   "cell_type": "markdown",
   "id": "2381fe3a",
   "metadata": {},
   "source": [
    "### Delete this later\n",
    "NOTE TBD: means notes for us, to be deleted\n",
    "\n",
    "### Sections to do\n",
    "1. ~~Title + authors (your names)~~\n",
    "2. Introduction to the problem/task and dataset\n",
    "Link to the Kaggle dataset or other sources\n",
    "3. Description of the dataset\n",
    "Describe your data and show what kind of initial features you are dealing with\n",
    "Describe what each instance of your dataset represents\n",
    "4. List of requirements (Python libraries, datasets/files)\n",
    "5. Simple exploratory data analysis\n",
    "Point out anomalies/outliers in the data\n",
    "Show graphs to quickly digest data distributions and possible patterns\n",
    "6. Data preprocessing/cleaning\n",
    "Explain why the data was preprocessed that way\n",
    "If you removed data, explain why removing the data was necessary\n",
    "7. Feature engineering\n",
    "Explain (even if briefly) what these features are, and why they may help\n",
    "8. Model training\n",
    "Explain why you chose the algorithms you are training with\n",
    "9. Feature selection + Hyperparameter tuning\n",
    "You may use grid/random search for hyperparameter tuning\n",
    "10. Model selection\n",
    "Present a summary of your best model configuration\n",
    "You can use this website to make tables easier to manage\n",
    "11. Insights and conclusions\n",
    "Explain what insights you have learned from the models (why they failed/succeeded)\n",
    "Summarize your conclusions on which model performed the best and why\n",
    "12. Ask for the user’s input and show prediction\n",
    "Please refer to the Naive Bayes notebook, where you can test if a phrase is ham/spam\n",
    "13. References\n",
    "You are encouraged to look at existing solutions online and learn from them (please cite)"
   ]
  },
  {
   "cell_type": "markdown",
   "id": "f39e0a6d",
   "metadata": {},
   "source": [
    "# STINTSY Machine Project\n",
    "#### S14 Group X\n",
    "- Aldecoa, Renzel Raphael\n",
    "- Bautista, Carlo Gabriel\n",
    "- Canicon, Jan Ambro"
   ]
  },
  {
   "cell_type": "markdown",
   "id": "35b6eff0",
   "metadata": {},
   "source": [
    "# CS:GO Cheating Dataset\n",
    "The [dataset](https://www.kaggle.com/datasets/emstatsl/csgo-cheating-dataset) used features gameplay input from players, segregated into non-cheating (henceforth \"legit\") and cheating players. The main task with the dataset is to categorize players as \"cheating\" based on their game input. There are a total of `12 000` samples in the dataset, divided into two groups of `10 000` legit players and `2 000` cheating players.\n",
    "\n",
    "The dataset has a shape of `[X, 30, 192, 5]`, with the dimensions as follows:\n",
    "- `X` — `player` the number of players in the subset (`10 000` legit, `2 000` cheater)\n",
    "- `30` — `engagement` specifies the encounter with other players\n",
    "- `192` — `game_tick` in-game time increment holding player vectors and other game info\n",
    "- `5` — `player_input` input sent by players such as change in aim yaw and pitch\n",
    "\n",
    "The player input dimension of the dataset can be further explained as follows:\n",
    "- `AttackerDeltaYaw`, `AttackerDeltaPitch`\n",
    "    - Change in the direction of the attacking player’s aim\n",
    "- `CrosshairToVictimYaw`, `CrosshairToVictimPitch`\n",
    "    - Distance remaining between the attacker’s crosshair and target’s hitbox\n",
    "- `Firing`\n",
    "    - Whether the attacker is firing or not\n",
    "\n",
    "Additionally note that yaw refers to the left-right movement axis, and pitch refers to up-down movement axis. These are scaled in the 360-degree measurement, with a range of `[-180, 180]`.\n",
    "\n",
    "TODO: Explain features more"
   ]
  },
  {
   "cell_type": "markdown",
   "id": "da7f0a04",
   "metadata": {},
   "source": [
    "# Dependencies\n",
    "- [Dataset](https://www.kaggle.com/datasets/emstatsl/csgo-cheating-dataset) (Both legit.npy and cheaters.npy)\n",
    "- numpy\n",
    "- pandas\n",
    "- matplotlib"
   ]
  },
  {
   "cell_type": "markdown",
   "id": "f5ff5d48",
   "metadata": {},
   "source": [
    "# Library Imports and Notebook Initialization"
   ]
  },
  {
   "cell_type": "code",
   "execution_count": 9,
   "id": "e459f3f0",
   "metadata": {},
   "outputs": [],
   "source": [
    "import numpy as np\n",
    "import pandas as pd\n",
    "import matplotlib.pyplot as plt\n",
    "from matplotlib.collections import LineCollection\n",
    "from sklearn.model_selection import train_test_split\n",
    "# Fix floats to display decimals instead of exponential notation\n",
    "pd.options.display.float_format = '{0:.4f}'.format"
   ]
  },
  {
   "cell_type": "markdown",
   "id": "9ceee149",
   "metadata": {},
   "source": [
    "# Loading the dataset"
   ]
  },
  {
   "cell_type": "code",
   "execution_count": 2,
   "id": "f75ee4d1",
   "metadata": {},
   "outputs": [
    {
     "name": "stdout",
     "output_type": "stream",
     "text": [
      "Legit: (10000, 30, 192, 5)\n",
      "Cheaters: (2000, 30, 192, 5)\n"
     ]
    }
   ],
   "source": [
    "legit_data = np.load('legit.npy')\n",
    "cheaters_data = np.load('cheaters.npy')\n",
    "\n",
    "print('Legit:', legit_data.shape)\n",
    "print('Cheaters:', cheaters_data.shape)"
   ]
  },
  {
   "cell_type": "markdown",
   "id": "a8a9693f",
   "metadata": {},
   "source": [
    "# Preprocessing\n",
    "TODO:\n",
    "- Possibly balance the ratio of legit and cheaters?\n",
    "- Delta of CrosshairToTarget?\n",
    "    - Theory: Consistent means aimlock"
   ]
  },
  {
   "cell_type": "markdown",
   "id": "ab2c3832",
   "metadata": {},
   "source": [
    "The dataset is stored in a format of `[player, engagement, game_tick, player_input]`, and we can further flatten it by combining `engagement` and `game_tick` as `tick`, because these are all []. However, we cannot further flatten `player_input` with `tick` because these are the features, and flattening would scramble them. Thus, we will be training and testing the model with a 3-dimensional dataset later on.\n",
    "\n",
    "After flattening the dimensions, we can also combine the two datasets."
   ]
  },
  {
   "cell_type": "code",
   "execution_count": 3,
   "id": "b80b6a87",
   "metadata": {},
   "outputs": [
    {
     "name": "stdout",
     "output_type": "stream",
     "text": [
      "Training data shape: (12000, 5760, 5)\n"
     ]
    }
   ],
   "source": [
    "# Combines the dimensions engagement and game_tick\n",
    "legit_data = legit_data.reshape(10000, 5760, 5)\n",
    "cheaters_data = cheaters_data.reshape(2000, 5760, 5)\n",
    "\n",
    "# Combine legit and cheater datasets\n",
    "X_players = np.vstack([legit_data, cheaters_data])\n",
    "print('Training data shape:', X_players.shape)"
   ]
  },
  {
   "cell_type": "markdown",
   "id": "fb00c57b",
   "metadata": {},
   "source": [
    "Since we append the cheaters to the end of the list of legit players, we can easily create a list that contains their classes by using the length of each list. The classes will be:\n",
    "- `0` — `Legit` player\n",
    "- `1` — `Cheating` player"
   ]
  },
  {
   "cell_type": "code",
   "execution_count": 4,
   "id": "e4a0afe9",
   "metadata": {},
   "outputs": [
    {
     "name": "stdout",
     "output_type": "stream",
     "text": [
      "Ground truth values shape: (12000,)\n"
     ]
    }
   ],
   "source": [
    "# Create truth values for combined list\n",
    "y_players = np.append(\n",
    "        np.zeros(legit_data.shape[0], dtype=int),\n",
    "        np.full(cheaters_data.shape[0], 1, dtype=int)\n",
    ")\n",
    "print('Ground truth values shape:', y_players.shape)"
   ]
  },
  {
   "cell_type": "code",
   "execution_count": 5,
   "id": "ee38caff",
   "metadata": {},
   "outputs": [],
   "source": [
    "# Get abs of players for raw distance to target?\n",
    "# X_players = np.abs(X_players)"
   ]
  },
  {
   "cell_type": "markdown",
   "id": "259c7f0f",
   "metadata": {},
   "source": [
    "# Exploratory Data Analysis"
   ]
  },
  {
   "cell_type": "code",
   "execution_count": 21,
   "id": "f51e4fa1",
   "metadata": {},
   "outputs": [],
   "source": [
    "# https://stackoverflow.com/questions/38901145/create-a-dataframe-with-a-multiindex\n",
    "# Create DataFrame for legit players\n",
    "cols = ['AttackerDeltaYaw', 'AttackerDeltaPitch', 'CrosshairToVictimYaw', 'CrosshairToVictimPitch', 'Firing']\n",
    "playernums = [i for i in range(legit_data.shape[0])]\n",
    "ticknums = [i for i in range(legit_data.shape[1])]\n",
    "index = pd.MultiIndex.from_product([playernums, ticknums],\n",
    "                                 names=['Player', 'Game Tick'])\n",
    "newshape = legit_data.shape[0] * legit_data.shape[1]\n",
    "\n",
    "legit_df = pd.DataFrame(legit_data.reshape(newshape, 5), index, cols)\n",
    "\n",
    "# Create DataFrame for cheaters\n",
    "cols = ['AttackerDeltaYaw', 'AttackerDeltaPitch', 'CrosshairToVictimYaw', 'CrosshairToVictimPitch', 'Firing']\n",
    "playernums = [i for i in range(cheaters_data.shape[0])]\n",
    "ticknums = [i for i in range(cheaters_data.shape[1])]\n",
    "index = pd.MultiIndex.from_product([playernums, ticknums],\n",
    "                                 names=['Player', 'Game Tick'])\n",
    "newshape = cheaters_data.shape[0] * cheaters_data.shape[1]\n",
    "\n",
    "cheaters_df = pd.DataFrame(cheaters_data.reshape(newshape, 5), index, cols)"
   ]
  },
  {
   "cell_type": "code",
   "execution_count": 22,
   "id": "cb5157bf",
   "metadata": {},
   "outputs": [],
   "source": [
    "legit_df = legit_df.abs()\n",
    "cheaters_df = cheaters_df.abs()"
   ]
  },
  {
   "cell_type": "code",
   "execution_count": 23,
   "id": "9678b926",
   "metadata": {},
   "outputs": [
    {
     "data": {
      "text/html": [
       "<div>\n",
       "<style scoped>\n",
       "    .dataframe tbody tr th:only-of-type {\n",
       "        vertical-align: middle;\n",
       "    }\n",
       "\n",
       "    .dataframe tbody tr th {\n",
       "        vertical-align: top;\n",
       "    }\n",
       "\n",
       "    .dataframe thead th {\n",
       "        text-align: right;\n",
       "    }\n",
       "</style>\n",
       "<table border=\"1\" class=\"dataframe\">\n",
       "  <thead>\n",
       "    <tr style=\"text-align: right;\">\n",
       "      <th></th>\n",
       "      <th>AttackerDeltaYaw</th>\n",
       "      <th>AttackerDeltaPitch</th>\n",
       "      <th>CrosshairToVictimYaw</th>\n",
       "      <th>CrosshairToVictimPitch</th>\n",
       "      <th>Firing</th>\n",
       "    </tr>\n",
       "  </thead>\n",
       "  <tbody>\n",
       "    <tr>\n",
       "      <th>count</th>\n",
       "      <td>57600000.0000</td>\n",
       "      <td>57600000.0000</td>\n",
       "      <td>57600000.0000</td>\n",
       "      <td>57600000.0000</td>\n",
       "      <td>57600000.0000</td>\n",
       "    </tr>\n",
       "    <tr>\n",
       "      <th>mean</th>\n",
       "      <td>0.9144</td>\n",
       "      <td>0.2001</td>\n",
       "      <td>20.1014</td>\n",
       "      <td>3.7624</td>\n",
       "      <td>0.0521</td>\n",
       "    </tr>\n",
       "    <tr>\n",
       "      <th>std</th>\n",
       "      <td>3.2281</td>\n",
       "      <td>0.5578</td>\n",
       "      <td>30.3326</td>\n",
       "      <td>6.2394</td>\n",
       "      <td>0.2175</td>\n",
       "    </tr>\n",
       "    <tr>\n",
       "      <th>min</th>\n",
       "      <td>0.0000</td>\n",
       "      <td>0.0000</td>\n",
       "      <td>0.0000</td>\n",
       "      <td>0.0000</td>\n",
       "      <td>0.0000</td>\n",
       "    </tr>\n",
       "    <tr>\n",
       "      <th>25%</th>\n",
       "      <td>0.0000</td>\n",
       "      <td>0.0000</td>\n",
       "      <td>2.1560</td>\n",
       "      <td>0.8570</td>\n",
       "      <td>0.0000</td>\n",
       "    </tr>\n",
       "    <tr>\n",
       "      <th>50%</th>\n",
       "      <td>0.1320</td>\n",
       "      <td>0.0490</td>\n",
       "      <td>9.8550</td>\n",
       "      <td>2.4800</td>\n",
       "      <td>0.0000</td>\n",
       "    </tr>\n",
       "    <tr>\n",
       "      <th>75%</th>\n",
       "      <td>0.6540</td>\n",
       "      <td>0.2250</td>\n",
       "      <td>31.2710</td>\n",
       "      <td>6.0000</td>\n",
       "      <td>0.0000</td>\n",
       "    </tr>\n",
       "    <tr>\n",
       "      <th>max</th>\n",
       "      <td>180.0000</td>\n",
       "      <td>88.9950</td>\n",
       "      <td>180.0000</td>\n",
       "      <td>154.1330</td>\n",
       "      <td>1.0000</td>\n",
       "    </tr>\n",
       "  </tbody>\n",
       "</table>\n",
       "</div>"
      ],
      "text/plain": [
       "       AttackerDeltaYaw  AttackerDeltaPitch  CrosshairToVictimYaw  \\\n",
       "count     57600000.0000       57600000.0000         57600000.0000   \n",
       "mean             0.9144              0.2001               20.1014   \n",
       "std              3.2281              0.5578               30.3326   \n",
       "min              0.0000              0.0000                0.0000   \n",
       "25%              0.0000              0.0000                2.1560   \n",
       "50%              0.1320              0.0490                9.8550   \n",
       "75%              0.6540              0.2250               31.2710   \n",
       "max            180.0000             88.9950              180.0000   \n",
       "\n",
       "       CrosshairToVictimPitch        Firing  \n",
       "count           57600000.0000 57600000.0000  \n",
       "mean                   3.7624        0.0521  \n",
       "std                    6.2394        0.2175  \n",
       "min                    0.0000        0.0000  \n",
       "25%                    0.8570        0.0000  \n",
       "50%                    2.4800        0.0000  \n",
       "75%                    6.0000        0.0000  \n",
       "max                  154.1330        1.0000  "
      ]
     },
     "execution_count": 23,
     "metadata": {},
     "output_type": "execute_result"
    }
   ],
   "source": [
    "legit_df.describe()"
   ]
  },
  {
   "cell_type": "code",
   "execution_count": 24,
   "id": "a166f7df",
   "metadata": {},
   "outputs": [
    {
     "data": {
      "text/html": [
       "<div>\n",
       "<style scoped>\n",
       "    .dataframe tbody tr th:only-of-type {\n",
       "        vertical-align: middle;\n",
       "    }\n",
       "\n",
       "    .dataframe tbody tr th {\n",
       "        vertical-align: top;\n",
       "    }\n",
       "\n",
       "    .dataframe thead th {\n",
       "        text-align: right;\n",
       "    }\n",
       "</style>\n",
       "<table border=\"1\" class=\"dataframe\">\n",
       "  <thead>\n",
       "    <tr style=\"text-align: right;\">\n",
       "      <th></th>\n",
       "      <th>AttackerDeltaYaw</th>\n",
       "      <th>AttackerDeltaPitch</th>\n",
       "      <th>CrosshairToVictimYaw</th>\n",
       "      <th>CrosshairToVictimPitch</th>\n",
       "      <th>Firing</th>\n",
       "    </tr>\n",
       "  </thead>\n",
       "  <tbody>\n",
       "    <tr>\n",
       "      <th>count</th>\n",
       "      <td>11520000.0000</td>\n",
       "      <td>11520000.0000</td>\n",
       "      <td>11520000.0000</td>\n",
       "      <td>11520000.0000</td>\n",
       "      <td>11520000.0000</td>\n",
       "    </tr>\n",
       "    <tr>\n",
       "      <th>mean</th>\n",
       "      <td>1.0210</td>\n",
       "      <td>0.2196</td>\n",
       "      <td>22.8156</td>\n",
       "      <td>4.5182</td>\n",
       "      <td>0.0512</td>\n",
       "    </tr>\n",
       "    <tr>\n",
       "      <th>std</th>\n",
       "      <td>3.0765</td>\n",
       "      <td>0.6676</td>\n",
       "      <td>31.3499</td>\n",
       "      <td>6.3601</td>\n",
       "      <td>0.2158</td>\n",
       "    </tr>\n",
       "    <tr>\n",
       "      <th>min</th>\n",
       "      <td>0.0000</td>\n",
       "      <td>0.0000</td>\n",
       "      <td>0.0000</td>\n",
       "      <td>0.0000</td>\n",
       "      <td>0.0000</td>\n",
       "    </tr>\n",
       "    <tr>\n",
       "      <th>25%</th>\n",
       "      <td>0.0000</td>\n",
       "      <td>0.0000</td>\n",
       "      <td>2.1430</td>\n",
       "      <td>0.9360</td>\n",
       "      <td>0.0000</td>\n",
       "    </tr>\n",
       "    <tr>\n",
       "      <th>50%</th>\n",
       "      <td>0.1320</td>\n",
       "      <td>0.0490</td>\n",
       "      <td>9.7970</td>\n",
       "      <td>2.5730</td>\n",
       "      <td>0.0000</td>\n",
       "    </tr>\n",
       "    <tr>\n",
       "      <th>75%</th>\n",
       "      <td>0.6870</td>\n",
       "      <td>0.2200</td>\n",
       "      <td>31.0930</td>\n",
       "      <td>6.0090</td>\n",
       "      <td>0.0000</td>\n",
       "    </tr>\n",
       "    <tr>\n",
       "      <th>max</th>\n",
       "      <td>179.6980</td>\n",
       "      <td>98.6020</td>\n",
       "      <td>180.0000</td>\n",
       "      <td>119.4610</td>\n",
       "      <td>1.0000</td>\n",
       "    </tr>\n",
       "  </tbody>\n",
       "</table>\n",
       "</div>"
      ],
      "text/plain": [
       "       AttackerDeltaYaw  AttackerDeltaPitch  CrosshairToVictimYaw  \\\n",
       "count     11520000.0000       11520000.0000         11520000.0000   \n",
       "mean             1.0210              0.2196               22.8156   \n",
       "std              3.0765              0.6676               31.3499   \n",
       "min              0.0000              0.0000                0.0000   \n",
       "25%              0.0000              0.0000                2.1430   \n",
       "50%              0.1320              0.0490                9.7970   \n",
       "75%              0.6870              0.2200               31.0930   \n",
       "max            179.6980             98.6020              180.0000   \n",
       "\n",
       "       CrosshairToVictimPitch        Firing  \n",
       "count           11520000.0000 11520000.0000  \n",
       "mean                   4.5182        0.0512  \n",
       "std                    6.3601        0.2158  \n",
       "min                    0.0000        0.0000  \n",
       "25%                    0.9360        0.0000  \n",
       "50%                    2.5730        0.0000  \n",
       "75%                    6.0090        0.0000  \n",
       "max                  119.4610        1.0000  "
      ]
     },
     "execution_count": 24,
     "metadata": {},
     "output_type": "execute_result"
    }
   ],
   "source": [
    "cheaters_df.describe()"
   ]
  },
  {
   "cell_type": "code",
   "execution_count": 25,
   "id": "e8fd3424",
   "metadata": {},
   "outputs": [
    {
     "name": "stdout",
     "output_type": "stream",
     "text": [
      "5952 6144\n"
     ]
    },
    {
     "name": "stderr",
     "output_type": "stream",
     "text": [
      "C:\\Users\\carlo\\AppData\\Local\\Temp/ipykernel_24812/2003225572.py:18: FutureWarning: In a future version of pandas all arguments of DataFrame.set_index except for the argument 'keys' will be keyword-only\n",
      "  legit.set_index((legit.index.get_level_values('Game Tick') / engagement - 192), 'Game Tick', inplace=True)\n",
      "C:\\Users\\carlo\\AppData\\Local\\Temp/ipykernel_24812/2003225572.py:19: FutureWarning: In a future version of pandas all arguments of DataFrame.set_index except for the argument 'keys' will be keyword-only\n",
      "  cheater.set_index((cheater.index.get_level_values('Game Tick') / engagement - 192), 'Game Tick', inplace=True)\n"
     ]
    },
    {
     "data": {
      "text/plain": [
       "<matplotlib.legend.Legend at 0x180ef11a6d0>"
      ]
     },
     "execution_count": 25,
     "metadata": {},
     "output_type": "execute_result"
    },
    {
     "data": {
      "image/png": "[encoded data removed]",
      "text/plain": [
       "<Figure size 1080x1080 with 4 Axes>"
      ]
     },
     "metadata": {
      "needs_background": "light"
     },
     "output_type": "display_data"
    }
   ],
   "source": [
    "#Choose which player (0 - 1999)\n",
    "player = 1\n",
    "\n",
    "# Choose which engagement (0 - 29)\n",
    "engagement = 1\n",
    "\n",
    "# Set index for retrieval\n",
    "start = (player * 5760) + (engagement * 192)\n",
    "end = (player * 5760) + ((engagement + 1) * 192)\n",
    "print(start, end)\n",
    "\n",
    "# Gets specific player engagement\n",
    "legit = legit_df.iloc[start:end]\n",
    "cheater = cheaters_df.iloc[start:end]\n",
    "\n",
    "# Converts timestamp to align with actual time instead of dataset\n",
    "if(start > 0):\n",
    "    legit.set_index((legit.index.get_level_values('Game Tick') / engagement - 192), 'Game Tick', inplace=True) \n",
    "    cheater.set_index((cheater.index.get_level_values('Game Tick') / engagement - 192), 'Game Tick', inplace=True) \n",
    "\n",
    "# Gets timestamps of when players fired\n",
    "legit_firing = legit[legit['Firing'] == 1]\n",
    "cheater_firing = cheater[cheater['Firing'] == 1]\n",
    "\n",
    "fig = plt.figure(figsize=(15,15))\n",
    "\n",
    "ax1 = fig.add_subplot(411)\n",
    "ax1.set_title('Legit Yaw')\n",
    "plt.plot(legit['AttackerDeltaYaw'], label='AttackerDeltaYaw')\n",
    "plt.plot(legit['CrosshairToVictimYaw'], label='CrosshairToVictimYaw')\n",
    "[plt.axvline(x, linewidth=1, color='r') for x in legit_firing.index.get_level_values('Game Tick')]\n",
    "ax1.lines[-1].set_label('Weapon fired')\n",
    "plt.legend(loc='upper left')\n",
    "\n",
    "ax2 = fig.add_subplot(412)\n",
    "ax2.set_title('Legit Pitch')\n",
    "plt.plot(legit['AttackerDeltaPitch'], label='AttackerDeltaPitch')\n",
    "plt.plot(legit['CrosshairToVictimPitch'], label='CrosshairToVictimPitch')\n",
    "[plt.axvline(x, linewidth=1, color='r') for x in legit_firing.index.get_level_values('Game Tick')]\n",
    "ax2.lines[-1].set_label('Weapon fired')\n",
    "plt.legend(loc='upper left')\n",
    "\n",
    "ax3 = fig.add_subplot(413)\n",
    "ax3.set_title('Cheater Yaw')\n",
    "plt.plot(cheater['AttackerDeltaYaw'], label='AttackerDeltaYaw')\n",
    "plt.plot(cheater['CrosshairToVictimYaw'], label='CrosshairToVictimYaw')\n",
    "[plt.axvline(x, linewidth=1, color='r') for x in cheater_firing.index.get_level_values('Game Tick')]\n",
    "ax3.lines[-1].set_label('Weapon fired')\n",
    "plt.legend(loc='upper left')\n",
    "\n",
    "ax4 = fig.add_subplot(414)\n",
    "ax4.set_title('Cheater Pitch')\n",
    "plt.plot(cheater['AttackerDeltaPitch'], label='AttackerDeltaPitch')\n",
    "plt.plot(cheater['CrosshairToVictimPitch'], label='CrosshairToVictimPitch')\n",
    "[plt.axvline(x, linewidth=1, color='r') for x in cheater_firing.index.get_level_values('Game Tick')]\n",
    "ax4.lines[-1].set_label('Weapon fired')\n",
    "plt.legend(loc='upper left')"
   ]
  },
  {
   "cell_type": "markdown",
   "id": "ab13d07d",
   "metadata": {},
   "source": [
    "Theories\n",
    "- If yaw/pitch move by X, cheater crosshair should move X closer to target\n",
    "- Cheaters have low CrosshairToVictimPitch (aim is locked on, or always very close)"
   ]
  },
  {
   "cell_type": "markdown",
   "id": "6ecd1833",
   "metadata": {},
   "source": [
    "In order to add more randomness for the splitting of the train and test sets later on, we shuffle this combined list. To do so while keeping the correspondence of the rows from both lists, we shuffle the indices instead and assign them to both lists."
   ]
  },
  {
   "cell_type": "code",
   "execution_count": 26,
   "id": "c5715484",
   "metadata": {},
   "outputs": [],
   "source": [
    "# https://stackoverflow.com/questions/23289547/shuffle-two-list-at-once-with-same-order\n",
    "# Generate shuffled indices\n",
    "indices = np.arange(X_players.shape[0])\n",
    "np.random.shuffle(indices)\n",
    "\n",
    "# Assign shuffled indices to both lists\n",
    "X_players = X_players[indices]\n",
    "y_players = y_players[indices]"
   ]
  },
  {
   "cell_type": "markdown",
   "id": "2cc05e13",
   "metadata": {},
   "source": [
    "## TEST"
   ]
  },
  {
   "cell_type": "code",
   "execution_count": 6,
   "id": "aba60621",
   "metadata": {},
   "outputs": [],
   "source": [
    "import tensorflow as tf\n",
    "from tensorflow import keras\n",
    "from tensorflow.keras.layers import Dense\n",
    "from tensorflow.keras import layers\n",
    "from keras.models import Sequential\n",
    "from keras.layers import Conv2D, BatchNormalization, MaxPool2D, Dense, Flatten, Dropout\n",
    "from tensorflow.python.client import device_lib\n",
    "import keras_tuner"
   ]
  },
  {
   "cell_type": "code",
   "execution_count": 7,
   "id": "85ec06ff",
   "metadata": {},
   "outputs": [
    {
     "name": "stdout",
     "output_type": "stream",
     "text": [
      "[name: \"/device:CPU:0\"\n",
      "device_type: \"CPU\"\n",
      "memory_limit: 268435456\n",
      "locality {\n",
      "}\n",
      "incarnation: 16178210568089095038\n",
      "xla_global_id: -1\n",
      ", name: \"/device:GPU:0\"\n",
      "device_type: \"GPU\"\n",
      "memory_limit: 5738397696\n",
      "locality {\n",
      "  bus_id: 1\n",
      "  links {\n",
      "  }\n",
      "}\n",
      "incarnation: 6218075578926640630\n",
      "physical_device_desc: \"device: 0, name: NVIDIA GeForce RTX 3070, pci bus id: 0000:06:00.0, compute capability: 8.6\"\n",
      "xla_global_id: 416903419\n",
      "]\n",
      "Device mapping:\n",
      "/job:localhost/replica:0/task:0/device:GPU:0 -> device: 0, name: NVIDIA GeForce RTX 3070, pci bus id: 0000:06:00.0, compute capability: 8.6\n",
      "\n"
     ]
    }
   ],
   "source": [
    "print(device_lib.list_local_devices())\n",
    "sess = tf.compat.v1.Session(config=tf.compat.v1.ConfigProto(log_device_placement=True))\n",
    "X_players = X_players.reshape(12000, 28800)"
   ]
  },
  {
   "cell_type": "code",
   "execution_count": 10,
   "id": "124ada40",
   "metadata": {},
   "outputs": [],
   "source": [
    "X_train,X_test,y_train,y_test = train_test_split(X_players,y_players,random_state= 0,test_size=0.2)\n",
    "X_train,X_val,y_train,y_val = train_test_split(X_train,y_train,random_state= 0,test_size=0.2)"
   ]
  },
  {
   "cell_type": "code",
   "execution_count": 46,
   "id": "e502635e",
   "metadata": {},
   "outputs": [
    {
     "ename": "InternalError",
     "evalue": "Failed copying input tensor from /job:localhost/replica:0/task:0/device:CPU:0 to /job:localhost/replica:0/task:0/device:GPU:0 in order to run _EagerConst: Dst tensor is not initialized.",
     "output_type": "error",
     "traceback": [
      "\u001b[1;31m---------------------------------------------------------------------------\u001b[0m",
      "\u001b[1;31mInternalError\u001b[0m                             Traceback (most recent call last)",
      "\u001b[1;32m~\\AppData\\Local\\Temp/ipykernel_20012/3255749657.py\u001b[0m in \u001b[0;36m<module>\u001b[1;34m\u001b[0m\n\u001b[0;32m     15\u001b[0m \u001b[0mX_train\u001b[0m\u001b[1;33m.\u001b[0m\u001b[0mshape\u001b[0m\u001b[1;33m\u001b[0m\u001b[1;33m\u001b[0m\u001b[0m\n\u001b[0;32m     16\u001b[0m \u001b[0mnum_epochs\u001b[0m \u001b[1;33m=\u001b[0m \u001b[1;36m40\u001b[0m\u001b[1;33m\u001b[0m\u001b[1;33m\u001b[0m\u001b[0m\n\u001b[1;32m---> 17\u001b[1;33m \u001b[0mmodel\u001b[0m\u001b[1;33m.\u001b[0m\u001b[0mfit\u001b[0m\u001b[1;33m(\u001b[0m\u001b[0mX_train\u001b[0m\u001b[1;33m,\u001b[0m \u001b[0my_train\u001b[0m\u001b[1;33m,\u001b[0m \u001b[0mepochs\u001b[0m\u001b[1;33m=\u001b[0m\u001b[0mnum_epochs\u001b[0m\u001b[1;33m,\u001b[0m\u001b[0mbatch_size\u001b[0m\u001b[1;33m=\u001b[0m\u001b[0mbatch\u001b[0m\u001b[1;33m,\u001b[0m\u001b[0mvalidation_split\u001b[0m\u001b[1;33m=\u001b[0m\u001b[1;36m0.2\u001b[0m\u001b[1;33m)\u001b[0m\u001b[1;33m\u001b[0m\u001b[1;33m\u001b[0m\u001b[0m\n\u001b[0m",
      "\u001b[1;32m~\\anaconda3\\lib\\site-packages\\keras\\utils\\traceback_utils.py\u001b[0m in \u001b[0;36merror_handler\u001b[1;34m(*args, **kwargs)\u001b[0m\n\u001b[0;32m     65\u001b[0m     \u001b[1;32mexcept\u001b[0m \u001b[0mException\u001b[0m \u001b[1;32mas\u001b[0m \u001b[0me\u001b[0m\u001b[1;33m:\u001b[0m  \u001b[1;31m# pylint: disable=broad-except\u001b[0m\u001b[1;33m\u001b[0m\u001b[1;33m\u001b[0m\u001b[0m\n\u001b[0;32m     66\u001b[0m       \u001b[0mfiltered_tb\u001b[0m \u001b[1;33m=\u001b[0m \u001b[0m_process_traceback_frames\u001b[0m\u001b[1;33m(\u001b[0m\u001b[0me\u001b[0m\u001b[1;33m.\u001b[0m\u001b[0m__traceback__\u001b[0m\u001b[1;33m)\u001b[0m\u001b[1;33m\u001b[0m\u001b[1;33m\u001b[0m\u001b[0m\n\u001b[1;32m---> 67\u001b[1;33m       \u001b[1;32mraise\u001b[0m \u001b[0me\u001b[0m\u001b[1;33m.\u001b[0m\u001b[0mwith_traceback\u001b[0m\u001b[1;33m(\u001b[0m\u001b[0mfiltered_tb\u001b[0m\u001b[1;33m)\u001b[0m \u001b[1;32mfrom\u001b[0m \u001b[1;32mNone\u001b[0m\u001b[1;33m\u001b[0m\u001b[1;33m\u001b[0m\u001b[0m\n\u001b[0m\u001b[0;32m     68\u001b[0m     \u001b[1;32mfinally\u001b[0m\u001b[1;33m:\u001b[0m\u001b[1;33m\u001b[0m\u001b[1;33m\u001b[0m\u001b[0m\n\u001b[0;32m     69\u001b[0m       \u001b[1;32mdel\u001b[0m \u001b[0mfiltered_tb\u001b[0m\u001b[1;33m\u001b[0m\u001b[1;33m\u001b[0m\u001b[0m\n",
      "\u001b[1;32m~\\anaconda3\\lib\\site-packages\\tensorflow\\python\\framework\\constant_op.py\u001b[0m in \u001b[0;36mconvert_to_eager_tensor\u001b[1;34m(value, ctx, dtype)\u001b[0m\n\u001b[0;32m    100\u001b[0m       \u001b[0mdtype\u001b[0m \u001b[1;33m=\u001b[0m \u001b[0mdtypes\u001b[0m\u001b[1;33m.\u001b[0m\u001b[0mas_dtype\u001b[0m\u001b[1;33m(\u001b[0m\u001b[0mdtype\u001b[0m\u001b[1;33m)\u001b[0m\u001b[1;33m.\u001b[0m\u001b[0mas_datatype_enum\u001b[0m\u001b[1;33m\u001b[0m\u001b[1;33m\u001b[0m\u001b[0m\n\u001b[0;32m    101\u001b[0m   \u001b[0mctx\u001b[0m\u001b[1;33m.\u001b[0m\u001b[0mensure_initialized\u001b[0m\u001b[1;33m(\u001b[0m\u001b[1;33m)\u001b[0m\u001b[1;33m\u001b[0m\u001b[1;33m\u001b[0m\u001b[0m\n\u001b[1;32m--> 102\u001b[1;33m   \u001b[1;32mreturn\u001b[0m \u001b[0mops\u001b[0m\u001b[1;33m.\u001b[0m\u001b[0mEagerTensor\u001b[0m\u001b[1;33m(\u001b[0m\u001b[0mvalue\u001b[0m\u001b[1;33m,\u001b[0m \u001b[0mctx\u001b[0m\u001b[1;33m.\u001b[0m\u001b[0mdevice_name\u001b[0m\u001b[1;33m,\u001b[0m \u001b[0mdtype\u001b[0m\u001b[1;33m)\u001b[0m\u001b[1;33m\u001b[0m\u001b[1;33m\u001b[0m\u001b[0m\n\u001b[0m\u001b[0;32m    103\u001b[0m \u001b[1;33m\u001b[0m\u001b[0m\n\u001b[0;32m    104\u001b[0m \u001b[1;33m\u001b[0m\u001b[0m\n",
      "\u001b[1;31mInternalError\u001b[0m: Failed copying input tensor from /job:localhost/replica:0/task:0/device:CPU:0 to /job:localhost/replica:0/task:0/device:GPU:0 in order to run _EagerConst: Dst tensor is not initialized."
     ]
    }
   ],
   "source": [
    "import numpy as np\n",
    "import tensorflow as tf\n",
    "\n",
    "\n",
    "\n",
    "batch=32\n",
    "\n",
    "model = tf.keras.Sequential([\n",
    "    tf.keras.layers.Dense(5, activation='relu'),\n",
    "    tf.keras.layers.Dense(32, activation='relu'),\n",
    "    tf.keras.layers.Dense(32, activation='relu'),\n",
    "    tf.keras.layers.Dense(1, activation='sigmoid')\n",
    "])\n",
    "model.compile(loss='binary_crossentropy',optimizer='adam',metrics=['accuracy'])\n",
    "X_train.shape    \n",
    "num_epochs = 40\n",
    "model.fit(X_train, y_train, epochs=num_epochs,batch_size=batch,validation_split=0.2)"
   ]
  },
  {
   "cell_type": "code",
   "execution_count": 39,
   "id": "4c5ec8f6",
   "metadata": {},
   "outputs": [
    {
     "data": {
      "text/plain": [
       "(7680, 28800)"
      ]
     },
     "execution_count": 39,
     "metadata": {},
     "output_type": "execute_result"
    }
   ],
   "source": [
    "X_train.shape   "
   ]
  },
  {
   "cell_type": "code",
   "execution_count": 40,
   "id": "895becf5",
   "metadata": {},
   "outputs": [
    {
     "data": {
      "text/plain": [
       "(7680,)"
      ]
     },
     "execution_count": 40,
     "metadata": {},
     "output_type": "execute_result"
    }
   ],
   "source": [
    "y_train.shape"
   ]
  },
  {
   "cell_type": "code",
   "execution_count": 41,
   "id": "d2a5fe32",
   "metadata": {},
   "outputs": [
    {
     "data": {
      "text/plain": [
       "(1920, 28800)"
      ]
     },
     "execution_count": 41,
     "metadata": {},
     "output_type": "execute_result"
    }
   ],
   "source": [
    "X_val.shape"
   ]
  },
  {
   "cell_type": "code",
   "execution_count": 42,
   "id": "98ba8fc0",
   "metadata": {},
   "outputs": [
    {
     "data": {
      "text/plain": [
       "(1920,)"
      ]
     },
     "execution_count": 42,
     "metadata": {},
     "output_type": "execute_result"
    }
   ],
   "source": [
    "y_val.shape"
   ]
  },
  {
   "cell_type": "code",
   "execution_count": 43,
   "id": "d7d75039",
   "metadata": {},
   "outputs": [
    {
     "name": "stdout",
     "output_type": "stream",
     "text": [
      "Model: \"sequential_5\"\n",
      "_________________________________________________________________\n",
      " Layer (type)                Output Shape              Param #   \n",
      "=================================================================\n",
      " dense_17 (Dense)            (32, 5)                   144005    \n",
      "                                                                 \n",
      " dense_18 (Dense)            (32, 32)                  192       \n",
      "                                                                 \n",
      " dense_19 (Dense)            (32, 32)                  1056      \n",
      "                                                                 \n",
      " dense_20 (Dense)            (32, 1)                   33        \n",
      "                                                                 \n",
      "=================================================================\n",
      "Total params: 145,286\n",
      "Trainable params: 145,286\n",
      "Non-trainable params: 0\n",
      "_________________________________________________________________\n"
     ]
    }
   ],
   "source": [
    "model.summary()"
   ]
  },
  {
   "cell_type": "code",
   "execution_count": 44,
   "id": "e7cbd96a",
   "metadata": {},
   "outputs": [
    {
     "name": "stdout",
     "output_type": "stream",
     "text": [
      "75/75 [==============================] - 0s 3ms/step - loss: 0.4843 - accuracy: 0.8217\n"
     ]
    }
   ],
   "source": [
    "results = model.evaluate(X_test, y_test, batch_size=batch)"
   ]
  },
  {
   "cell_type": "code",
   "execution_count": 45,
   "id": "6fdabbbd",
   "metadata": {},
   "outputs": [
    {
     "name": "stdout",
     "output_type": "stream",
     "text": [
      "[0.48426294326782227, 0.8216666579246521]\n"
     ]
    }
   ],
   "source": [
    "print(results)"
   ]
  },
  {
   "cell_type": "code",
   "execution_count": 9,
   "id": "ca5d88cd",
   "metadata": {},
   "outputs": [
    {
     "name": "stdout",
     "output_type": "stream",
     "text": [
      "75/75 [==============================] - 1s 9ms/step\n"
     ]
    }
   ],
   "source": [
    "predictions = model.predict(X_test)"
   ]
  },
  {
   "cell_type": "code",
   "execution_count": 158,
   "id": "1a84e5c0",
   "metadata": {},
   "outputs": [
    {
     "name": "stdout",
     "output_type": "stream",
     "text": [
      "[[6.5011909e-04]\n",
      " [9.2474587e-04]\n",
      " [8.6611277e-01]\n",
      " ...\n",
      " [5.2007270e-04]\n",
      " [3.1917796e-07]\n",
      " [1.0570274e-10]]\n"
     ]
    }
   ],
   "source": [
    "print(predictions)"
   ]
  },
  {
   "cell_type": "code",
   "execution_count": 96,
   "id": "347cc6be",
   "metadata": {},
   "outputs": [],
   "source": [
    "def build_model(hp):\n",
    "    model = keras.Sequential()\n",
    "    model.add(layers.Flatten())\n",
    "    # Tune the number of layers.\n",
    "    for i in range(hp.Int(\"num_layers\", 1, 5)):\n",
    "        model.add(\n",
    "            layers.Dense(\n",
    "                # Tune number of units separately.\n",
    "                units=hp.Int(f\"units_{i}\", min_value=32, max_value=960, step=32),\n",
    "                activation=hp.Choice(\"activation\", [\"relu\", \"tanh\",\"elu\",\"selu\"]),\n",
    "            )\n",
    "        )\n",
    "    if hp.Boolean(\"dropout\"):\n",
    "        model.add(layers.Dropout(rate=0.25))\n",
    "    model.add(layers.Dense(1, activation=\"sigmoid\"))\n",
    "    learning_rate = hp.Float(\"lr\", min_value=1e-4, max_value=1e-2, sampling=\"log\")\n",
    "    model.compile(\n",
    "        optimizer=keras.optimizers.Adam(learning_rate=learning_rate),\n",
    "        loss=\"categorical_crossentropy\",\n",
    "        metrics=[\"accuracy\"],\n",
    "    )\n",
    "    return model"
   ]
  },
  {
   "cell_type": "code",
   "execution_count": 97,
   "id": "cac71176",
   "metadata": {},
   "outputs": [
    {
     "data": {
      "text/plain": [
       "<keras.engine.sequential.Sequential at 0x2b9b22820d0>"
      ]
     },
     "execution_count": 97,
     "metadata": {},
     "output_type": "execute_result"
    }
   ],
   "source": [
    "build_model(keras_tuner.HyperParameters())"
   ]
  },
  {
   "cell_type": "code",
   "execution_count": 98,
   "id": "3362c822",
   "metadata": {},
   "outputs": [
    {
     "name": "stdout",
     "output_type": "stream",
     "text": [
      "Search space summary\n",
      "Default search space size: 5\n",
      "num_layers (Int)\n",
      "{'default': None, 'conditions': [], 'min_value': 1, 'max_value': 5, 'step': 1, 'sampling': None}\n",
      "units_0 (Int)\n",
      "{'default': None, 'conditions': [], 'min_value': 32, 'max_value': 960, 'step': 32, 'sampling': None}\n",
      "activation (Choice)\n",
      "{'default': 'relu', 'conditions': [], 'values': ['relu', 'tanh', 'elu', 'selu'], 'ordered': False}\n",
      "dropout (Boolean)\n",
      "{'default': False, 'conditions': []}\n",
      "lr (Float)\n",
      "{'default': 0.0001, 'conditions': [], 'min_value': 0.0001, 'max_value': 0.01, 'step': None, 'sampling': 'log'}\n"
     ]
    }
   ],
   "source": [
    "\n",
    "tuner = keras_tuner.Hyperband(\n",
    "    hypermodel=build_model,\n",
    "    objective=\"val_accuracy\",\n",
    "    max_epochs=10,\n",
    "    factor=3,\n",
    "    overwrite=True,\n",
    "    directory=\"res\"\n",
    ")\n",
    "tuner.search_space_summary()"
   ]
  },
  {
   "cell_type": "code",
   "execution_count": 99,
   "id": "814429d1",
   "metadata": {},
   "outputs": [
    {
     "name": "stdout",
     "output_type": "stream",
     "text": [
      "Trial 30 Complete [00h 00m 11s]\n",
      "val_accuracy: 0.841796875\n",
      "\n",
      "Best val_accuracy So Far: 0.8430989384651184\n",
      "Total elapsed time: 00h 03m 21s\n",
      "INFO:tensorflow:Oracle triggered exit\n"
     ]
    }
   ],
   "source": [
    "stop_early = tf.keras.callbacks.EarlyStopping(monitor='val_loss', patience=5)\n",
    "tuner.search(X_train, y_train, epochs=50, validation_split=0.2, callbacks=[stop_early])"
   ]
  },
  {
   "cell_type": "code",
   "execution_count": 101,
   "id": "f28a7df6",
   "metadata": {},
   "outputs": [
    {
     "name": "stdout",
     "output_type": "stream",
     "text": [
      "WARNING:tensorflow:Detecting that an object or model or tf.train.Checkpoint is being deleted with unrestored values. See the following logs for the specific values in question. To silence these warnings, use `status.expect_partial()`. See https://www.tensorflow.org/api_docs/python/tf/train/Checkpoint#restorefor details about the status object returned by the restore function.\n",
      "WARNING:tensorflow:Value in checkpoint could not be found in the restored object: (root).layer_with_weights-0.kernel\n",
      "WARNING:tensorflow:Value in checkpoint could not be found in the restored object: (root).layer_with_weights-0.bias\n",
      "WARNING:tensorflow:Value in checkpoint could not be found in the restored object: (root).layer_with_weights-1.kernel\n",
      "WARNING:tensorflow:Value in checkpoint could not be found in the restored object: (root).layer_with_weights-1.bias\n",
      "WARNING:tensorflow:Value in checkpoint could not be found in the restored object: (root).layer_with_weights-2.kernel\n",
      "WARNING:tensorflow:Value in checkpoint could not be found in the restored object: (root).layer_with_weights-2.bias\n",
      "WARNING:tensorflow:Value in checkpoint could not be found in the restored object: (root).optimizer.iter\n",
      "WARNING:tensorflow:Value in checkpoint could not be found in the restored object: (root).optimizer.beta_1\n",
      "WARNING:tensorflow:Value in checkpoint could not be found in the restored object: (root).optimizer.beta_2\n",
      "WARNING:tensorflow:Value in checkpoint could not be found in the restored object: (root).optimizer.decay\n",
      "WARNING:tensorflow:Value in checkpoint could not be found in the restored object: (root).optimizer.learning_rate\n",
      "WARNING:tensorflow:Value in checkpoint could not be found in the restored object: (root).optimizer's state 'm' for (root).layer_with_weights-0.kernel\n",
      "WARNING:tensorflow:Value in checkpoint could not be found in the restored object: (root).optimizer's state 'm' for (root).layer_with_weights-0.bias\n",
      "WARNING:tensorflow:Value in checkpoint could not be found in the restored object: (root).optimizer's state 'm' for (root).layer_with_weights-1.kernel\n",
      "WARNING:tensorflow:Value in checkpoint could not be found in the restored object: (root).optimizer's state 'm' for (root).layer_with_weights-1.bias\n",
      "WARNING:tensorflow:Value in checkpoint could not be found in the restored object: (root).optimizer's state 'm' for (root).layer_with_weights-2.kernel\n",
      "WARNING:tensorflow:Value in checkpoint could not be found in the restored object: (root).optimizer's state 'm' for (root).layer_with_weights-2.bias\n",
      "WARNING:tensorflow:Value in checkpoint could not be found in the restored object: (root).optimizer's state 'v' for (root).layer_with_weights-0.kernel\n",
      "WARNING:tensorflow:Value in checkpoint could not be found in the restored object: (root).optimizer's state 'v' for (root).layer_with_weights-0.bias\n",
      "WARNING:tensorflow:Value in checkpoint could not be found in the restored object: (root).optimizer's state 'v' for (root).layer_with_weights-1.kernel\n",
      "WARNING:tensorflow:Value in checkpoint could not be found in the restored object: (root).optimizer's state 'v' for (root).layer_with_weights-1.bias\n",
      "WARNING:tensorflow:Value in checkpoint could not be found in the restored object: (root).optimizer's state 'v' for (root).layer_with_weights-2.kernel\n",
      "WARNING:tensorflow:Value in checkpoint could not be found in the restored object: (root).optimizer's state 'v' for (root).layer_with_weights-2.bias\n",
      "WARNING:tensorflow:Detecting that an object or model or tf.train.Checkpoint is being deleted with unrestored values. See the following logs for the specific values in question. To silence these warnings, use `status.expect_partial()`. See https://www.tensorflow.org/api_docs/python/tf/train/Checkpoint#restorefor details about the status object returned by the restore function.\n",
      "WARNING:tensorflow:Value in checkpoint could not be found in the restored object: (root).optimizer.iter\n",
      "WARNING:tensorflow:Value in checkpoint could not be found in the restored object: (root).optimizer.beta_1\n",
      "WARNING:tensorflow:Value in checkpoint could not be found in the restored object: (root).optimizer.beta_2\n",
      "WARNING:tensorflow:Value in checkpoint could not be found in the restored object: (root).optimizer.decay\n",
      "WARNING:tensorflow:Value in checkpoint could not be found in the restored object: (root).optimizer.learning_rate\n",
      "Model: \"sequential\"\n",
      "_________________________________________________________________\n",
      " Layer (type)                Output Shape              Param #   \n",
      "=================================================================\n",
      " flatten (Flatten)           (7680, 28800)             0         \n",
      "                                                                 \n",
      " dense (Dense)               (7680, 192)               5529792   \n",
      "                                                                 \n",
      " dense_1 (Dense)             (7680, 736)               142048    \n",
      "                                                                 \n",
      " dense_2 (Dense)             (7680, 32)                23584     \n",
      "                                                                 \n",
      " dense_3 (Dense)             (7680, 32)                1056      \n",
      "                                                                 \n",
      " dense_4 (Dense)             (7680, 32)                1056      \n",
      "                                                                 \n",
      " dropout (Dropout)           (7680, 32)                0         \n",
      "                                                                 \n",
      " dense_5 (Dense)             (7680, 1)                 33        \n",
      "                                                                 \n",
      "=================================================================\n",
      "Total params: 5,697,569\n",
      "Trainable params: 5,697,569\n",
      "Non-trainable params: 0\n",
      "_________________________________________________________________\n"
     ]
    }
   ],
   "source": [
    "# Get the top 2 models.\n",
    "models = tuner.get_best_models(num_models=2)\n",
    "best_model = models[0]\n",
    "# Build the model.\n",
    "# Needed for `Sequential` without specified `input_shape`.\n",
    "best_model.build(input_shape=(X_train.shape))\n",
    "best_model.summary()"
   ]
  },
  {
   "cell_type": "code",
   "execution_count": 102,
   "id": "b11f4a5b",
   "metadata": {},
   "outputs": [
    {
     "name": "stdout",
     "output_type": "stream",
     "text": [
      "Results summary\n",
      "Results in res\\untitled_project\n",
      "Showing 10 best trials\n",
      "<keras_tuner.engine.objective.Objective object at 0x000002B9B22771C0>\n",
      "Trial summary\n",
      "Hyperparameters:\n",
      "num_layers: 5\n",
      "units_0: 192\n",
      "activation: tanh\n",
      "dropout: True\n",
      "lr: 0.0029337451866963586\n",
      "units_1: 736\n",
      "tuner/epochs: 2\n",
      "tuner/initial_epoch: 0\n",
      "tuner/bracket: 2\n",
      "tuner/round: 0\n",
      "units_2: 32\n",
      "units_3: 32\n",
      "units_4: 32\n",
      "Score: 0.8430989384651184\n",
      "Trial summary\n",
      "Hyperparameters:\n",
      "num_layers: 2\n",
      "units_0: 768\n",
      "activation: tanh\n",
      "dropout: False\n",
      "lr: 0.00016119408018064115\n",
      "units_1: 480\n",
      "units_2: 704\n",
      "units_3: 192\n",
      "units_4: 288\n",
      "tuner/epochs: 2\n",
      "tuner/initial_epoch: 0\n",
      "tuner/bracket: 2\n",
      "tuner/round: 0\n",
      "Score: 0.8430989384651184\n",
      "Trial summary\n",
      "Hyperparameters:\n",
      "num_layers: 4\n",
      "units_0: 608\n",
      "activation: tanh\n",
      "dropout: True\n",
      "lr: 0.00013404995709128298\n",
      "units_1: 800\n",
      "units_2: 480\n",
      "units_3: 832\n",
      "units_4: 544\n",
      "tuner/epochs: 2\n",
      "tuner/initial_epoch: 0\n",
      "tuner/bracket: 2\n",
      "tuner/round: 0\n",
      "Score: 0.8430989384651184\n",
      "Trial summary\n",
      "Hyperparameters:\n",
      "num_layers: 3\n",
      "units_0: 288\n",
      "activation: tanh\n",
      "dropout: False\n",
      "lr: 0.0007178100162785227\n",
      "units_1: 512\n",
      "units_2: 800\n",
      "units_3: 64\n",
      "units_4: 224\n",
      "tuner/epochs: 2\n",
      "tuner/initial_epoch: 0\n",
      "tuner/bracket: 2\n",
      "tuner/round: 0\n",
      "Score: 0.8430989384651184\n",
      "Trial summary\n",
      "Hyperparameters:\n",
      "num_layers: 2\n",
      "units_0: 768\n",
      "activation: tanh\n",
      "dropout: False\n",
      "lr: 0.00016119408018064115\n",
      "units_1: 480\n",
      "units_2: 704\n",
      "units_3: 192\n",
      "units_4: 288\n",
      "tuner/epochs: 4\n",
      "tuner/initial_epoch: 2\n",
      "tuner/bracket: 2\n",
      "tuner/round: 1\n",
      "tuner/trial_id: 0006\n",
      "Score: 0.8430989384651184\n",
      "Trial summary\n",
      "Hyperparameters:\n",
      "num_layers: 3\n",
      "units_0: 288\n",
      "activation: tanh\n",
      "dropout: False\n",
      "lr: 0.0007178100162785227\n",
      "units_1: 512\n",
      "units_2: 800\n",
      "units_3: 64\n",
      "units_4: 224\n",
      "tuner/epochs: 4\n",
      "tuner/initial_epoch: 2\n",
      "tuner/bracket: 2\n",
      "tuner/round: 1\n",
      "tuner/trial_id: 0010\n",
      "Score: 0.8430989384651184\n",
      "Trial summary\n",
      "Hyperparameters:\n",
      "num_layers: 2\n",
      "units_0: 768\n",
      "activation: tanh\n",
      "dropout: False\n",
      "lr: 0.00016119408018064115\n",
      "units_1: 480\n",
      "units_2: 704\n",
      "units_3: 192\n",
      "units_4: 288\n",
      "tuner/epochs: 10\n",
      "tuner/initial_epoch: 4\n",
      "tuner/bracket: 2\n",
      "tuner/round: 2\n",
      "tuner/trial_id: 0013\n",
      "Score: 0.8430989384651184\n",
      "Trial summary\n",
      "Hyperparameters:\n",
      "num_layers: 2\n",
      "units_0: 704\n",
      "activation: tanh\n",
      "dropout: True\n",
      "lr: 0.0023889707765900976\n",
      "units_1: 704\n",
      "units_2: 352\n",
      "units_3: 736\n",
      "units_4: 928\n",
      "tuner/epochs: 4\n",
      "tuner/initial_epoch: 0\n",
      "tuner/bracket: 1\n",
      "tuner/round: 0\n",
      "Score: 0.8430989384651184\n",
      "Trial summary\n",
      "Hyperparameters:\n",
      "num_layers: 2\n",
      "units_0: 896\n",
      "activation: tanh\n",
      "dropout: False\n",
      "lr: 0.002053040292245905\n",
      "units_1: 192\n",
      "units_2: 928\n",
      "units_3: 320\n",
      "units_4: 672\n",
      "tuner/epochs: 2\n",
      "tuner/initial_epoch: 0\n",
      "tuner/bracket: 2\n",
      "tuner/round: 0\n",
      "Score: 0.8424479365348816\n",
      "Trial summary\n",
      "Hyperparameters:\n",
      "num_layers: 2\n",
      "units_0: 224\n",
      "activation: selu\n",
      "dropout: False\n",
      "lr: 0.0016528518972563707\n",
      "units_1: 416\n",
      "units_2: 864\n",
      "units_3: 32\n",
      "units_4: 704\n",
      "tuner/epochs: 2\n",
      "tuner/initial_epoch: 0\n",
      "tuner/bracket: 2\n",
      "tuner/round: 0\n",
      "Score: 0.8424479365348816\n"
     ]
    }
   ],
   "source": [
    "tuner.results_summary()"
   ]
  },
  {
   "cell_type": "code",
   "execution_count": 103,
   "id": "0097b221",
   "metadata": {},
   "outputs": [
    {
     "name": "stdout",
     "output_type": "stream",
     "text": [
      "Epoch 1/50\n",
      "240/240 [==============================] - 2s 7ms/step - loss: 0.0000e+00 - accuracy: 0.8232 - val_loss: 0.0000e+00 - val_accuracy: 0.8339\n",
      "Epoch 2/50\n",
      "240/240 [==============================] - 2s 7ms/step - loss: 0.0000e+00 - accuracy: 0.8336 - val_loss: 0.0000e+00 - val_accuracy: 0.8380\n",
      "Epoch 3/50\n",
      "240/240 [==============================] - 2s 7ms/step - loss: 0.0000e+00 - accuracy: 0.8350 - val_loss: 0.0000e+00 - val_accuracy: 0.8380\n",
      "Epoch 4/50\n",
      "240/240 [==============================] - 2s 8ms/step - loss: 0.0000e+00 - accuracy: 0.8349 - val_loss: 0.0000e+00 - val_accuracy: 0.8380\n",
      "Epoch 5/50\n",
      "240/240 [==============================] - 2s 7ms/step - loss: 0.0000e+00 - accuracy: 0.8349 - val_loss: 0.0000e+00 - val_accuracy: 0.8375\n",
      "Epoch 6/50\n",
      "240/240 [==============================] - 2s 7ms/step - loss: 0.0000e+00 - accuracy: 0.8349 - val_loss: 0.0000e+00 - val_accuracy: 0.8380\n",
      "Epoch 7/50\n",
      "240/240 [==============================] - 2s 7ms/step - loss: 0.0000e+00 - accuracy: 0.8349 - val_loss: 0.0000e+00 - val_accuracy: 0.8380\n",
      "Epoch 8/50\n",
      "240/240 [==============================] - 2s 8ms/step - loss: 0.0000e+00 - accuracy: 0.8349 - val_loss: 0.0000e+00 - val_accuracy: 0.8380\n",
      "Epoch 9/50\n",
      "240/240 [==============================] - 2s 7ms/step - loss: 0.0000e+00 - accuracy: 0.8349 - val_loss: 0.0000e+00 - val_accuracy: 0.8380\n",
      "Epoch 10/50\n",
      "240/240 [==============================] - 2s 8ms/step - loss: 0.0000e+00 - accuracy: 0.8349 - val_loss: 0.0000e+00 - val_accuracy: 0.8380\n",
      "Epoch 11/50\n",
      "240/240 [==============================] - 2s 7ms/step - loss: 0.0000e+00 - accuracy: 0.8349 - val_loss: 0.0000e+00 - val_accuracy: 0.8380\n",
      "Epoch 12/50\n",
      "240/240 [==============================] - 2s 7ms/step - loss: 0.0000e+00 - accuracy: 0.8349 - val_loss: 0.0000e+00 - val_accuracy: 0.8380\n",
      "Epoch 13/50\n",
      "240/240 [==============================] - 2s 7ms/step - loss: 0.0000e+00 - accuracy: 0.8349 - val_loss: 0.0000e+00 - val_accuracy: 0.8380\n",
      "Epoch 14/50\n",
      "240/240 [==============================] - 2s 6ms/step - loss: 0.0000e+00 - accuracy: 0.8349 - val_loss: 0.0000e+00 - val_accuracy: 0.8380\n",
      "Epoch 15/50\n",
      "240/240 [==============================] - 2s 6ms/step - loss: 0.0000e+00 - accuracy: 0.8349 - val_loss: 0.0000e+00 - val_accuracy: 0.8380\n",
      "Epoch 16/50\n",
      "240/240 [==============================] - 2s 6ms/step - loss: 0.0000e+00 - accuracy: 0.8349 - val_loss: 0.0000e+00 - val_accuracy: 0.8380\n",
      "Epoch 17/50\n",
      "240/240 [==============================] - 2s 6ms/step - loss: 0.0000e+00 - accuracy: 0.8349 - val_loss: 0.0000e+00 - val_accuracy: 0.8380\n",
      "Epoch 18/50\n",
      "240/240 [==============================] - 2s 6ms/step - loss: 0.0000e+00 - accuracy: 0.8349 - val_loss: 0.0000e+00 - val_accuracy: 0.8380\n",
      "Epoch 19/50\n",
      "240/240 [==============================] - 1s 6ms/step - loss: 0.0000e+00 - accuracy: 0.8349 - val_loss: 0.0000e+00 - val_accuracy: 0.8380\n",
      "Epoch 20/50\n",
      "240/240 [==============================] - 1s 6ms/step - loss: 0.0000e+00 - accuracy: 0.8349 - val_loss: 0.0000e+00 - val_accuracy: 0.8380\n",
      "Epoch 21/50\n",
      "240/240 [==============================] - 1s 6ms/step - loss: 0.0000e+00 - accuracy: 0.8349 - val_loss: 0.0000e+00 - val_accuracy: 0.8380\n",
      "Epoch 22/50\n",
      "240/240 [==============================] - 2s 7ms/step - loss: 0.0000e+00 - accuracy: 0.8349 - val_loss: 0.0000e+00 - val_accuracy: 0.8380\n",
      "Epoch 23/50\n",
      "240/240 [==============================] - 2s 7ms/step - loss: 0.0000e+00 - accuracy: 0.8349 - val_loss: 0.0000e+00 - val_accuracy: 0.8380\n",
      "Epoch 24/50\n",
      "240/240 [==============================] - 2s 7ms/step - loss: 0.0000e+00 - accuracy: 0.8349 - val_loss: 0.0000e+00 - val_accuracy: 0.8380\n",
      "Epoch 25/50\n",
      "240/240 [==============================] - 2s 7ms/step - loss: 0.0000e+00 - accuracy: 0.8349 - val_loss: 0.0000e+00 - val_accuracy: 0.8380\n",
      "Epoch 26/50\n",
      "240/240 [==============================] - 2s 7ms/step - loss: 0.0000e+00 - accuracy: 0.8349 - val_loss: 0.0000e+00 - val_accuracy: 0.8380\n",
      "Epoch 27/50\n",
      "240/240 [==============================] - 2s 7ms/step - loss: 0.0000e+00 - accuracy: 0.8349 - val_loss: 0.0000e+00 - val_accuracy: 0.8380\n",
      "Epoch 28/50\n",
      "240/240 [==============================] - 2s 7ms/step - loss: 0.0000e+00 - accuracy: 0.8349 - val_loss: 0.0000e+00 - val_accuracy: 0.8380\n",
      "Epoch 29/50\n",
      "240/240 [==============================] - 2s 7ms/step - loss: 0.0000e+00 - accuracy: 0.8349 - val_loss: 0.0000e+00 - val_accuracy: 0.8380\n",
      "Epoch 30/50\n",
      "240/240 [==============================] - 2s 7ms/step - loss: 0.0000e+00 - accuracy: 0.8349 - val_loss: 0.0000e+00 - val_accuracy: 0.8380\n",
      "Epoch 31/50\n",
      "240/240 [==============================] - 2s 7ms/step - loss: 0.0000e+00 - accuracy: 0.8349 - val_loss: 0.0000e+00 - val_accuracy: 0.8380\n",
      "Epoch 32/50\n",
      "240/240 [==============================] - 2s 7ms/step - loss: 0.0000e+00 - accuracy: 0.8349 - val_loss: 0.0000e+00 - val_accuracy: 0.8380\n",
      "Epoch 33/50\n",
      "240/240 [==============================] - 2s 7ms/step - loss: 0.0000e+00 - accuracy: 0.8349 - val_loss: 0.0000e+00 - val_accuracy: 0.8380\n",
      "Epoch 34/50\n",
      "240/240 [==============================] - 2s 6ms/step - loss: 0.0000e+00 - accuracy: 0.8349 - val_loss: 0.0000e+00 - val_accuracy: 0.8380\n",
      "Epoch 35/50\n",
      "240/240 [==============================] - 2s 7ms/step - loss: 0.0000e+00 - accuracy: 0.8349 - val_loss: 0.0000e+00 - val_accuracy: 0.8380\n",
      "Epoch 36/50\n",
      "240/240 [==============================] - 2s 7ms/step - loss: 0.0000e+00 - accuracy: 0.8349 - val_loss: 0.0000e+00 - val_accuracy: 0.8380\n",
      "Epoch 37/50\n",
      "240/240 [==============================] - 2s 7ms/step - loss: 0.0000e+00 - accuracy: 0.8349 - val_loss: 0.0000e+00 - val_accuracy: 0.8380\n",
      "Epoch 38/50\n",
      "240/240 [==============================] - 2s 7ms/step - loss: 0.0000e+00 - accuracy: 0.8349 - val_loss: 0.0000e+00 - val_accuracy: 0.8380\n",
      "Epoch 39/50\n",
      "240/240 [==============================] - 2s 7ms/step - loss: 0.0000e+00 - accuracy: 0.8349 - val_loss: 0.0000e+00 - val_accuracy: 0.8380\n",
      "Epoch 40/50\n",
      "240/240 [==============================] - 2s 8ms/step - loss: 0.0000e+00 - accuracy: 0.8349 - val_loss: 0.0000e+00 - val_accuracy: 0.8380\n",
      "Epoch 41/50\n",
      "240/240 [==============================] - 2s 7ms/step - loss: 0.0000e+00 - accuracy: 0.8349 - val_loss: 0.0000e+00 - val_accuracy: 0.8380\n",
      "Epoch 42/50\n",
      "240/240 [==============================] - 2s 7ms/step - loss: 0.0000e+00 - accuracy: 0.8349 - val_loss: 0.0000e+00 - val_accuracy: 0.8380\n",
      "Epoch 43/50\n",
      "240/240 [==============================] - 2s 7ms/step - loss: 0.0000e+00 - accuracy: 0.8349 - val_loss: 0.0000e+00 - val_accuracy: 0.8380\n",
      "Epoch 44/50\n",
      "240/240 [==============================] - 2s 7ms/step - loss: 0.0000e+00 - accuracy: 0.8349 - val_loss: 0.0000e+00 - val_accuracy: 0.8380\n",
      "Epoch 45/50\n",
      "240/240 [==============================] - 2s 7ms/step - loss: 0.0000e+00 - accuracy: 0.8349 - val_loss: 0.0000e+00 - val_accuracy: 0.8380\n",
      "Epoch 46/50\n",
      "240/240 [==============================] - 2s 6ms/step - loss: 0.0000e+00 - accuracy: 0.8349 - val_loss: 0.0000e+00 - val_accuracy: 0.8380\n",
      "Epoch 47/50\n",
      "240/240 [==============================] - 2s 7ms/step - loss: 0.0000e+00 - accuracy: 0.8349 - val_loss: 0.0000e+00 - val_accuracy: 0.8380\n",
      "Epoch 48/50\n",
      "240/240 [==============================] - 2s 6ms/step - loss: 0.0000e+00 - accuracy: 0.8349 - val_loss: 0.0000e+00 - val_accuracy: 0.8380\n",
      "Epoch 49/50\n",
      "240/240 [==============================] - 2s 7ms/step - loss: 0.0000e+00 - accuracy: 0.8349 - val_loss: 0.0000e+00 - val_accuracy: 0.8380\n",
      "Epoch 50/50\n",
      "240/240 [==============================] - 1s 6ms/step - loss: 0.0000e+00 - accuracy: 0.8349 - val_loss: 0.0000e+00 - val_accuracy: 0.8380\n"
     ]
    }
   ],
   "source": [
    "best_hps = tuner.get_best_hyperparameters(5)\n",
    "# Build the model with the best hp.\n",
    "model = tuner.hypermodel.build(best_hps[0])\n",
    "# Fit with the entire dataset.\n",
    "x_all = np.concatenate((X_train, X_val))\n",
    "y_all = np.concatenate((y_train, y_val))\n",
    "history = model.fit(x_all, y_all, epochs=50, validation_split=0.2)"
   ]
  },
  {
   "cell_type": "code",
   "execution_count": 104,
   "id": "408ae928",
   "metadata": {},
   "outputs": [
    {
     "name": "stdout",
     "output_type": "stream",
     "text": [
      "75/75 [==============================] - 0s 3ms/step - loss: 0.0000e+00 - accuracy: 0.8250\n"
     ]
    }
   ],
   "source": [
    "results = model.evaluate(X_test, y_test, batch_size=batch)"
   ]
  },
  {
   "cell_type": "code",
   "execution_count": 105,
   "id": "88cc0932",
   "metadata": {},
   "outputs": [
    {
     "name": "stdout",
     "output_type": "stream",
     "text": [
      "75/75 [==============================] - 0s 2ms/step\n"
     ]
    }
   ],
   "source": [
    "predictions = model.predict(X_test)"
   ]
  },
  {
   "cell_type": "code",
   "execution_count": null,
   "id": "71364e54",
   "metadata": {},
   "outputs": [],
   "source": []
  }
 ],
 "metadata": {
  "kernelspec": {
   "display_name": "Python 3 (ipykernel)",
   "language": "python",
   "name": "python3"
  },
  "language_info": {
   "codemirror_mode": {
    "name": "ipython",
    "version": 3
   },
   "file_extension": ".py",
   "mimetype": "text/x-python",
   "name": "python",
   "nbconvert_exporter": "python",
   "pygments_lexer": "ipython3",
   "version": "3.9.7"
  },
  "vscode": {
   "interpreter": {
    "hash": "26eab8343ce5ed02de4098c10e314ebb45ce0ac5e34fea85423d6f141bc9ca67"
   }
  }
 },
 "nbformat": 4,
 "nbformat_minor": 5
}
