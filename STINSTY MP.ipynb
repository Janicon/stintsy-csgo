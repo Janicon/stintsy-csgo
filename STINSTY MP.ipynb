{
 "cells": [
  {
   "cell_type": "markdown",
   "id": "2381fe3a",
   "metadata": {},
   "source": [
    "### Delete this later\n",
    "NOTE TBD: means notes for us, to be deleted"
   ]
  },
  {
   "cell_type": "markdown",
   "id": "f39e0a6d",
   "metadata": {},
   "source": [
    "# STINTSY Machine Project\n",
    "#### S14 Group X\n",
    "- Aldecoa, Renzel Raphael\n",
    "- Bautista, Carlo Gabriel\n",
    "- Canicon, Jan Ambro"
   ]
  },
  {
   "cell_type": "markdown",
   "id": "35b6eff0",
   "metadata": {},
   "source": [
    "# CS:GO Cheating Dataset\n",
    "The [dataset](https://www.kaggle.com/datasets/emstatsl/csgo-cheating-dataset) used features gameplay input from players, segregated into non-cheating (henceforth \"legit\") and cheating players. The main task with the dataset is to categorize players as \"cheating\" based on their game input. There are a total of `12 000` samples in the dataset, divided into two groups of `10 000` legit players and `2 000` cheating players.\n",
    "\n",
    "The dataset has a shape of `[X, 30, 192, 5]`, with the dimensions as follows:\n",
    "- `X` — `player` the number of players in the subset (`10 000` legit, `2 000` cheater)\n",
    "- `30` — `engagement` specifies the encounter with other players\n",
    "- `192` — `game_tick` in-game time increment holding player vectors and other game info\n",
    "- `5` — `player_input` input sent by players such as change in aim yaw and pitch\n",
    "\n",
    "The player input dimension of the dataset can be further explained as follows:\n",
    "- `AttackerDeltaYaw`, `AttackerDeltaPitch`\n",
    "    - Change in the direction of the attacking player’s aim\n",
    "- `CrosshairToVictimYaw`, `CrosshairToVictimPitch`\n",
    "    - Distance remaining between the attacker’s crosshair and target’s hitbox\n",
    "- `Firing`\n",
    "    - Whether the attacker is firing or not\n",
    "\n",
    "Additionally note that yaw refers to the left-right movement axis, and pitch refers to up-down movement axis. These are scaled in the 360-degree measurement, with a range of `[-180, 180]`.\n",
    "\n",
    "TODO: Explain features more"
   ]
  },
  {
   "cell_type": "markdown",
   "id": "da7f0a04",
   "metadata": {},
   "source": [
    "# Dependencies\n",
    "NOTE TBD: The `pip install` stuff"
   ]
  },
  {
   "cell_type": "markdown",
   "id": "f5ff5d48",
   "metadata": {},
   "source": [
    "# Library Imports"
   ]
  },
  {
   "cell_type": "code",
   "execution_count": 3,
   "id": "e459f3f0",
   "metadata": {},
   "outputs": [],
   "source": [
    "import numpy as np\n",
    "import pandas as pd\n",
    "import matplotlib.pyplot as plt"
   ]
  },
  {
   "cell_type": "markdown",
   "id": "9ceee149",
   "metadata": {},
   "source": [
    "# Loading the dataset"
   ]
  },
  {
   "cell_type": "code",
   "execution_count": 4,
   "id": "f75ee4d1",
   "metadata": {},
   "outputs": [
    {
     "name": "stdout",
     "output_type": "stream",
     "text": [
      "Legit: (10000, 30, 192, 5)\n",
      "Cheaters: (2000, 30, 192, 5)\n"
     ]
    }
   ],
   "source": [
    "legit_data = np.load('legit.npy')\n",
    "cheaters_data = np.load('cheaters.npy')\n",
    "\n",
    "print('Legit:', legit_data.shape)\n",
    "print('Cheaters:', cheaters_data.shape)"
   ]
  },
  {
   "cell_type": "markdown",
   "id": "a8a9693f",
   "metadata": {},
   "source": [
    "# Preprocessing\n",
    "TODO: Possibly balance the ratio of legit and cheaters?"
   ]
  },
  {
   "cell_type": "markdown",
   "id": "ab2c3832",
   "metadata": {},
   "source": [
    "The dataset is stored in a format of `[player, engagement, game_tick, player_input]`, and we can further flatten it by combining `engagement` and `game_tick` as `tick`, because these are all []. However, we cannot further flatten `player_input` with `tick` because these are the features, and flattening would scramble them. Thus, we will be training and testing the model with a 3-dimensional dataset later on.\n",
    "\n",
    "After flattening the dimensions, we can also combine the two datasets."
   ]
  },
  {
   "cell_type": "code",
   "execution_count": 5,
   "id": "b80b6a87",
   "metadata": {},
   "outputs": [
    {
     "name": "stdout",
     "output_type": "stream",
     "text": [
      "Training data shape: (12000, 5760, 5)\n"
     ]
    }
   ],
   "source": [
    "# Combines the dimensions engagement and game_tick\n",
    "legit_data = legit_data.reshape(10000, 5760, 5)\n",
    "cheaters_data = cheaters_data.reshape(2000, 5760, 5)\n",
    "\n",
    "# Combine legit and cheater datasets\n",
    "X_players = np.vstack([legit_data, cheaters_data])\n",
    "print('Training data shape:', X_players.shape)"
   ]
  },
  {
   "cell_type": "markdown",
   "id": "fb00c57b",
   "metadata": {},
   "source": [
    "Since we append the cheaters to the end of the list of legit players, we can easily create a list that contains their classes by using the length of each list. The classes will be:\n",
    "- `0` — `Legit` player\n",
    "- `1` — `Cheating` player"
   ]
  },
  {
   "cell_type": "code",
   "execution_count": 6,
   "id": "e4a0afe9",
   "metadata": {},
   "outputs": [
    {
     "name": "stdout",
     "output_type": "stream",
     "text": [
      "Ground truth values shape: (12000,)\n"
     ]
    }
   ],
   "source": [
    "# Create truth values for combined list\n",
    "y_players = np.append(\n",
    "        np.zeros(legit_data.shape[0], dtype=int),\n",
    "        np.full(cheaters_data.shape[0], 1, dtype=int)\n",
    ")\n",
    "print('Ground truth values shape:', y_players.shape)"
   ]
  },
  {
   "cell_type": "markdown",
   "id": "6ecd1833",
   "metadata": {},
   "source": [
    "In order to add more randomness for the splitting of the train and test sets later on, we shuffle this combined list. To do so while keeping the correspondence of the rows from both lists, we shuffle the indices instead and assign them to both lists."
   ]
  },
  {
   "cell_type": "code",
   "execution_count": 9,
   "id": "c5715484",
   "metadata": {},
   "outputs": [],
   "source": [
    "# https://stackoverflow.com/questions/23289547/shuffle-two-list-at-once-with-same-order\n",
    "# Generate shuffled indices\n",
    "indices = np.arange(X_players.shape[0])\n",
    "np.random.shuffle(indices)\n",
    "\n",
    "# Assign shuffled indices to both lists\n",
    "X_players = X_players[indices]\n",
    "y_players = y_players[indices]"
   ]
  },
  {
   "cell_type": "code",
   "execution_count": null,
   "id": "03bf6661",
   "metadata": {},
   "outputs": [],
   "source": [
    "legit"
   ]
  },
  {
   "cell_type": "code",
   "execution_count": null,
   "id": "06ab4317",
   "metadata": {},
   "outputs": [],
   "source": [
    "legit.describe()"
   ]
  },
  {
   "cell_type": "code",
   "execution_count": null,
   "id": "0d70a6f6",
   "metadata": {},
   "outputs": [],
   "source": [
    "cheater.describe()"
   ]
  },
  {
   "cell_type": "code",
   "execution_count": null,
   "id": "d795a8e0",
   "metadata": {},
   "outputs": [],
   "source": [
    "fig = plt.figure(figsize=(15,15))\n",
    "\n",
    "ax1 = fig.add_subplot(411)\n",
    "plt.plot(legit['AttackerDeltaYaw'])\n",
    "plt.plot(cheater['AttackerDeltaYaw'])\n",
    "ax1.set_title('AttackerDeltaYaw')\n",
    "\n",
    "ax2 = fig.add_subplot(412)\n",
    "plt.plot(legit['AttackerDeltaPitch'])\n",
    "plt.plot(cheater['AttackerDeltaPitch'])\n",
    "ax2.set_title('AttackerDeltaPitch')\n",
    "\n",
    "ax3 = fig.add_subplot(413)\n",
    "plt.plot(legit['CrosshairToVictimYaw'])\n",
    "plt.plot(cheater['CrosshairToVictimYaw'])\n",
    "ax3.set_title('CrosshairToVictimYaw')\n",
    "\n",
    "ax4 = fig.add_subplot(414)\n",
    "plt.plot(legit['CrosshairToVictimPitch'])\n",
    "plt.plot(cheater['CrosshairToVictimPitch'])\n",
    "ax4.set_title('CrosshairToVictimPitch')"
   ]
  },
  {
   "cell_type": "code",
   "execution_count": null,
   "id": "9dce9b5c",
   "metadata": {},
   "outputs": [],
   "source": [
    "cols = ['AttackerDeltaYaw', 'AttackerDeltaPitch', 'CrosshairToVictimYaw', 'CrosshairToVictimPitch', 'Firing']\n",
    "rows = ['Tick ' + str(i) for i in range(1, 193)]\n",
    "\n",
    "legit_df = pd.DataFrame(legit_data[0][0], index=rows, columns=cols)\n",
    "cheaters_df = pd.DataFrame(cheaters_data[0][0], index=rows, columns=cols)"
   ]
  },
  {
   "cell_type": "markdown",
   "id": "e9f72d1e",
   "metadata": {},
   "source": [
    "# Test (Based on NB5)"
   ]
  },
  {
   "cell_type": "code",
   "execution_count": null,
   "id": "9723b7bd",
   "metadata": {},
   "outputs": [],
   "source": []
  }
 ],
 "metadata": {
  "kernelspec": {
   "display_name": "Python 3.8.8 ('base')",
   "language": "python",
   "name": "python3"
  },
  "language_info": {
   "codemirror_mode": {
    "name": "ipython",
    "version": 3
   },
   "file_extension": ".py",
   "mimetype": "text/x-python",
   "name": "python",
   "nbconvert_exporter": "python",
   "pygments_lexer": "ipython3",
   "version": "3.8.8"
  },
  "vscode": {
   "interpreter": {
    "hash": "26eab8343ce5ed02de4098c10e314ebb45ce0ac5e34fea85423d6f141bc9ca67"
   }
  }
 },
 "nbformat": 4,
 "nbformat_minor": 5
}
